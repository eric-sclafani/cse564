{
 "cells": [
  {
   "cell_type": "code",
   "execution_count": 5,
   "id": "040c0516",
   "metadata": {},
   "outputs": [],
   "source": [
    "import plotly.express as px\n",
    "from sklearn.decomposition import PCA\n",
    "from sklearn.preprocessing import StandardScaler\n",
    "from sklearn.cluster import KMeans\n",
    "import numpy as np\n",
    "import pandas as pd\n",
    "import warnings\n",
    "warnings.simplefilter(action='ignore', category=FutureWarning) # suppress annoying kmeans future warning \n",
    "\n",
    "scaler = StandardScaler()\n",
    "df = pd.read_csv(\"data/pan22_features.csv\", index_col=None)\n",
    "\n",
    "X = df.drop(columns=[\"author_id\", \"discourse_type\"]).values\n",
    "\n",
    "X_scaled = scaler.fit_transform(X)\n",
    "Y = df[\"author_id\"].values"
   ]
  },
  {
   "attachments": {},
   "cell_type": "markdown",
   "id": "e4fea065",
   "metadata": {},
   "source": [
    "# n_components experiments\n",
    "\n",
    "The following cell finds the `number of components` most suited for this data, which turns out to be 7"
   ]
  },
  {
   "cell_type": "code",
   "execution_count": 3,
   "id": "e13ee061",
   "metadata": {},
   "outputs": [],
   "source": [
    "X_scaled = scaler.fit_transform(X)\n",
    "\n",
    "THRESHOLD = 5.5\n",
    "for n in range(1,100):\n",
    "    pca = PCA(n_components=n)\n",
    "    pca_features = pca.fit_transform(X_scaled)\n",
    "    #print(f\"n_components: {n}, Explained variance: {pca.explained_variance_[-1]}\")\n",
    "    \n",
    "    if pca.explained_variance_[-1] < THRESHOLD:\n",
    "        # print(f\"Final n = {n}\")\n",
    "        # print(f\"Final Explained variance = {pca.explained_variance_}\")\n",
    "        break\n",
    "    \n",
    "X_reduced = pca.fit_transform(X_scaled)"
   ]
  },
  {
   "cell_type": "code",
   "execution_count": 53,
   "id": "512454d4",
   "metadata": {},
   "outputs": [],
   "source": [
    "model = KMeans(n_clusters=3, random_state=1)\n",
    "model.fit(X_reduced)\n",
    "\n",
    "pca_data_df = pd.DataFrame(X_reduced).rename(columns={0:\"PC1\", 1:\"PC2\", 2:\"PC3\", 3:\"PC4\", 4:\"PC5\", 5:\"PC6\", 6:\"PC7\"})\n",
    "kmeans_cluster_labels = pd.DataFrame({\"Cluster\":model.labels_})\n",
    "\n",
    "kmeans_pca_df = pd.concat([df, pca_data_df, kmeans_cluster_labels], axis=1)"
   ]
  },
  {
   "cell_type": "markdown",
   "id": "72986cf9",
   "metadata": {},
   "source": []
  },
  {
   "cell_type": "code",
   "execution_count": 56,
   "id": "7714e594",
   "metadata": {},
   "outputs": [
    {
     "data": {
      "text/plain": [
       "(7, 407)"
      ]
     },
     "execution_count": 56,
     "metadata": {},
     "output_type": "execute_result"
    }
   ],
   "source": []
  },
  {
   "cell_type": "code",
   "execution_count": null,
   "id": "59990951",
   "metadata": {},
   "outputs": [],
   "source": []
  }
 ],
 "metadata": {
  "kernelspec": {
   "display_name": ".venv",
   "language": "python",
   "name": "python3"
  },
  "language_info": {
   "codemirror_mode": {
    "name": "ipython",
    "version": 3
   },
   "file_extension": ".py",
   "mimetype": "text/x-python",
   "name": "python",
   "nbconvert_exporter": "python",
   "pygments_lexer": "ipython3",
   "version": "3.9.12"
  },
  "vscode": {
   "interpreter": {
    "hash": "5f794bdd9ae3ffb1bdf9fdde55f6fe035b32b54e54861b9d1527d89ae86036ab"
   }
  }
 },
 "nbformat": 4,
 "nbformat_minor": 5
}
