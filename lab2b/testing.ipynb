{
 "cells": [
  {
   "cell_type": "code",
   "execution_count": 1,
   "id": "57ac578a-e3c9-4ed5-a7bf-e46142edc1ca",
   "metadata": {},
   "outputs": [
    {
     "data": {
      "text/html": [
       "<div>\n",
       "<style scoped>\n",
       "    .dataframe tbody tr th:only-of-type {\n",
       "        vertical-align: middle;\n",
       "    }\n",
       "\n",
       "    .dataframe tbody tr th {\n",
       "        vertical-align: top;\n",
       "    }\n",
       "\n",
       "    .dataframe thead th {\n",
       "        text-align: right;\n",
       "    }\n",
       "</style>\n",
       "<table border=\"1\" class=\"dataframe\">\n",
       "  <thead>\n",
       "    <tr style=\"text-align: right;\">\n",
       "      <th></th>\n",
       "      <th>ADJ</th>\n",
       "      <th>ADP</th>\n",
       "      <th>ADV</th>\n",
       "      <th>AUX</th>\n",
       "      <th>CCONJ</th>\n",
       "      <th>DET</th>\n",
       "      <th>INTJ</th>\n",
       "      <th>NOUN</th>\n",
       "      <th>NUM</th>\n",
       "      <th>PART</th>\n",
       "      <th>...</th>\n",
       "      <th>('was', 'VERB')</th>\n",
       "      <th>('NOUN', 'is')</th>\n",
       "      <th>('INTJ', 'I')</th>\n",
       "      <th>('VERB', 'your')</th>\n",
       "      <th>('can', 'VERB')</th>\n",
       "      <th>('NOUN', 'was')</th>\n",
       "      <th>('NOUN', 'have')</th>\n",
       "      <th>('an', 'NOUN')</th>\n",
       "      <th>('ADV', 'the')</th>\n",
       "      <th>('n’t', 'VERB')</th>\n",
       "    </tr>\n",
       "    <tr>\n",
       "      <th>0</th>\n",
       "      <th></th>\n",
       "      <th></th>\n",
       "      <th></th>\n",
       "      <th></th>\n",
       "      <th></th>\n",
       "      <th></th>\n",
       "      <th></th>\n",
       "      <th></th>\n",
       "      <th></th>\n",
       "      <th></th>\n",
       "      <th></th>\n",
       "      <th></th>\n",
       "      <th></th>\n",
       "      <th></th>\n",
       "      <th></th>\n",
       "      <th></th>\n",
       "      <th></th>\n",
       "      <th></th>\n",
       "      <th></th>\n",
       "      <th></th>\n",
       "      <th></th>\n",
       "    </tr>\n",
       "  </thead>\n",
       "  <tbody>\n",
       "    <tr>\n",
       "      <th>ADJ</th>\n",
       "      <td>0.000000</td>\n",
       "      <td>0.988814</td>\n",
       "      <td>0.771448</td>\n",
       "      <td>0.906078</td>\n",
       "      <td>1.132052</td>\n",
       "      <td>1.038133</td>\n",
       "      <td>0.835288</td>\n",
       "      <td>0.866748</td>\n",
       "      <td>1.098346</td>\n",
       "      <td>1.148486</td>\n",
       "      <td>...</td>\n",
       "      <td>1.179542</td>\n",
       "      <td>1.050419</td>\n",
       "      <td>0.975170</td>\n",
       "      <td>1.189326</td>\n",
       "      <td>1.207448</td>\n",
       "      <td>1.137160</td>\n",
       "      <td>1.199493</td>\n",
       "      <td>1.191803</td>\n",
       "      <td>1.107316</td>\n",
       "      <td>1.175719</td>\n",
       "    </tr>\n",
       "    <tr>\n",
       "      <th>ADP</th>\n",
       "      <td>0.988814</td>\n",
       "      <td>0.000000</td>\n",
       "      <td>1.069209</td>\n",
       "      <td>1.075143</td>\n",
       "      <td>1.029357</td>\n",
       "      <td>0.793767</td>\n",
       "      <td>1.105653</td>\n",
       "      <td>0.726901</td>\n",
       "      <td>1.046739</td>\n",
       "      <td>1.168549</td>\n",
       "      <td>...</td>\n",
       "      <td>1.108848</td>\n",
       "      <td>1.092089</td>\n",
       "      <td>1.190370</td>\n",
       "      <td>1.072902</td>\n",
       "      <td>1.057144</td>\n",
       "      <td>1.103173</td>\n",
       "      <td>1.035565</td>\n",
       "      <td>1.077695</td>\n",
       "      <td>1.089118</td>\n",
       "      <td>1.207448</td>\n",
       "    </tr>\n",
       "    <tr>\n",
       "      <th>ADV</th>\n",
       "      <td>0.771448</td>\n",
       "      <td>1.069209</td>\n",
       "      <td>0.000000</td>\n",
       "      <td>0.645924</td>\n",
       "      <td>1.018252</td>\n",
       "      <td>1.242100</td>\n",
       "      <td>0.627525</td>\n",
       "      <td>1.069976</td>\n",
       "      <td>1.292415</td>\n",
       "      <td>0.906844</td>\n",
       "      <td>...</td>\n",
       "      <td>1.391494</td>\n",
       "      <td>1.387928</td>\n",
       "      <td>1.134240</td>\n",
       "      <td>1.336210</td>\n",
       "      <td>1.277867</td>\n",
       "      <td>1.360370</td>\n",
       "      <td>1.479855</td>\n",
       "      <td>1.416454</td>\n",
       "      <td>1.328107</td>\n",
       "      <td>1.152493</td>\n",
       "    </tr>\n",
       "    <tr>\n",
       "      <th>AUX</th>\n",
       "      <td>0.906078</td>\n",
       "      <td>1.075143</td>\n",
       "      <td>0.645924</td>\n",
       "      <td>0.000000</td>\n",
       "      <td>1.254923</td>\n",
       "      <td>1.068414</td>\n",
       "      <td>0.613003</td>\n",
       "      <td>0.908586</td>\n",
       "      <td>1.389290</td>\n",
       "      <td>0.770053</td>\n",
       "      <td>...</td>\n",
       "      <td>1.406633</td>\n",
       "      <td>1.405571</td>\n",
       "      <td>1.243355</td>\n",
       "      <td>1.417378</td>\n",
       "      <td>1.285829</td>\n",
       "      <td>1.421028</td>\n",
       "      <td>1.485825</td>\n",
       "      <td>1.464667</td>\n",
       "      <td>1.449802</td>\n",
       "      <td>1.198580</td>\n",
       "    </tr>\n",
       "    <tr>\n",
       "      <th>CCONJ</th>\n",
       "      <td>1.132052</td>\n",
       "      <td>1.029357</td>\n",
       "      <td>1.018252</td>\n",
       "      <td>1.254923</td>\n",
       "      <td>0.000000</td>\n",
       "      <td>1.015406</td>\n",
       "      <td>1.192214</td>\n",
       "      <td>1.221713</td>\n",
       "      <td>0.940772</td>\n",
       "      <td>0.924507</td>\n",
       "      <td>...</td>\n",
       "      <td>0.713664</td>\n",
       "      <td>0.720283</td>\n",
       "      <td>0.806346</td>\n",
       "      <td>0.716796</td>\n",
       "      <td>0.682134</td>\n",
       "      <td>0.692152</td>\n",
       "      <td>0.699918</td>\n",
       "      <td>0.705725</td>\n",
       "      <td>0.691939</td>\n",
       "      <td>0.754711</td>\n",
       "    </tr>\n",
       "  </tbody>\n",
       "</table>\n",
       "<p>5 rows × 407 columns</p>\n",
       "</div>"
      ],
      "text/plain": [
       "            ADJ       ADP       ADV       AUX     CCONJ       DET      INTJ  \\\n",
       "0                                                                             \n",
       "ADJ    0.000000  0.988814  0.771448  0.906078  1.132052  1.038133  0.835288   \n",
       "ADP    0.988814  0.000000  1.069209  1.075143  1.029357  0.793767  1.105653   \n",
       "ADV    0.771448  1.069209  0.000000  0.645924  1.018252  1.242100  0.627525   \n",
       "AUX    0.906078  1.075143  0.645924  0.000000  1.254923  1.068414  0.613003   \n",
       "CCONJ  1.132052  1.029357  1.018252  1.254923  0.000000  1.015406  1.192214   \n",
       "\n",
       "           NOUN       NUM      PART  ...  ('was', 'VERB')  ('NOUN', 'is')  \\\n",
       "0                                    ...                                    \n",
       "ADJ    0.866748  1.098346  1.148486  ...         1.179542        1.050419   \n",
       "ADP    0.726901  1.046739  1.168549  ...         1.108848        1.092089   \n",
       "ADV    1.069976  1.292415  0.906844  ...         1.391494        1.387928   \n",
       "AUX    0.908586  1.389290  0.770053  ...         1.406633        1.405571   \n",
       "CCONJ  1.221713  0.940772  0.924507  ...         0.713664        0.720283   \n",
       "\n",
       "       ('INTJ', 'I')  ('VERB', 'your')  ('can', 'VERB')  ('NOUN', 'was')  \\\n",
       "0                                                                          \n",
       "ADJ         0.975170          1.189326         1.207448         1.137160   \n",
       "ADP         1.190370          1.072902         1.057144         1.103173   \n",
       "ADV         1.134240          1.336210         1.277867         1.360370   \n",
       "AUX         1.243355          1.417378         1.285829         1.421028   \n",
       "CCONJ       0.806346          0.716796         0.682134         0.692152   \n",
       "\n",
       "       ('NOUN', 'have')  ('an', 'NOUN')  ('ADV', 'the')  ('n’t', 'VERB')  \n",
       "0                                                                         \n",
       "ADJ            1.199493        1.191803        1.107316         1.175719  \n",
       "ADP            1.035565        1.077695        1.089118         1.207448  \n",
       "ADV            1.479855        1.416454        1.328107         1.152493  \n",
       "AUX            1.485825        1.464667        1.449802         1.198580  \n",
       "CCONJ          0.699918        0.705725        0.691939         0.754711  \n",
       "\n",
       "[5 rows x 407 columns]"
      ]
     },
     "execution_count": 1,
     "metadata": {},
     "output_type": "execute_result"
    }
   ],
   "source": [
    "import plotly.express as px\n",
    "import plotly.graph_objects as go\n",
    "from sklearn.cluster import KMeans\n",
    "from sklearn.manifold import MDS\n",
    "from sklearn.preprocessing import StandardScaler\n",
    "from scipy.spatial.distance import squareform\n",
    "from scipy.spatial.distance import pdist\n",
    "import pandas as pd \n",
    "import warnings\n",
    "warnings.simplefilter(action='ignore', category=FutureWarning) # suppress annoying kmeans future warning\n",
    "warnings.simplefilter(action='ignore', category=DeprecationWarning)\n",
    "\n",
    "scaler = StandardScaler()\n",
    "data_df = pd.read_csv(\"data/pan22_features.csv\")\n",
    "X = data_df.drop(columns=[\"author_id\", \"discourse_type\"])\n",
    "cols = list(X.columns)\n",
    "\n",
    "X_scaled = scaler.fit_transform(X)\n",
    "X_T_scaled = scaler.fit_transform(X.values.T)\n",
    "\n",
    "dis_matrix_df = pd.concat([\n",
    "    pd.DataFrame(cols),\n",
    "    pd.DataFrame(squareform(pdist(X_T_scaled, metric=\"correlation\")))],\n",
    "                       axis=1, ignore_index=True)\n",
    "\n",
    "dis_matrix_df.set_index(0, inplace=True)\n",
    "dis_matrix_df.columns = cols\n",
    "\n",
    "dis_matrix_df.head()"
   ]
  },
  {
   "cell_type": "code",
   "execution_count": 2,
   "id": "25cd8b7e",
   "metadata": {},
   "outputs": [
    {
     "data": {
      "text/html": [
       "<style>#sk-container-id-1 {color: black;background-color: white;}#sk-container-id-1 pre{padding: 0;}#sk-container-id-1 div.sk-toggleable {background-color: white;}#sk-container-id-1 label.sk-toggleable__label {cursor: pointer;display: block;width: 100%;margin-bottom: 0;padding: 0.3em;box-sizing: border-box;text-align: center;}#sk-container-id-1 label.sk-toggleable__label-arrow:before {content: \"▸\";float: left;margin-right: 0.25em;color: #696969;}#sk-container-id-1 label.sk-toggleable__label-arrow:hover:before {color: black;}#sk-container-id-1 div.sk-estimator:hover label.sk-toggleable__label-arrow:before {color: black;}#sk-container-id-1 div.sk-toggleable__content {max-height: 0;max-width: 0;overflow: hidden;text-align: left;background-color: #f0f8ff;}#sk-container-id-1 div.sk-toggleable__content pre {margin: 0.2em;color: black;border-radius: 0.25em;background-color: #f0f8ff;}#sk-container-id-1 input.sk-toggleable__control:checked~div.sk-toggleable__content {max-height: 200px;max-width: 100%;overflow: auto;}#sk-container-id-1 input.sk-toggleable__control:checked~label.sk-toggleable__label-arrow:before {content: \"▾\";}#sk-container-id-1 div.sk-estimator input.sk-toggleable__control:checked~label.sk-toggleable__label {background-color: #d4ebff;}#sk-container-id-1 div.sk-label input.sk-toggleable__control:checked~label.sk-toggleable__label {background-color: #d4ebff;}#sk-container-id-1 input.sk-hidden--visually {border: 0;clip: rect(1px 1px 1px 1px);clip: rect(1px, 1px, 1px, 1px);height: 1px;margin: -1px;overflow: hidden;padding: 0;position: absolute;width: 1px;}#sk-container-id-1 div.sk-estimator {font-family: monospace;background-color: #f0f8ff;border: 1px dotted black;border-radius: 0.25em;box-sizing: border-box;margin-bottom: 0.5em;}#sk-container-id-1 div.sk-estimator:hover {background-color: #d4ebff;}#sk-container-id-1 div.sk-parallel-item::after {content: \"\";width: 100%;border-bottom: 1px solid gray;flex-grow: 1;}#sk-container-id-1 div.sk-label:hover label.sk-toggleable__label {background-color: #d4ebff;}#sk-container-id-1 div.sk-serial::before {content: \"\";position: absolute;border-left: 1px solid gray;box-sizing: border-box;top: 0;bottom: 0;left: 50%;z-index: 0;}#sk-container-id-1 div.sk-serial {display: flex;flex-direction: column;align-items: center;background-color: white;padding-right: 0.2em;padding-left: 0.2em;position: relative;}#sk-container-id-1 div.sk-item {position: relative;z-index: 1;}#sk-container-id-1 div.sk-parallel {display: flex;align-items: stretch;justify-content: center;background-color: white;position: relative;}#sk-container-id-1 div.sk-item::before, #sk-container-id-1 div.sk-parallel-item::before {content: \"\";position: absolute;border-left: 1px solid gray;box-sizing: border-box;top: 0;bottom: 0;left: 50%;z-index: -1;}#sk-container-id-1 div.sk-parallel-item {display: flex;flex-direction: column;z-index: 1;position: relative;background-color: white;}#sk-container-id-1 div.sk-parallel-item:first-child::after {align-self: flex-end;width: 50%;}#sk-container-id-1 div.sk-parallel-item:last-child::after {align-self: flex-start;width: 50%;}#sk-container-id-1 div.sk-parallel-item:only-child::after {width: 0;}#sk-container-id-1 div.sk-dashed-wrapped {border: 1px dashed gray;margin: 0 0.4em 0.5em 0.4em;box-sizing: border-box;padding-bottom: 0.4em;background-color: white;}#sk-container-id-1 div.sk-label label {font-family: monospace;font-weight: bold;display: inline-block;line-height: 1.2em;}#sk-container-id-1 div.sk-label-container {text-align: center;}#sk-container-id-1 div.sk-container {/* jupyter's `normalize.less` sets `[hidden] { display: none; }` but bootstrap.min.css set `[hidden] { display: none !important; }` so we also need the `!important` here to be able to override the default hidden behavior on the sphinx rendered scikit-learn.org. See: https://github.com/scikit-learn/scikit-learn/issues/21755 */display: inline-block !important;position: relative;}#sk-container-id-1 div.sk-text-repr-fallback {display: none;}</style><div id=\"sk-container-id-1\" class=\"sk-top-container\"><div class=\"sk-text-repr-fallback\"><pre>KMeans(n_clusters=9, random_state=42)</pre><b>In a Jupyter environment, please rerun this cell to show the HTML representation or trust the notebook. <br />On GitHub, the HTML representation is unable to render, please try loading this page with nbviewer.org.</b></div><div class=\"sk-container\" hidden><div class=\"sk-item\"><div class=\"sk-estimator sk-toggleable\"><input class=\"sk-toggleable__control sk-hidden--visually\" id=\"sk-estimator-id-1\" type=\"checkbox\" checked><label for=\"sk-estimator-id-1\" class=\"sk-toggleable__label sk-toggleable__label-arrow\">KMeans</label><div class=\"sk-toggleable__content\"><pre>KMeans(n_clusters=9, random_state=42)</pre></div></div></div></div></div>"
      ],
      "text/plain": [
       "KMeans(n_clusters=9, random_state=42)"
      ]
     },
     "execution_count": 2,
     "metadata": {},
     "output_type": "execute_result"
    }
   ],
   "source": [
    "# mds_data = MDS(n_components=2, random_state=42)\n",
    "# mds_variables = MDS(n_components=2, random_state=42, dissimilarity=\"precomputed\")\n",
    "# embedding_data = mds_data.fit_transform(X_scaled)\n",
    "# embedding_variables = mds_variables.fit_transform(dis_matrix_df.values, )\n",
    "\n",
    "kmeans = KMeans(n_clusters=9, random_state=42)\n",
    "kmeans.fit(X_scaled)"
   ]
  },
  {
   "cell_type": "code",
   "execution_count": 18,
   "id": "68e80e2a",
   "metadata": {},
   "outputs": [
    {
     "data": {
      "text/html": [
       "<div>\n",
       "<style scoped>\n",
       "    .dataframe tbody tr th:only-of-type {\n",
       "        vertical-align: middle;\n",
       "    }\n",
       "\n",
       "    .dataframe tbody tr th {\n",
       "        vertical-align: top;\n",
       "    }\n",
       "\n",
       "    .dataframe thead th {\n",
       "        text-align: right;\n",
       "    }\n",
       "</style>\n",
       "<table border=\"1\" class=\"dataframe\">\n",
       "  <thead>\n",
       "    <tr style=\"text-align: right;\">\n",
       "      <th></th>\n",
       "      <th>what</th>\n",
       "      <th>can</th>\n",
       "      <th>('you', 'VERB')</th>\n",
       "      <th>('PRON', 'ADP')</th>\n",
       "      <th>myself</th>\n",
       "      <th>('.', 'ADV')</th>\n",
       "      <th>('VERB', 'DET')</th>\n",
       "      <th>%</th>\n",
       "      <th>('NOUN', 'have')</th>\n",
       "      <th>from</th>\n",
       "    </tr>\n",
       "  </thead>\n",
       "  <tbody>\n",
       "    <tr>\n",
       "      <th>0</th>\n",
       "      <td>0.004098</td>\n",
       "      <td>0.012295</td>\n",
       "      <td>0.019499</td>\n",
       "      <td>0.009302</td>\n",
       "      <td>0.0</td>\n",
       "      <td>0.005571</td>\n",
       "      <td>0.020155</td>\n",
       "      <td>0.000000</td>\n",
       "      <td>0.000000</td>\n",
       "      <td>0.008197</td>\n",
       "    </tr>\n",
       "    <tr>\n",
       "      <th>1</th>\n",
       "      <td>0.010526</td>\n",
       "      <td>0.000000</td>\n",
       "      <td>0.013937</td>\n",
       "      <td>0.007767</td>\n",
       "      <td>0.0</td>\n",
       "      <td>0.010453</td>\n",
       "      <td>0.021359</td>\n",
       "      <td>0.000000</td>\n",
       "      <td>0.010453</td>\n",
       "      <td>0.000000</td>\n",
       "    </tr>\n",
       "    <tr>\n",
       "      <th>2</th>\n",
       "      <td>0.000000</td>\n",
       "      <td>0.000000</td>\n",
       "      <td>0.004695</td>\n",
       "      <td>0.005155</td>\n",
       "      <td>0.0</td>\n",
       "      <td>0.004695</td>\n",
       "      <td>0.036082</td>\n",
       "      <td>0.018868</td>\n",
       "      <td>0.000000</td>\n",
       "      <td>0.000000</td>\n",
       "    </tr>\n",
       "    <tr>\n",
       "      <th>3</th>\n",
       "      <td>0.000000</td>\n",
       "      <td>0.000000</td>\n",
       "      <td>0.000000</td>\n",
       "      <td>0.000000</td>\n",
       "      <td>0.0</td>\n",
       "      <td>0.000000</td>\n",
       "      <td>0.015748</td>\n",
       "      <td>0.000000</td>\n",
       "      <td>0.000000</td>\n",
       "      <td>0.000000</td>\n",
       "    </tr>\n",
       "    <tr>\n",
       "      <th>4</th>\n",
       "      <td>0.000000</td>\n",
       "      <td>0.000000</td>\n",
       "      <td>0.015873</td>\n",
       "      <td>0.000000</td>\n",
       "      <td>0.0</td>\n",
       "      <td>0.000000</td>\n",
       "      <td>0.017391</td>\n",
       "      <td>0.000000</td>\n",
       "      <td>0.000000</td>\n",
       "      <td>0.000000</td>\n",
       "    </tr>\n",
       "    <tr>\n",
       "      <th>...</th>\n",
       "      <td>...</td>\n",
       "      <td>...</td>\n",
       "      <td>...</td>\n",
       "      <td>...</td>\n",
       "      <td>...</td>\n",
       "      <td>...</td>\n",
       "      <td>...</td>\n",
       "      <td>...</td>\n",
       "      <td>...</td>\n",
       "      <td>...</td>\n",
       "    </tr>\n",
       "    <tr>\n",
       "      <th>1042</th>\n",
       "      <td>0.006270</td>\n",
       "      <td>0.010972</td>\n",
       "      <td>0.000000</td>\n",
       "      <td>0.001034</td>\n",
       "      <td>0.0</td>\n",
       "      <td>0.012500</td>\n",
       "      <td>0.014470</td>\n",
       "      <td>0.003968</td>\n",
       "      <td>0.003125</td>\n",
       "      <td>0.009404</td>\n",
       "    </tr>\n",
       "    <tr>\n",
       "      <th>1043</th>\n",
       "      <td>0.000000</td>\n",
       "      <td>0.013514</td>\n",
       "      <td>0.017857</td>\n",
       "      <td>0.000000</td>\n",
       "      <td>0.0</td>\n",
       "      <td>0.000000</td>\n",
       "      <td>0.009302</td>\n",
       "      <td>0.000000</td>\n",
       "      <td>0.000000</td>\n",
       "      <td>0.006757</td>\n",
       "    </tr>\n",
       "    <tr>\n",
       "      <th>1044</th>\n",
       "      <td>0.007576</td>\n",
       "      <td>0.007576</td>\n",
       "      <td>0.009804</td>\n",
       "      <td>0.007282</td>\n",
       "      <td>0.0</td>\n",
       "      <td>0.004902</td>\n",
       "      <td>0.009709</td>\n",
       "      <td>0.000000</td>\n",
       "      <td>0.000000</td>\n",
       "      <td>0.007576</td>\n",
       "    </tr>\n",
       "    <tr>\n",
       "      <th>1045</th>\n",
       "      <td>0.000000</td>\n",
       "      <td>0.009259</td>\n",
       "      <td>0.010753</td>\n",
       "      <td>0.005602</td>\n",
       "      <td>0.0</td>\n",
       "      <td>0.005376</td>\n",
       "      <td>0.025210</td>\n",
       "      <td>0.000000</td>\n",
       "      <td>0.000000</td>\n",
       "      <td>0.000000</td>\n",
       "    </tr>\n",
       "    <tr>\n",
       "      <th>1046</th>\n",
       "      <td>0.010695</td>\n",
       "      <td>0.026738</td>\n",
       "      <td>0.008163</td>\n",
       "      <td>0.004246</td>\n",
       "      <td>0.0</td>\n",
       "      <td>0.000000</td>\n",
       "      <td>0.021231</td>\n",
       "      <td>0.000000</td>\n",
       "      <td>0.000000</td>\n",
       "      <td>0.026738</td>\n",
       "    </tr>\n",
       "  </tbody>\n",
       "</table>\n",
       "<p>1047 rows × 10 columns</p>\n",
       "</div>"
      ],
      "text/plain": [
       "          what       can  ('you', 'VERB')  ('PRON', 'ADP')  myself  \\\n",
       "0     0.004098  0.012295         0.019499         0.009302     0.0   \n",
       "1     0.010526  0.000000         0.013937         0.007767     0.0   \n",
       "2     0.000000  0.000000         0.004695         0.005155     0.0   \n",
       "3     0.000000  0.000000         0.000000         0.000000     0.0   \n",
       "4     0.000000  0.000000         0.015873         0.000000     0.0   \n",
       "...        ...       ...              ...              ...     ...   \n",
       "1042  0.006270  0.010972         0.000000         0.001034     0.0   \n",
       "1043  0.000000  0.013514         0.017857         0.000000     0.0   \n",
       "1044  0.007576  0.007576         0.009804         0.007282     0.0   \n",
       "1045  0.000000  0.009259         0.010753         0.005602     0.0   \n",
       "1046  0.010695  0.026738         0.008163         0.004246     0.0   \n",
       "\n",
       "      ('.', 'ADV')  ('VERB', 'DET')         %  ('NOUN', 'have')      from  \n",
       "0         0.005571         0.020155  0.000000          0.000000  0.008197  \n",
       "1         0.010453         0.021359  0.000000          0.010453  0.000000  \n",
       "2         0.004695         0.036082  0.018868          0.000000  0.000000  \n",
       "3         0.000000         0.015748  0.000000          0.000000  0.000000  \n",
       "4         0.000000         0.017391  0.000000          0.000000  0.000000  \n",
       "...            ...              ...       ...               ...       ...  \n",
       "1042      0.012500         0.014470  0.003968          0.003125  0.009404  \n",
       "1043      0.000000         0.009302  0.000000          0.000000  0.006757  \n",
       "1044      0.004902         0.009709  0.000000          0.000000  0.007576  \n",
       "1045      0.005376         0.025210  0.000000          0.000000  0.000000  \n",
       "1046      0.000000         0.021231  0.000000          0.000000  0.026738  \n",
       "\n",
       "[1047 rows x 10 columns]"
      ]
     },
     "execution_count": 18,
     "metadata": {},
     "output_type": "execute_result"
    }
   ],
   "source": [
    "\n",
    "data_df_sample = data_df.sample(n=10, axis=\"columns\")\n",
    "kmeans_pcp_df = pd.concat([data_df_sample, \n",
    "                           pd.DataFrame({\"K Cluster\":kmeans.labels_})],\n",
    "                          axis=1)\n",
    "    \n",
    "\n",
    "data_df_sample\n",
    "# fig = px.parallel_coordinates(\n",
    "#         kmeans_pcp_df,\n",
    "#         dimensions=list(data_df_sample.columns),\n",
    "#         color=\"K Cluster\",\n",
    "#     )\n",
    "# fig.show()"
   ]
  },
  {
   "attachments": {},
   "cell_type": "markdown",
   "id": "6460dfd3",
   "metadata": {},
   "source": [
    "# K means experiment\n",
    "\n",
    "From the plot generated below, it is difficult to see where the elbow is. Upon inspection of the points, I've determined that after `k=9` is when the points stop seeing significant change."
   ]
  },
  {
   "cell_type": "code",
   "execution_count": 6,
   "id": "c7f11d01",
   "metadata": {},
   "outputs": [
    {
     "data": {
      "application/vnd.plotly.v1+json": {
       "config": {
        "plotlyServerURL": "https://plot.ly"
       },
       "data": [
        {
         "type": "scatter",
         "x": [
          1,
          2,
          3,
          4,
          5,
          6,
          7,
          8,
          9,
          10,
          11,
          12,
          13,
          14,
          15,
          16,
          17,
          18,
          19
         ],
         "y": [
          104708.06998795613,
          60917.98803561989,
          42310.19294851134,
          32266.146218395334,
          24278.240802511078,
          19318.843626734873,
          15515.841933386913,
          13221.537798710577,
          11416.035200995731,
          10261.496554189942,
          9248.52121337513,
          8322.748815879633,
          7658.491123620727,
          7060.101906732241,
          6526.506670485802,
          6167.9242112174725,
          5707.298775523299,
          5406.7250600028465,
          5114.263548483595
         ]
        }
       ],
       "layout": {
        "shapes": [
         {
          "line": {
           "color": "grey"
          },
          "type": "line",
          "x0": 1,
          "x1": 19,
          "y0": 104708.06998795613,
          "y1": 5114.263548483595
         }
        ],
        "template": {
         "data": {
          "bar": [
           {
            "error_x": {
             "color": "#2a3f5f"
            },
            "error_y": {
             "color": "#2a3f5f"
            },
            "marker": {
             "line": {
              "color": "#E5ECF6",
              "width": 0.5
             },
             "pattern": {
              "fillmode": "overlay",
              "size": 10,
              "solidity": 0.2
             }
            },
            "type": "bar"
           }
          ],
          "barpolar": [
           {
            "marker": {
             "line": {
              "color": "#E5ECF6",
              "width": 0.5
             },
             "pattern": {
              "fillmode": "overlay",
              "size": 10,
              "solidity": 0.2
             }
            },
            "type": "barpolar"
           }
          ],
          "carpet": [
           {
            "aaxis": {
             "endlinecolor": "#2a3f5f",
             "gridcolor": "white",
             "linecolor": "white",
             "minorgridcolor": "white",
             "startlinecolor": "#2a3f5f"
            },
            "baxis": {
             "endlinecolor": "#2a3f5f",
             "gridcolor": "white",
             "linecolor": "white",
             "minorgridcolor": "white",
             "startlinecolor": "#2a3f5f"
            },
            "type": "carpet"
           }
          ],
          "choropleth": [
           {
            "colorbar": {
             "outlinewidth": 0,
             "ticks": ""
            },
            "type": "choropleth"
           }
          ],
          "contour": [
           {
            "colorbar": {
             "outlinewidth": 0,
             "ticks": ""
            },
            "colorscale": [
             [
              0,
              "#0d0887"
             ],
             [
              0.1111111111111111,
              "#46039f"
             ],
             [
              0.2222222222222222,
              "#7201a8"
             ],
             [
              0.3333333333333333,
              "#9c179e"
             ],
             [
              0.4444444444444444,
              "#bd3786"
             ],
             [
              0.5555555555555556,
              "#d8576b"
             ],
             [
              0.6666666666666666,
              "#ed7953"
             ],
             [
              0.7777777777777778,
              "#fb9f3a"
             ],
             [
              0.8888888888888888,
              "#fdca26"
             ],
             [
              1,
              "#f0f921"
             ]
            ],
            "type": "contour"
           }
          ],
          "contourcarpet": [
           {
            "colorbar": {
             "outlinewidth": 0,
             "ticks": ""
            },
            "type": "contourcarpet"
           }
          ],
          "heatmap": [
           {
            "colorbar": {
             "outlinewidth": 0,
             "ticks": ""
            },
            "colorscale": [
             [
              0,
              "#0d0887"
             ],
             [
              0.1111111111111111,
              "#46039f"
             ],
             [
              0.2222222222222222,
              "#7201a8"
             ],
             [
              0.3333333333333333,
              "#9c179e"
             ],
             [
              0.4444444444444444,
              "#bd3786"
             ],
             [
              0.5555555555555556,
              "#d8576b"
             ],
             [
              0.6666666666666666,
              "#ed7953"
             ],
             [
              0.7777777777777778,
              "#fb9f3a"
             ],
             [
              0.8888888888888888,
              "#fdca26"
             ],
             [
              1,
              "#f0f921"
             ]
            ],
            "type": "heatmap"
           }
          ],
          "heatmapgl": [
           {
            "colorbar": {
             "outlinewidth": 0,
             "ticks": ""
            },
            "colorscale": [
             [
              0,
              "#0d0887"
             ],
             [
              0.1111111111111111,
              "#46039f"
             ],
             [
              0.2222222222222222,
              "#7201a8"
             ],
             [
              0.3333333333333333,
              "#9c179e"
             ],
             [
              0.4444444444444444,
              "#bd3786"
             ],
             [
              0.5555555555555556,
              "#d8576b"
             ],
             [
              0.6666666666666666,
              "#ed7953"
             ],
             [
              0.7777777777777778,
              "#fb9f3a"
             ],
             [
              0.8888888888888888,
              "#fdca26"
             ],
             [
              1,
              "#f0f921"
             ]
            ],
            "type": "heatmapgl"
           }
          ],
          "histogram": [
           {
            "marker": {
             "pattern": {
              "fillmode": "overlay",
              "size": 10,
              "solidity": 0.2
             }
            },
            "type": "histogram"
           }
          ],
          "histogram2d": [
           {
            "colorbar": {
             "outlinewidth": 0,
             "ticks": ""
            },
            "colorscale": [
             [
              0,
              "#0d0887"
             ],
             [
              0.1111111111111111,
              "#46039f"
             ],
             [
              0.2222222222222222,
              "#7201a8"
             ],
             [
              0.3333333333333333,
              "#9c179e"
             ],
             [
              0.4444444444444444,
              "#bd3786"
             ],
             [
              0.5555555555555556,
              "#d8576b"
             ],
             [
              0.6666666666666666,
              "#ed7953"
             ],
             [
              0.7777777777777778,
              "#fb9f3a"
             ],
             [
              0.8888888888888888,
              "#fdca26"
             ],
             [
              1,
              "#f0f921"
             ]
            ],
            "type": "histogram2d"
           }
          ],
          "histogram2dcontour": [
           {
            "colorbar": {
             "outlinewidth": 0,
             "ticks": ""
            },
            "colorscale": [
             [
              0,
              "#0d0887"
             ],
             [
              0.1111111111111111,
              "#46039f"
             ],
             [
              0.2222222222222222,
              "#7201a8"
             ],
             [
              0.3333333333333333,
              "#9c179e"
             ],
             [
              0.4444444444444444,
              "#bd3786"
             ],
             [
              0.5555555555555556,
              "#d8576b"
             ],
             [
              0.6666666666666666,
              "#ed7953"
             ],
             [
              0.7777777777777778,
              "#fb9f3a"
             ],
             [
              0.8888888888888888,
              "#fdca26"
             ],
             [
              1,
              "#f0f921"
             ]
            ],
            "type": "histogram2dcontour"
           }
          ],
          "mesh3d": [
           {
            "colorbar": {
             "outlinewidth": 0,
             "ticks": ""
            },
            "type": "mesh3d"
           }
          ],
          "parcoords": [
           {
            "line": {
             "colorbar": {
              "outlinewidth": 0,
              "ticks": ""
             }
            },
            "type": "parcoords"
           }
          ],
          "pie": [
           {
            "automargin": true,
            "type": "pie"
           }
          ],
          "scatter": [
           {
            "fillpattern": {
             "fillmode": "overlay",
             "size": 10,
             "solidity": 0.2
            },
            "type": "scatter"
           }
          ],
          "scatter3d": [
           {
            "line": {
             "colorbar": {
              "outlinewidth": 0,
              "ticks": ""
             }
            },
            "marker": {
             "colorbar": {
              "outlinewidth": 0,
              "ticks": ""
             }
            },
            "type": "scatter3d"
           }
          ],
          "scattercarpet": [
           {
            "marker": {
             "colorbar": {
              "outlinewidth": 0,
              "ticks": ""
             }
            },
            "type": "scattercarpet"
           }
          ],
          "scattergeo": [
           {
            "marker": {
             "colorbar": {
              "outlinewidth": 0,
              "ticks": ""
             }
            },
            "type": "scattergeo"
           }
          ],
          "scattergl": [
           {
            "marker": {
             "colorbar": {
              "outlinewidth": 0,
              "ticks": ""
             }
            },
            "type": "scattergl"
           }
          ],
          "scattermapbox": [
           {
            "marker": {
             "colorbar": {
              "outlinewidth": 0,
              "ticks": ""
             }
            },
            "type": "scattermapbox"
           }
          ],
          "scatterpolar": [
           {
            "marker": {
             "colorbar": {
              "outlinewidth": 0,
              "ticks": ""
             }
            },
            "type": "scatterpolar"
           }
          ],
          "scatterpolargl": [
           {
            "marker": {
             "colorbar": {
              "outlinewidth": 0,
              "ticks": ""
             }
            },
            "type": "scatterpolargl"
           }
          ],
          "scatterternary": [
           {
            "marker": {
             "colorbar": {
              "outlinewidth": 0,
              "ticks": ""
             }
            },
            "type": "scatterternary"
           }
          ],
          "surface": [
           {
            "colorbar": {
             "outlinewidth": 0,
             "ticks": ""
            },
            "colorscale": [
             [
              0,
              "#0d0887"
             ],
             [
              0.1111111111111111,
              "#46039f"
             ],
             [
              0.2222222222222222,
              "#7201a8"
             ],
             [
              0.3333333333333333,
              "#9c179e"
             ],
             [
              0.4444444444444444,
              "#bd3786"
             ],
             [
              0.5555555555555556,
              "#d8576b"
             ],
             [
              0.6666666666666666,
              "#ed7953"
             ],
             [
              0.7777777777777778,
              "#fb9f3a"
             ],
             [
              0.8888888888888888,
              "#fdca26"
             ],
             [
              1,
              "#f0f921"
             ]
            ],
            "type": "surface"
           }
          ],
          "table": [
           {
            "cells": {
             "fill": {
              "color": "#EBF0F8"
             },
             "line": {
              "color": "white"
             }
            },
            "header": {
             "fill": {
              "color": "#C8D4E3"
             },
             "line": {
              "color": "white"
             }
            },
            "type": "table"
           }
          ]
         },
         "layout": {
          "annotationdefaults": {
           "arrowcolor": "#2a3f5f",
           "arrowhead": 0,
           "arrowwidth": 1
          },
          "autotypenumbers": "strict",
          "coloraxis": {
           "colorbar": {
            "outlinewidth": 0,
            "ticks": ""
           }
          },
          "colorscale": {
           "diverging": [
            [
             0,
             "#8e0152"
            ],
            [
             0.1,
             "#c51b7d"
            ],
            [
             0.2,
             "#de77ae"
            ],
            [
             0.3,
             "#f1b6da"
            ],
            [
             0.4,
             "#fde0ef"
            ],
            [
             0.5,
             "#f7f7f7"
            ],
            [
             0.6,
             "#e6f5d0"
            ],
            [
             0.7,
             "#b8e186"
            ],
            [
             0.8,
             "#7fbc41"
            ],
            [
             0.9,
             "#4d9221"
            ],
            [
             1,
             "#276419"
            ]
           ],
           "sequential": [
            [
             0,
             "#0d0887"
            ],
            [
             0.1111111111111111,
             "#46039f"
            ],
            [
             0.2222222222222222,
             "#7201a8"
            ],
            [
             0.3333333333333333,
             "#9c179e"
            ],
            [
             0.4444444444444444,
             "#bd3786"
            ],
            [
             0.5555555555555556,
             "#d8576b"
            ],
            [
             0.6666666666666666,
             "#ed7953"
            ],
            [
             0.7777777777777778,
             "#fb9f3a"
            ],
            [
             0.8888888888888888,
             "#fdca26"
            ],
            [
             1,
             "#f0f921"
            ]
           ],
           "sequentialminus": [
            [
             0,
             "#0d0887"
            ],
            [
             0.1111111111111111,
             "#46039f"
            ],
            [
             0.2222222222222222,
             "#7201a8"
            ],
            [
             0.3333333333333333,
             "#9c179e"
            ],
            [
             0.4444444444444444,
             "#bd3786"
            ],
            [
             0.5555555555555556,
             "#d8576b"
            ],
            [
             0.6666666666666666,
             "#ed7953"
            ],
            [
             0.7777777777777778,
             "#fb9f3a"
            ],
            [
             0.8888888888888888,
             "#fdca26"
            ],
            [
             1,
             "#f0f921"
            ]
           ]
          },
          "colorway": [
           "#636efa",
           "#EF553B",
           "#00cc96",
           "#ab63fa",
           "#FFA15A",
           "#19d3f3",
           "#FF6692",
           "#B6E880",
           "#FF97FF",
           "#FECB52"
          ],
          "font": {
           "color": "#2a3f5f"
          },
          "geo": {
           "bgcolor": "white",
           "lakecolor": "white",
           "landcolor": "#E5ECF6",
           "showlakes": true,
           "showland": true,
           "subunitcolor": "white"
          },
          "hoverlabel": {
           "align": "left"
          },
          "hovermode": "closest",
          "mapbox": {
           "style": "light"
          },
          "paper_bgcolor": "white",
          "plot_bgcolor": "#E5ECF6",
          "polar": {
           "angularaxis": {
            "gridcolor": "white",
            "linecolor": "white",
            "ticks": ""
           },
           "bgcolor": "#E5ECF6",
           "radialaxis": {
            "gridcolor": "white",
            "linecolor": "white",
            "ticks": ""
           }
          },
          "scene": {
           "xaxis": {
            "backgroundcolor": "#E5ECF6",
            "gridcolor": "white",
            "gridwidth": 2,
            "linecolor": "white",
            "showbackground": true,
            "ticks": "",
            "zerolinecolor": "white"
           },
           "yaxis": {
            "backgroundcolor": "#E5ECF6",
            "gridcolor": "white",
            "gridwidth": 2,
            "linecolor": "white",
            "showbackground": true,
            "ticks": "",
            "zerolinecolor": "white"
           },
           "zaxis": {
            "backgroundcolor": "#E5ECF6",
            "gridcolor": "white",
            "gridwidth": 2,
            "linecolor": "white",
            "showbackground": true,
            "ticks": "",
            "zerolinecolor": "white"
           }
          },
          "shapedefaults": {
           "line": {
            "color": "#2a3f5f"
           }
          },
          "ternary": {
           "aaxis": {
            "gridcolor": "white",
            "linecolor": "white",
            "ticks": ""
           },
           "baxis": {
            "gridcolor": "white",
            "linecolor": "white",
            "ticks": ""
           },
           "bgcolor": "#E5ECF6",
           "caxis": {
            "gridcolor": "white",
            "linecolor": "white",
            "ticks": ""
           }
          },
          "title": {
           "x": 0.05
          },
          "xaxis": {
           "automargin": true,
           "gridcolor": "white",
           "linecolor": "white",
           "ticks": "",
           "title": {
            "standoff": 15
           },
           "zerolinecolor": "white",
           "zerolinewidth": 2
          },
          "yaxis": {
           "automargin": true,
           "gridcolor": "white",
           "linecolor": "white",
           "ticks": "",
           "title": {
            "standoff": 15
           },
           "zerolinecolor": "white",
           "zerolinewidth": 2
          }
         }
        }
       }
      }
     },
     "metadata": {},
     "output_type": "display_data"
    }
   ],
   "source": [
    "sum_squares = []\n",
    "candidate_k_values = list(range(1,20))\n",
    "for k in candidate_k_values:\n",
    "    kmeans = KMeans(n_clusters=k, random_state=42)\n",
    "    kmeans.fit(X)\n",
    "    sum_squares.append(kmeans.inertia_)\n",
    "\n",
    "fig = go.Figure()\n",
    "fig.add_trace(\n",
    "    go.Line(\n",
    "        x=candidate_k_values, \n",
    "        y=sum_squares))\n",
    "\n",
    "fig.add_shape(\n",
    "        type=\"line\",\n",
    "        x0=1, y0=max(sum_squares), x1=19, y1=min(sum_squares),\n",
    "        line={\"color\":\"grey\"}\n",
    "    )"
   ]
  },
  {
   "cell_type": "code",
   "execution_count": null,
   "id": "dbbb3624",
   "metadata": {},
   "outputs": [],
   "source": []
  },
  {
   "cell_type": "code",
   "execution_count": 10,
   "id": "90b296c2",
   "metadata": {},
   "outputs": [],
   "source": [
    "\n"
   ]
  },
  {
   "cell_type": "code",
   "execution_count": null,
   "id": "693a1603",
   "metadata": {},
   "outputs": [],
   "source": []
  }
 ],
 "metadata": {
  "kernelspec": {
   "display_name": "Python 3 (ipykernel)",
   "language": "python",
   "name": "python3"
  },
  "language_info": {
   "codemirror_mode": {
    "name": "ipython",
    "version": 3
   },
   "file_extension": ".py",
   "mimetype": "text/x-python",
   "name": "python",
   "nbconvert_exporter": "python",
   "pygments_lexer": "ipython3",
   "version": "3.9.12"
  }
 },
 "nbformat": 4,
 "nbformat_minor": 5
}
