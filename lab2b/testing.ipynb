{
 "cells": [
  {
   "cell_type": "code",
   "execution_count": 90,
   "id": "57ac578a-e3c9-4ed5-a7bf-e46142edc1ca",
   "metadata": {},
   "outputs": [
    {
     "data": {
      "text/html": [
       "<div>\n",
       "<style scoped>\n",
       "    .dataframe tbody tr th:only-of-type {\n",
       "        vertical-align: middle;\n",
       "    }\n",
       "\n",
       "    .dataframe tbody tr th {\n",
       "        vertical-align: top;\n",
       "    }\n",
       "\n",
       "    .dataframe thead th {\n",
       "        text-align: right;\n",
       "    }\n",
       "</style>\n",
       "<table border=\"1\" class=\"dataframe\">\n",
       "  <thead>\n",
       "    <tr style=\"text-align: right;\">\n",
       "      <th></th>\n",
       "      <th>ADJ</th>\n",
       "      <th>ADP</th>\n",
       "      <th>ADV</th>\n",
       "      <th>AUX</th>\n",
       "      <th>CCONJ</th>\n",
       "      <th>DET</th>\n",
       "      <th>INTJ</th>\n",
       "      <th>NOUN</th>\n",
       "      <th>NUM</th>\n",
       "      <th>PART</th>\n",
       "      <th>...</th>\n",
       "      <th>('was', 'VERB')</th>\n",
       "      <th>('NOUN', 'is')</th>\n",
       "      <th>('INTJ', 'I')</th>\n",
       "      <th>('VERB', 'your')</th>\n",
       "      <th>('can', 'VERB')</th>\n",
       "      <th>('NOUN', 'was')</th>\n",
       "      <th>('NOUN', 'have')</th>\n",
       "      <th>('an', 'NOUN')</th>\n",
       "      <th>('ADV', 'the')</th>\n",
       "      <th>('n’t', 'VERB')</th>\n",
       "    </tr>\n",
       "    <tr>\n",
       "      <th>0</th>\n",
       "      <th></th>\n",
       "      <th></th>\n",
       "      <th></th>\n",
       "      <th></th>\n",
       "      <th></th>\n",
       "      <th></th>\n",
       "      <th></th>\n",
       "      <th></th>\n",
       "      <th></th>\n",
       "      <th></th>\n",
       "      <th></th>\n",
       "      <th></th>\n",
       "      <th></th>\n",
       "      <th></th>\n",
       "      <th></th>\n",
       "      <th></th>\n",
       "      <th></th>\n",
       "      <th></th>\n",
       "      <th></th>\n",
       "      <th></th>\n",
       "      <th></th>\n",
       "    </tr>\n",
       "  </thead>\n",
       "  <tbody>\n",
       "    <tr>\n",
       "      <th>ADJ</th>\n",
       "      <td>0.000000</td>\n",
       "      <td>0.988814</td>\n",
       "      <td>0.771448</td>\n",
       "      <td>0.906078</td>\n",
       "      <td>1.132052</td>\n",
       "      <td>1.038133</td>\n",
       "      <td>0.835288</td>\n",
       "      <td>0.866748</td>\n",
       "      <td>1.098346</td>\n",
       "      <td>1.148486</td>\n",
       "      <td>...</td>\n",
       "      <td>1.179542</td>\n",
       "      <td>1.050419</td>\n",
       "      <td>0.975170</td>\n",
       "      <td>1.189326</td>\n",
       "      <td>1.207448</td>\n",
       "      <td>1.137160</td>\n",
       "      <td>1.199493</td>\n",
       "      <td>1.191803</td>\n",
       "      <td>1.107316</td>\n",
       "      <td>1.175719</td>\n",
       "    </tr>\n",
       "    <tr>\n",
       "      <th>ADP</th>\n",
       "      <td>0.988814</td>\n",
       "      <td>0.000000</td>\n",
       "      <td>1.069209</td>\n",
       "      <td>1.075143</td>\n",
       "      <td>1.029357</td>\n",
       "      <td>0.793767</td>\n",
       "      <td>1.105653</td>\n",
       "      <td>0.726901</td>\n",
       "      <td>1.046739</td>\n",
       "      <td>1.168549</td>\n",
       "      <td>...</td>\n",
       "      <td>1.108848</td>\n",
       "      <td>1.092089</td>\n",
       "      <td>1.190370</td>\n",
       "      <td>1.072902</td>\n",
       "      <td>1.057144</td>\n",
       "      <td>1.103173</td>\n",
       "      <td>1.035565</td>\n",
       "      <td>1.077695</td>\n",
       "      <td>1.089118</td>\n",
       "      <td>1.207448</td>\n",
       "    </tr>\n",
       "    <tr>\n",
       "      <th>ADV</th>\n",
       "      <td>0.771448</td>\n",
       "      <td>1.069209</td>\n",
       "      <td>0.000000</td>\n",
       "      <td>0.645924</td>\n",
       "      <td>1.018252</td>\n",
       "      <td>1.242100</td>\n",
       "      <td>0.627525</td>\n",
       "      <td>1.069976</td>\n",
       "      <td>1.292415</td>\n",
       "      <td>0.906844</td>\n",
       "      <td>...</td>\n",
       "      <td>1.391494</td>\n",
       "      <td>1.387928</td>\n",
       "      <td>1.134240</td>\n",
       "      <td>1.336210</td>\n",
       "      <td>1.277867</td>\n",
       "      <td>1.360370</td>\n",
       "      <td>1.479855</td>\n",
       "      <td>1.416454</td>\n",
       "      <td>1.328107</td>\n",
       "      <td>1.152493</td>\n",
       "    </tr>\n",
       "    <tr>\n",
       "      <th>AUX</th>\n",
       "      <td>0.906078</td>\n",
       "      <td>1.075143</td>\n",
       "      <td>0.645924</td>\n",
       "      <td>0.000000</td>\n",
       "      <td>1.254923</td>\n",
       "      <td>1.068414</td>\n",
       "      <td>0.613003</td>\n",
       "      <td>0.908586</td>\n",
       "      <td>1.389290</td>\n",
       "      <td>0.770053</td>\n",
       "      <td>...</td>\n",
       "      <td>1.406633</td>\n",
       "      <td>1.405571</td>\n",
       "      <td>1.243355</td>\n",
       "      <td>1.417378</td>\n",
       "      <td>1.285829</td>\n",
       "      <td>1.421028</td>\n",
       "      <td>1.485825</td>\n",
       "      <td>1.464667</td>\n",
       "      <td>1.449802</td>\n",
       "      <td>1.198580</td>\n",
       "    </tr>\n",
       "    <tr>\n",
       "      <th>CCONJ</th>\n",
       "      <td>1.132052</td>\n",
       "      <td>1.029357</td>\n",
       "      <td>1.018252</td>\n",
       "      <td>1.254923</td>\n",
       "      <td>0.000000</td>\n",
       "      <td>1.015406</td>\n",
       "      <td>1.192214</td>\n",
       "      <td>1.221713</td>\n",
       "      <td>0.940772</td>\n",
       "      <td>0.924507</td>\n",
       "      <td>...</td>\n",
       "      <td>0.713664</td>\n",
       "      <td>0.720283</td>\n",
       "      <td>0.806346</td>\n",
       "      <td>0.716796</td>\n",
       "      <td>0.682134</td>\n",
       "      <td>0.692152</td>\n",
       "      <td>0.699918</td>\n",
       "      <td>0.705725</td>\n",
       "      <td>0.691939</td>\n",
       "      <td>0.754711</td>\n",
       "    </tr>\n",
       "  </tbody>\n",
       "</table>\n",
       "<p>5 rows × 407 columns</p>\n",
       "</div>"
      ],
      "text/plain": [
       "            ADJ       ADP       ADV       AUX     CCONJ       DET      INTJ  \\\n",
       "0                                                                             \n",
       "ADJ    0.000000  0.988814  0.771448  0.906078  1.132052  1.038133  0.835288   \n",
       "ADP    0.988814  0.000000  1.069209  1.075143  1.029357  0.793767  1.105653   \n",
       "ADV    0.771448  1.069209  0.000000  0.645924  1.018252  1.242100  0.627525   \n",
       "AUX    0.906078  1.075143  0.645924  0.000000  1.254923  1.068414  0.613003   \n",
       "CCONJ  1.132052  1.029357  1.018252  1.254923  0.000000  1.015406  1.192214   \n",
       "\n",
       "           NOUN       NUM      PART  ...  ('was', 'VERB')  ('NOUN', 'is')  \\\n",
       "0                                    ...                                    \n",
       "ADJ    0.866748  1.098346  1.148486  ...         1.179542        1.050419   \n",
       "ADP    0.726901  1.046739  1.168549  ...         1.108848        1.092089   \n",
       "ADV    1.069976  1.292415  0.906844  ...         1.391494        1.387928   \n",
       "AUX    0.908586  1.389290  0.770053  ...         1.406633        1.405571   \n",
       "CCONJ  1.221713  0.940772  0.924507  ...         0.713664        0.720283   \n",
       "\n",
       "       ('INTJ', 'I')  ('VERB', 'your')  ('can', 'VERB')  ('NOUN', 'was')  \\\n",
       "0                                                                          \n",
       "ADJ         0.975170          1.189326         1.207448         1.137160   \n",
       "ADP         1.190370          1.072902         1.057144         1.103173   \n",
       "ADV         1.134240          1.336210         1.277867         1.360370   \n",
       "AUX         1.243355          1.417378         1.285829         1.421028   \n",
       "CCONJ       0.806346          0.716796         0.682134         0.692152   \n",
       "\n",
       "       ('NOUN', 'have')  ('an', 'NOUN')  ('ADV', 'the')  ('n’t', 'VERB')  \n",
       "0                                                                         \n",
       "ADJ            1.199493        1.191803        1.107316         1.175719  \n",
       "ADP            1.035565        1.077695        1.089118         1.207448  \n",
       "ADV            1.479855        1.416454        1.328107         1.152493  \n",
       "AUX            1.485825        1.464667        1.449802         1.198580  \n",
       "CCONJ          0.699918        0.705725        0.691939         0.754711  \n",
       "\n",
       "[5 rows x 407 columns]"
      ]
     },
     "execution_count": 90,
     "metadata": {},
     "output_type": "execute_result"
    }
   ],
   "source": [
    "import plotly.express as px\n",
    "import plotly.graph_objects as go\n",
    "from sklearn.cluster import KMeans\n",
    "from sklearn.manifold import MDS\n",
    "from sklearn.preprocessing import StandardScaler\n",
    "from scipy.spatial.distance import squareform\n",
    "from scipy.spatial.distance import pdist\n",
    "import pandas as pd \n",
    "import warnings\n",
    "warnings.simplefilter(action='ignore', category=FutureWarning) # suppress annoying kmeans future warning\n",
    "warnings.simplefilter(action='ignore', category=DeprecationWarning)\n",
    "\n",
    "scaler = StandardScaler()\n",
    "df = pd.read_csv(\"data/pan22_features.csv\")\n",
    "X = df.drop(columns=[\"author_id\", \"discourse_type\"])\n",
    "cols = list(X.columns)\n",
    "\n",
    "X_scaled = scaler.fit_transform(X)\n",
    "X_T_scaled = scaler.fit_transform(X.values.T)\n",
    "\n",
    "dis_matrix_df = pd.concat([\n",
    "    pd.DataFrame(cols),\n",
    "    pd.DataFrame(squareform(pdist(X_T_scaled, metric=\"correlation\")))],\n",
    "                       axis=1, ignore_index=True)\n",
    "\n",
    "dis_matrix_df.set_index(0, inplace=True)\n",
    "dis_matrix_df.columns = cols\n",
    "\n",
    "dis_matrix_df.head()"
   ]
  },
  {
   "cell_type": "code",
   "execution_count": 92,
   "id": "25cd8b7e",
   "metadata": {},
   "outputs": [
    {
     "data": {
      "text/html": [
       "<style>#sk-container-id-8 {color: black;background-color: white;}#sk-container-id-8 pre{padding: 0;}#sk-container-id-8 div.sk-toggleable {background-color: white;}#sk-container-id-8 label.sk-toggleable__label {cursor: pointer;display: block;width: 100%;margin-bottom: 0;padding: 0.3em;box-sizing: border-box;text-align: center;}#sk-container-id-8 label.sk-toggleable__label-arrow:before {content: \"▸\";float: left;margin-right: 0.25em;color: #696969;}#sk-container-id-8 label.sk-toggleable__label-arrow:hover:before {color: black;}#sk-container-id-8 div.sk-estimator:hover label.sk-toggleable__label-arrow:before {color: black;}#sk-container-id-8 div.sk-toggleable__content {max-height: 0;max-width: 0;overflow: hidden;text-align: left;background-color: #f0f8ff;}#sk-container-id-8 div.sk-toggleable__content pre {margin: 0.2em;color: black;border-radius: 0.25em;background-color: #f0f8ff;}#sk-container-id-8 input.sk-toggleable__control:checked~div.sk-toggleable__content {max-height: 200px;max-width: 100%;overflow: auto;}#sk-container-id-8 input.sk-toggleable__control:checked~label.sk-toggleable__label-arrow:before {content: \"▾\";}#sk-container-id-8 div.sk-estimator input.sk-toggleable__control:checked~label.sk-toggleable__label {background-color: #d4ebff;}#sk-container-id-8 div.sk-label input.sk-toggleable__control:checked~label.sk-toggleable__label {background-color: #d4ebff;}#sk-container-id-8 input.sk-hidden--visually {border: 0;clip: rect(1px 1px 1px 1px);clip: rect(1px, 1px, 1px, 1px);height: 1px;margin: -1px;overflow: hidden;padding: 0;position: absolute;width: 1px;}#sk-container-id-8 div.sk-estimator {font-family: monospace;background-color: #f0f8ff;border: 1px dotted black;border-radius: 0.25em;box-sizing: border-box;margin-bottom: 0.5em;}#sk-container-id-8 div.sk-estimator:hover {background-color: #d4ebff;}#sk-container-id-8 div.sk-parallel-item::after {content: \"\";width: 100%;border-bottom: 1px solid gray;flex-grow: 1;}#sk-container-id-8 div.sk-label:hover label.sk-toggleable__label {background-color: #d4ebff;}#sk-container-id-8 div.sk-serial::before {content: \"\";position: absolute;border-left: 1px solid gray;box-sizing: border-box;top: 0;bottom: 0;left: 50%;z-index: 0;}#sk-container-id-8 div.sk-serial {display: flex;flex-direction: column;align-items: center;background-color: white;padding-right: 0.2em;padding-left: 0.2em;position: relative;}#sk-container-id-8 div.sk-item {position: relative;z-index: 1;}#sk-container-id-8 div.sk-parallel {display: flex;align-items: stretch;justify-content: center;background-color: white;position: relative;}#sk-container-id-8 div.sk-item::before, #sk-container-id-8 div.sk-parallel-item::before {content: \"\";position: absolute;border-left: 1px solid gray;box-sizing: border-box;top: 0;bottom: 0;left: 50%;z-index: -1;}#sk-container-id-8 div.sk-parallel-item {display: flex;flex-direction: column;z-index: 1;position: relative;background-color: white;}#sk-container-id-8 div.sk-parallel-item:first-child::after {align-self: flex-end;width: 50%;}#sk-container-id-8 div.sk-parallel-item:last-child::after {align-self: flex-start;width: 50%;}#sk-container-id-8 div.sk-parallel-item:only-child::after {width: 0;}#sk-container-id-8 div.sk-dashed-wrapped {border: 1px dashed gray;margin: 0 0.4em 0.5em 0.4em;box-sizing: border-box;padding-bottom: 0.4em;background-color: white;}#sk-container-id-8 div.sk-label label {font-family: monospace;font-weight: bold;display: inline-block;line-height: 1.2em;}#sk-container-id-8 div.sk-label-container {text-align: center;}#sk-container-id-8 div.sk-container {/* jupyter's `normalize.less` sets `[hidden] { display: none; }` but bootstrap.min.css set `[hidden] { display: none !important; }` so we also need the `!important` here to be able to override the default hidden behavior on the sphinx rendered scikit-learn.org. See: https://github.com/scikit-learn/scikit-learn/issues/21755 */display: inline-block !important;position: relative;}#sk-container-id-8 div.sk-text-repr-fallback {display: none;}</style><div id=\"sk-container-id-8\" class=\"sk-top-container\"><div class=\"sk-text-repr-fallback\"><pre>KMeans(n_clusters=9, random_state=42)</pre><b>In a Jupyter environment, please rerun this cell to show the HTML representation or trust the notebook. <br />On GitHub, the HTML representation is unable to render, please try loading this page with nbviewer.org.</b></div><div class=\"sk-container\" hidden><div class=\"sk-item\"><div class=\"sk-estimator sk-toggleable\"><input class=\"sk-toggleable__control sk-hidden--visually\" id=\"sk-estimator-id-8\" type=\"checkbox\" checked><label for=\"sk-estimator-id-8\" class=\"sk-toggleable__label sk-toggleable__label-arrow\">KMeans</label><div class=\"sk-toggleable__content\"><pre>KMeans(n_clusters=9, random_state=42)</pre></div></div></div></div></div>"
      ],
      "text/plain": [
       "KMeans(n_clusters=9, random_state=42)"
      ]
     },
     "execution_count": 92,
     "metadata": {},
     "output_type": "execute_result"
    }
   ],
   "source": [
    "mds_data = MDS(n_components=2, random_state=42)\n",
    "mds_variables = MDS(n_components=2, random_state=42, dissimilarity=\"precomputed\")\n",
    "embedding_data = mds_data.fit_transform(X_scaled)\n",
    "embedding_variables = mds_variables.fit_transform(dis_matrix_df.values, )\n",
    "\n",
    "kmeans = KMeans(n_clusters=9, random_state=42)\n",
    "kmeans.fit(X_scaled)"
   ]
  },
  {
   "cell_type": "code",
   "execution_count": 93,
   "id": "551b5b24",
   "metadata": {},
   "outputs": [
    {
     "data": {
      "application/vnd.plotly.v1+json": {
       "config": {
        "plotlyServerURL": "https://plot.ly"
       },
       "data": [
        {
         "hovertemplate": "Component 1=%{x}<br>Component 2=%{y}<br>K Cluster=%{marker.color}<extra></extra>",
         "legendgroup": "",
         "marker": {
          "color": [
           3,
           3,
           3,
           1,
           5,
           3,
           3,
           3,
           1,
           3,
           1,
           3,
           3,
           3,
           1,
           1,
           3,
           4,
           4,
           3,
           3,
           3,
           3,
           7,
           8,
           3,
           3,
           3,
           3,
           3,
           3,
           3,
           1,
           3,
           3,
           6,
           6,
           6,
           6,
           6,
           1,
           3,
           3,
           3,
           3,
           1,
           1,
           3,
           3,
           5,
           3,
           1,
           7,
           6,
           3,
           1,
           3,
           8,
           4,
           6,
           3,
           1,
           1,
           3,
           3,
           8,
           8,
           1,
           1,
           1,
           1,
           8,
           1,
           5,
           4,
           8,
           5,
           6,
           6,
           6,
           5,
           4,
           5,
           6,
           4,
           6,
           6,
           8,
           3,
           1,
           1,
           3,
           7,
           1,
           3,
           4,
           8,
           1,
           6,
           5,
           6,
           1,
           8,
           6,
           3,
           3,
           8,
           8,
           6,
           8,
           3,
           3,
           6,
           4,
           8,
           4,
           3,
           1,
           8,
           6,
           8,
           4,
           6,
           4,
           6,
           5,
           7,
           4,
           5,
           5,
           6,
           3,
           5,
           6,
           6,
           7,
           7,
           6,
           8,
           4,
           3,
           5,
           4,
           3,
           6,
           4,
           5,
           5,
           5,
           8,
           6,
           6,
           6,
           3,
           6,
           6,
           8,
           2,
           5,
           4,
           6,
           6,
           5,
           5,
           6,
           8,
           7,
           8,
           8,
           1,
           3,
           5,
           5,
           3,
           8,
           4,
           6,
           8,
           3,
           3,
           8,
           4,
           5,
           4,
           8,
           6,
           8,
           3,
           6,
           3,
           2,
           5,
           8,
           6,
           5,
           8,
           3,
           6,
           4,
           3,
           8,
           3,
           8,
           4,
           3,
           8,
           6,
           5,
           3,
           8,
           5,
           3,
           5,
           3,
           3,
           8,
           4,
           4,
           5,
           3,
           8,
           3,
           3,
           3,
           3,
           3,
           3,
           4,
           8,
           4,
           3,
           3,
           4,
           3,
           5,
           3,
           4,
           3,
           5,
           3,
           3,
           5,
           7,
           3,
           3,
           3,
           3,
           3,
           3,
           4,
           4,
           6,
           1,
           3,
           5,
           5,
           7,
           6,
           4,
           6,
           5,
           6,
           5,
           5,
           5,
           5,
           5,
           4,
           3,
           5,
           4,
           3,
           8,
           6,
           6,
           1,
           3,
           8,
           6,
           3,
           6,
           1,
           3,
           1,
           4,
           7,
           3,
           6,
           4,
           6,
           4,
           5,
           1,
           3,
           6,
           4,
           4,
           8,
           8,
           6,
           8,
           6,
           6,
           3,
           6,
           3,
           5,
           2,
           3,
           4,
           6,
           3,
           4,
           3,
           6,
           3,
           7,
           6,
           6,
           3,
           8,
           7,
           4,
           3,
           8,
           1,
           3,
           6,
           8,
           3,
           3,
           3,
           4,
           6,
           3,
           3,
           7,
           4,
           6,
           5,
           2,
           8,
           8,
           4,
           3,
           6,
           3,
           4,
           4,
           4,
           6,
           3,
           5,
           5,
           5,
           4,
           3,
           6,
           6,
           4,
           5,
           3,
           6,
           6,
           8,
           7,
           7,
           6,
           4,
           2,
           5,
           4,
           6,
           5,
           5,
           6,
           4,
           6,
           3,
           1,
           4,
           1,
           1,
           1,
           3,
           3,
           3,
           1,
           3,
           1,
           1,
           1,
           1,
           1,
           3,
           1,
           1,
           3,
           1,
           1,
           1,
           1,
           1,
           1,
           1,
           3,
           4,
           3,
           4,
           1,
           7,
           8,
           1,
           6,
           3,
           3,
           1,
           3,
           3,
           8,
           3,
           6,
           3,
           3,
           3,
           6,
           6,
           3,
           5,
           6,
           6,
           5,
           4,
           4,
           5,
           1,
           6,
           6,
           6,
           6,
           5,
           6,
           6,
           6,
           5,
           4,
           3,
           6,
           6,
           5,
           4,
           6,
           5,
           6,
           4,
           3,
           6,
           3,
           5,
           5,
           6,
           8,
           6,
           4,
           3,
           7,
           7,
           3,
           7,
           6,
           5,
           6,
           6,
           6,
           5,
           4,
           7,
           6,
           7,
           6,
           7,
           3,
           5,
           6,
           4,
           4,
           2,
           4,
           6,
           3,
           5,
           3,
           6,
           8,
           8,
           3,
           6,
           3,
           8,
           7,
           6,
           3,
           4,
           6,
           1,
           5,
           3,
           8,
           3,
           7,
           3,
           6,
           4,
           6,
           3,
           3,
           8,
           1,
           6,
           3,
           6,
           3,
           8,
           4,
           6,
           4,
           5,
           4,
           1,
           1,
           1,
           6,
           6,
           6,
           6,
           1,
           3,
           6,
           3,
           6,
           6,
           4,
           6,
           7,
           4,
           6,
           4,
           6,
           6,
           4,
           6,
           6,
           5,
           5,
           5,
           5,
           8,
           5,
           3,
           6,
           5,
           8,
           6,
           3,
           5,
           6,
           7,
           8,
           3,
           5,
           6,
           7,
           3,
           4,
           8,
           8,
           6,
           3,
           4,
           3,
           3,
           4,
           6,
           3,
           8,
           4,
           8,
           4,
           7,
           8,
           3,
           5,
           3,
           5,
           3,
           8,
           3,
           8,
           6,
           5,
           6,
           3,
           1,
           3,
           4,
           1,
           6,
           5,
           4,
           6,
           8,
           1,
           6,
           1,
           3,
           8,
           4,
           5,
           7,
           6,
           8,
           5,
           6,
           3,
           8,
           8,
           7,
           3,
           5,
           6,
           3,
           4,
           6,
           6,
           1,
           3,
           4,
           8,
           6,
           8,
           4,
           5,
           7,
           5,
           3,
           3,
           3,
           4,
           4,
           5,
           4,
           6,
           6,
           2,
           5,
           5,
           3,
           4,
           5,
           6,
           6,
           4,
           6,
           4,
           5,
           4,
           6,
           3,
           1,
           5,
           6,
           2,
           6,
           3,
           5,
           6,
           3,
           4,
           4,
           3,
           3,
           7,
           3,
           5,
           4,
           6,
           5,
           4,
           3,
           5,
           1,
           8,
           3,
           8,
           3,
           7,
           3,
           8,
           4,
           8,
           4,
           6,
           6,
           8,
           5,
           4,
           1,
           3,
           3,
           6,
           6,
           6,
           6,
           6,
           8,
           5,
           4,
           5,
           5,
           6,
           6,
           4,
           8,
           6,
           6,
           6,
           6,
           8,
           5,
           6,
           4,
           6,
           8,
           6,
           4,
           3,
           7,
           3,
           6,
           3,
           3,
           4,
           8,
           1,
           6,
           1,
           3,
           5,
           3,
           3,
           4,
           4,
           8,
           6,
           5,
           4,
           3,
           3,
           5,
           5,
           3,
           8,
           3,
           6,
           3,
           3,
           6,
           6,
           3,
           3,
           3,
           5,
           4,
           5,
           4,
           5,
           3,
           5,
           7,
           3,
           8,
           3,
           4,
           4,
           6,
           6,
           5,
           4,
           6,
           8,
           6,
           7,
           6,
           4,
           3,
           6,
           5,
           6,
           6,
           7,
           6,
           6,
           6,
           8,
           4,
           4,
           3,
           1,
           6,
           1,
           6,
           6,
           8,
           6,
           6,
           1,
           1,
           3,
           1,
           1,
           1,
           6,
           3,
           6,
           1,
           3,
           2,
           4,
           3,
           3,
           5,
           4,
           5,
           0,
           0,
           6,
           6,
           3,
           3,
           6,
           3,
           8,
           3,
           8,
           4,
           4,
           7,
           3,
           3,
           3,
           8,
           3,
           3,
           6,
           6,
           8,
           3,
           5,
           3,
           3,
           8,
           3,
           8,
           4,
           6,
           3,
           3,
           8,
           4,
           3,
           6,
           6,
           6,
           6,
           8,
           3,
           3,
           3,
           6,
           8,
           6,
           6,
           5,
           8,
           3,
           7,
           3,
           8,
           4,
           3,
           3,
           6,
           3,
           3,
           6,
           3,
           6,
           4,
           6,
           2,
           6,
           8,
           3,
           8,
           4,
           6,
           4,
           8,
           4,
           6,
           3,
           6,
           6,
           5,
           6,
           6,
           3,
           5,
           5,
           4,
           5,
           3,
           3,
           3,
           3,
           4,
           5,
           3,
           6,
           3,
           5,
           4,
           6,
           6,
           6,
           5,
           4,
           4,
           6,
           3,
           6,
           6,
           7,
           5,
           6,
           6,
           3,
           7,
           5,
           4,
           6,
           5,
           2,
           1,
           4,
           6,
           1,
           6,
           8,
           6,
           8,
           8,
           4,
           6,
           6,
           7,
           8,
           6,
           6,
           8,
           6,
           8,
           8,
           5,
           6,
           4,
           3,
           1,
           3,
           5,
           1,
           1,
           2,
           1,
           3,
           6,
           4,
           3,
           5,
           3,
           7,
           7,
           4,
           3,
           3,
           3,
           5,
           3,
           3,
           5,
           5,
           6,
           8,
           2,
           4,
           4,
           6,
           6,
           3,
           7,
           8,
           3,
           7,
           8,
           4,
           3,
           6,
           5,
           5,
           6,
           6,
           2,
           4,
           6,
           6,
           3,
           8,
           3,
           4,
           6,
           5,
           4,
           3,
           3,
           3,
           5,
           5,
           6,
           3,
           5,
           3,
           5,
           4,
           6,
           1,
           6,
           3
          ],
          "coloraxis": "coloraxis",
          "symbol": "circle"
         },
         "mode": "markers",
         "name": "",
         "showlegend": false,
         "type": "scattergl",
         "x": [
          1.1959144328777402,
          -4.52094864491625,
          -2.0572540949698443,
          15.202236475118426,
          19.05254471223669,
          0.08386130699396135,
          -1.982981653133066,
          6.068347817797198,
          3.3365831101230583,
          2.769841710391625,
          24.259005709448314,
          -12.389635192753577,
          3.5871083672622093,
          3.3477675445180983,
          21.75922449525473,
          17.436010739437275,
          2.341135069227732,
          -32.61794909973278,
          -15.041688125828657,
          -5.809858212960576,
          5.174682334493164,
          7.904942178733996,
          4.499289098958656,
          -8.776418199646397,
          -12.163377146374913,
          -3.74611078261401,
          0.6744602563606474,
          -0.5046824961509007,
          2.304078242362492,
          2.4985695856222687,
          -6.020128220207589,
          -7.216189183245537,
          10.509924808215052,
          4.977293199758263,
          -1.8348989962699769,
          -0.3070724170785721,
          -0.4787706738399288,
          -9.45209874396371,
          2.7934851745220497,
          1.2456982361208278,
          9.979012622989348,
          -2.313586271414393,
          3.2120234476015184,
          -4.548188981108406,
          -7.5770278302728,
          -0.8536241483782728,
          -12.23973007535354,
          7.085965809575031,
          -7.968302586700516,
          19.7874952854212,
          2.5771591291587335,
          15.004187996620512,
          8.521916048336287,
          -0.25159039499579106,
          -1.4925565220847627,
          -5.8325346848242,
          -6.473944350858022,
          -5.787679288444189,
          -15.157711348492368,
          -5.016990406661648,
          13.255261519059161,
          -4.85886248360901,
          5.638033220980587,
          -6.383934803879378,
          3.3752983602776148,
          -18.422012984924226,
          -17.244248996342577,
          14.028970134935111,
          6.182271340586223,
          -6.460831809545037,
          -13.607750837646135,
          -0.8268273646895888,
          -12.346423643833106,
          12.86378174861198,
          -18.43451230636282,
          1.754109519251072,
          27.07166451868143,
          -7.391823027049513,
          5.087290005468656,
          -1.3409893901132686,
          18.604278543002483,
          -15.887376656659827,
          11.700649879537165,
          -0.5332973721066747,
          -18.418158923548237,
          2.0339501417299326,
          -1.03945896323597,
          2.8056968207709687,
          1.96517449449127,
          7.808855449595735,
          1.9082509152056844,
          8.044869104035497,
          -8.167530066855138,
          16.637207099340216,
          4.970905483031528,
          -19.00192862586774,
          -5.83449276726597,
          -0.6090683891332141,
          4.310086542747295,
          23.916045397798495,
          -1.4146851202253208,
          6.585702071899281,
          12.294057800782918,
          -9.310384437728104,
          3.972924516047051,
          0.6116409427418256,
          -13.870088219699634,
          6.64766217639472,
          -8.309331851857491,
          30.446867099029898,
          -5.794013925566188,
          -4.584993430088734,
          -8.212645187092269,
          -17.816441104577418,
          -8.876794282804187,
          -18.393799898698173,
          -5.112623831047938,
          -10.692596202027392,
          3.478655478064421,
          4.4863545641623395,
          -16.977667422609628,
          -11.389001046238155,
          0.728769359517013,
          -14.509137746073312,
          3.041920071423414,
          28.101830392957268,
          15.200336333960644,
          -15.304374253665657,
          20.714280567807283,
          24.041445120538253,
          2.7277662591765175,
          -8.085286671581779,
          22.41792916080728,
          -1.7239914340693592,
          -6.333311763420825,
          21.4432858570364,
          13.959341452290248,
          3.0340413479577055,
          2.904830256327796,
          -16.887976646675128,
          -11.089770407849151,
          21.038625322929203,
          -9.866498573809352,
          -3.1176725713180993,
          5.398942558414791,
          -17.327802709165,
          -15.642954355373194,
          27.981260679535925,
          3.8786583889976014,
          -26.21740335236575,
          -7.71160872792563,
          -14.419807337483029,
          6.833635901457148,
          1.677987684174477,
          -3.576673057728026,
          -2.382333139141113,
          14.175973513416064,
          -26.93490422836178,
          28.9260783183134,
          -17.895926401410797,
          -14.286850111430049,
          -12.211771309587439,
          5.958450144053616,
          20.38828191987401,
          -10.897164909748513,
          13.502733007765242,
          20.551977379647063,
          7.257684219342519,
          38.02866361934027,
          12.118313259581408,
          5.017398953387848,
          24.650477345646106,
          15.791557091076852,
          -12.101912459313779,
          -23.28607782917745,
          -17.132280377747254,
          -11.904016719817658,
          4.106395447910045,
          -4.161437244301589,
          -8.900661228082628,
          3.2808242280758377,
          -14.437919164626129,
          12.186835093402678,
          -16.389547543736867,
          2.2274855755587613,
          -6.670901635628605,
          -5.071080659478833,
          -5.34255791045733,
          -9.727218702554202,
          -3.653889977969451,
          -38.46468598375719,
          10.852760521923342,
          0.1969563633648574,
          -7.77274318642098,
          17.025196351205253,
          9.958288198770335,
          0.11258728159829952,
          -5.888759315003185,
          -11.086672035345599,
          -6.286935535018792,
          -10.544819982900012,
          -2.9715538251802087,
          9.6999371437272,
          -15.84782745403015,
          -1.0044576459722179,
          22.662395877117966,
          -10.742117066360366,
          18.08700223020596,
          -0.9472834152005998,
          16.950751082145402,
          24.705721900926147,
          -2.4836401583520358,
          19.046890757135202,
          -0.7371317649638894,
          4.23559245754412,
          13.58271692829879,
          -13.389805617173792,
          -22.258453860440085,
          20.90404779594488,
          -14.17303602401421,
          16.609416197403863,
          -9.617657982307103,
          -6.097613180314776,
          1.2761887711052378,
          -15.00971545604977,
          -5.601905022873553,
          -3.762416728808386,
          -19.64181031653897,
          18.10568348658753,
          -11.341235001333596,
          -0.29418370463401217,
          4.771277928552131,
          -17.068563051327445,
          -4.078638755242203,
          20.121939721820493,
          -9.433074020419179,
          -18.31844400777189,
          -3.9843427271891323,
          24.24446077571171,
          -1.4859091700490672,
          -3.6599851575379287,
          15.455036297818948,
          25.089523650085603,
          -2.3475314220812367,
          -7.550625526913282,
          3.7443469012516526,
          3.997611191881532,
          -3.132410578337505,
          0.2877466206322391,
          -10.012425042418789,
          -17.925114052365842,
          -5.987750633274464,
          2.527224220997053,
          6.242546260281351,
          18.335579115347624,
          9.339679922282272,
          17.37961818617321,
          -5.454875681810277,
          -12.10663448035008,
          -1.2098640612288762,
          16.17461093912425,
          -1.4906382494052044,
          18.872283332815183,
          15.911715027887698,
          14.077043083843456,
          18.230034963220334,
          23.095293566023795,
          -28.981840278322263,
          -3.787522118907616,
          22.93213591872848,
          -26.357728103068133,
          4.800808438006892,
          6.872588395488535,
          -5.75305522419996,
          -2.5352575779058917,
          5.541447348967983,
          -0.4333113210913561,
          4.2744773504055615,
          5.3663652479267805,
          4.647452215924843,
          -7.688565118087674,
          -20.712869122381804,
          5.970363453377014,
          11.601377255987043,
          -17.89886554469807,
          21.21780369052525,
          -7.695146104436061,
          -9.100346230072342,
          -12.042235531302227,
          -8.799348146694829,
          -17.413720160600754,
          -17.92482485534683,
          -12.70741917631184,
          -1.6479802743869318,
          -1.5115487474994502,
          -11.043165525493798,
          -36.06241999527917,
          -1.1543740439232482,
          11.555435846371108,
          -8.578034512290706,
          6.2191444527888295,
          -9.878637980222132,
          -11.40293853503844,
          0.2686372638067248,
          -11.57154603297085,
          -7.4551930833717766,
          7.2164764063891536,
          -28.38476358905634,
          -8.072902513330552,
          -19.60477221020251,
          -6.690386291833192,
          -11.083189635455485,
          -12.532038725180033,
          -6.677470976814248,
          -12.69362946295099,
          5.385274059144432,
          18.004981602209433,
          0.054180473454675256,
          1.9807334202334639,
          7.978395910452815,
          -7.758178914868916,
          20.43967546230516,
          -13.503051346848048,
          3.8514788613936957,
          -10.619584902371901,
          -10.37224150107719,
          -0.8736425304712007,
          -8.224453102376888,
          -9.590556790769996,
          0.44399817383443646,
          0.31884127991219086,
          -6.658729446085897,
          -13.618594151248994,
          6.365685562360425,
          4.22585216126533,
          6.915068058305114,
          16.277142927991303,
          -22.887918861643122,
          -0.4197149555460952,
          20.719234436399514,
          -36.035100604392746,
          18.568213233380288,
          14.875531459659385,
          -26.203207825441382,
          -1.9591891429043196,
          4.3053566017461025,
          0.6666209150370427,
          -15.264112173228948,
          -23.200237198203435,
          -22.75564264605656,
          2.3540319314483655,
          5.503889140840683,
          31.332883023489117,
          26.666611189558562,
          20.32745567810139,
          -34.23507294907204,
          0.59208039299114,
          1.3819901097400111,
          9.86248249453934,
          -14.0021734951497,
          22.616017276016287,
          7.539147458804924,
          -2.6827455195107848,
          5.7345047505209505,
          0.4804381247329698,
          -7.206062933269435,
          22.010156801654098,
          -1.9078519041732036,
          -16.13571602265288,
          -26.54831354817299,
          16.285419489134668,
          -24.92252863663087,
          -4.717729717895372,
          19.10768070909787,
          23.720180620419207,
          3.2689562130174195,
          -16.717874939404236,
          -2.4446268519567003,
          -12.441331039814344,
          14.486398994444787,
          -23.366423958429465,
          27.409643949284717,
          10.013432022628686,
          12.78100485200825,
          -1.5271658892355855,
          5.037523153800122,
          1.0867091764953858,
          -2.5609281586029176,
          -6.877389759765948,
          27.62101117664194,
          13.63382218036379,
          4.97414876823759,
          0.7225054634230361,
          8.799493161594594,
          2.264517645810343,
          -3.9919883089520884,
          27.435030756269143,
          -7.395807646224898,
          18.407352698827246,
          7.195147753486654,
          21.527562919396185,
          15.80510739975883,
          14.735747006812947,
          14.440968608745655,
          2.615745602649334,
          -4.119800327379529,
          -15.962141678049877,
          2.3874539166755495,
          -9.038749592994929,
          14.484808509990991,
          11.047934773130306,
          -7.059628091264696,
          17.536429198126164,
          4.909936813994647,
          0.9466977773650089,
          -2.743647557674807,
          28.0410060357824,
          -4.4373324269509276,
          -1.8401605777779184,
          12.78033134068574,
          -0.6835134038934612,
          -1.942133566372309,
          -6.553423233088283,
          1.291106130989029,
          -14.258070366669951,
          5.033519213359527,
          3.8415480380980838,
          -2.6328155786751997,
          24.166243864907514,
          -4.487046851812552,
          5.605155967563579,
          4.92272666867143,
          -15.300822472503151,
          -18.29004740331198,
          16.276769324215792,
          28.79441436399331,
          -1.7742548031307088,
          6.977863274384235,
          7.658389108619666,
          -3.1457613850517885,
          22.639551029839765,
          1.1261069969295923,
          8.163910893834606,
          0.753826979283286,
          19.312596995622446,
          -17.01822834854616,
          0.5673118284983036,
          3.046351188235875,
          -3.4366914562386146,
          17.67499147552988,
          -15.555171818270027,
          1.4083117461454115,
          14.470225049800074,
          -2.359962124302558,
          -16.103634112486613,
          -1.8906016495790317,
          -0.19078751534323754,
          -1.1604248749961585,
          16.917662372386648,
          16.500051850515177,
          3.921658847802234,
          16.26003211009432,
          0.1589046475875404,
          -15.906035806755083,
          -3.652304342617952,
          14.791987604281642,
          -7.702724346452356,
          -6.588758462729257,
          18.15928067349504,
          -3.1363144162868717,
          9.488760153660362,
          -6.38736280211452,
          0.5201863135446878,
          8.60080019797641,
          19.373657604363572,
          -22.224993206169646,
          15.750517439424629,
          -3.3030765353108844,
          16.35237413790044,
          -4.603926138324964,
          14.356002795442064,
          3.539395703650777,
          17.249908511193215,
          6.945736364891963,
          -22.578582692116072,
          -12.810716979457762,
          -31.269675174688736,
          -17.938812890086137,
          1.8656085082774727,
          8.847718232109958,
          15.781024572391662,
          -4.019007196407973,
          1.6657952555614337,
          6.780701945006198,
          19.692604846454557,
          -12.78561621545815,
          4.237554167106667,
          -1.0497859466111024,
          -16.094458574926477,
          20.08295400017503,
          5.335024570562471,
          -8.484798680547469,
          -19.506808182132616,
          -4.670324509917653,
          4.970178440907583,
          12.282927823702126,
          -7.541498475325307,
          -1.2286105978612647,
          -3.885678516968685,
          21.684408243937906,
          -0.10243789461903854,
          -1.2255220312060293,
          -21.06082979709554,
          -5.641245017662336,
          -3.620937658566981,
          0.9297895646444054,
          4.877461115106545,
          -1.376186979460154,
          -1.3656028648276612,
          -13.88839043937663,
          5.3137649045259385,
          3.3300174854224838,
          0.08261102668504691,
          -17.002097217798806,
          -10.688255389421627,
          -19.67957601568054,
          15.58783816934277,
          -23.193518041644342,
          10.222453667329853,
          -4.183155794231808,
          18.810527448985958,
          -5.263524180455967,
          -5.885569187535213,
          -8.21770839949879,
          -10.092129225894992,
          7.898518270623868,
          -9.00846538873847,
          -7.0487546721890535,
          4.108723790072338,
          -14.48331902861801,
          -2.97052411932694,
          -19.77385411042322,
          3.790468285811038,
          15.484288439787838,
          -20.01969677657661,
          1.4259120378973908,
          -21.54993651270253,
          -1.7804274683015773,
          2.6818568601800212,
          -21.102607563321445,
          -9.39351728739075,
          -1.4558817895705551,
          19.7662654123345,
          21.289646080002147,
          17.56417967397849,
          17.081141485806185,
          20.573624921766292,
          14.66414783952971,
          -7.3781450016623396,
          -6.681580996625623,
          15.927926869635037,
          13.753321498780132,
          2.7262776366796913,
          1.750253299181404,
          10.972880766983954,
          -8.604625313677618,
          18.398805241826267,
          -4.921959699367011,
          -2.0642850213842068,
          28.234211857850042,
          -0.023389068405001965,
          -4.347653007275891,
          1.3241427622223851,
          -20.140837885858275,
          -8.546229242559342,
          -2.13664847670129,
          -9.643145048129274,
          -2.557071562287871,
          -10.124483878560904,
          -10.256332462213255,
          -1.5917475482565902,
          -17.772330658925302,
          -13.222555248298443,
          -2.902886194949216,
          0.9838847154956938,
          -13.488982963233816,
          6.8459768107611625,
          -20.818224747506118,
          16.26689457617809,
          14.903625157351067,
          -13.51229436940305,
          20.639381342432394,
          -8.543831629719282,
          2.135154645802703,
          -5.212044380546608,
          26.154606043605636,
          1.2349020973710851,
          9.65515527062203,
          -9.142560178635408,
          12.947622052124256,
          -12.852934729647034,
          6.002578850406274,
          26.545482402527504,
          -4.96291285303361,
          -19.015264092722546,
          11.940350667381068,
          -3.2182799918772136,
          16.283169571977314,
          -18.865884385499186,
          2.3584774758500875,
          -2.133748895439257,
          24.97028269800252,
          -5.881370390747665,
          -18.945717587032856,
          1.7506690851416145,
          14.292496448681744,
          -17.524733615580516,
          23.894073702071914,
          1.7873279327548484,
          6.517585103819879,
          22.448424144185317,
          24.18833882142909,
          -0.9835252042460602,
          2.5904897803234905,
          -7.434539018066745,
          12.030468503876639,
          19.063572089755,
          -1.9008977577769988,
          11.731950769721667,
          -6.485369014220457,
          -0.25093658066883534,
          -12.684009258491123,
          -1.473470064784435,
          6.777704110486256,
          6.01221885888404,
          -4.436542280196357,
          -16.087776923522323,
          -14.482791482426443,
          7.035134546907611,
          -5.412900934964038,
          -10.81930037597274,
          18.284333389023097,
          -6.712864559599634,
          4.76640125669577,
          -12.474080413556562,
          -3.034056643090974,
          6.906336397521393,
          -17.710212044158766,
          -23.552534281982794,
          4.90166335783387,
          -23.838111614123623,
          -8.34977280741181,
          9.447679993962808,
          -40.33900211456125,
          -3.652317670124964,
          8.380954283206721,
          -9.566570649162978,
          -17.04504202571698,
          21.194552604140913,
          -4.0707024419549045,
          -9.637736901275618,
          -19.082139708630447,
          -4.092234099176317,
          -15.321173554795468,
          23.22311713527267,
          -14.71467488712966,
          -9.21464823106614,
          -2.306447122201631,
          15.819605545802512,
          19.401416181475994,
          -1.207345189735928,
          -28.142514099674717,
          -12.844621819385424,
          0.343669291752223,
          17.829106830760743,
          -3.397238983170838,
          -11.35310352026339,
          -13.312716469030837,
          -17.90164317824193,
          -6.081762442746029,
          4.497775569682467,
          13.87746814061728,
          -5.656275945036675,
          22.123393850277978,
          -31.96236149357041,
          -11.547156241455369,
          18.70947561265439,
          -13.3695824205771,
          -5.078304101888668,
          17.890729914097168,
          18.956411814668385,
          22.141788583225498,
          -14.86915633988562,
          9.282608805597839,
          8.82137692316171,
          26.998329382689075,
          -1.9720339492467875,
          12.092009126221164,
          -18.53381868774922,
          12.14143669315417,
          -11.750739777482767,
          -5.31201670871088,
          1.5883293607302624,
          14.049224350047755,
          15.538908766619807,
          -18.534837382099404,
          5.081152823560572,
          -4.0959207242050155,
          -3.3132906169838403,
          -3.1861198350851105,
          -6.021341824257249,
          1.929896033476299,
          -2.105695106588965,
          4.336915412641252,
          18.75207446058598,
          24.131462735578232,
          -15.562612639135702,
          22.56374590594789,
          9.351345480488579,
          -7.441977232783428,
          -4.459472975694573,
          -11.585675243384172,
          10.477746634317482,
          4.06327597865986,
          -10.277000222921515,
          -4.856182018461466,
          -13.492438447359758,
          6.298705163530415,
          23.341771307292795,
          8.704373122450255,
          -26.313894123081923,
          6.394184391125058,
          11.392767759692237,
          6.380609701455434,
          -20.474443583005158,
          -6.7374827270176505,
          15.413866299084873,
          4.947950997162501,
          -2.971599210782733,
          5.98498852445393,
          -7.140061613582364,
          -16.38180702741271,
          13.584134738289501,
          14.404252364779543,
          0.5348872768807461,
          12.671843736946713,
          -2.565633978600764,
          31.764762152745018,
          -4.602274369245954,
          -10.086117548632421,
          -19.17820519505094,
          -18.993187740762167,
          22.762488244680103,
          2.07404370814276,
          25.20278051400625,
          -14.037536138674685,
          -3.1285181541020504,
          6.975861266984903,
          17.520467729612108,
          18.96003192439076,
          -4.646462568419497,
          -18.20770774971313,
          9.29870322665572,
          -0.40812294958797746,
          -4.07536462549883,
          3.29491619337807,
          -1.1258293477164163,
          7.770330905788291,
          -6.351457355078286,
          -4.424151787412803,
          -6.717235721331426,
          32.100027668636294,
          -15.900453288347046,
          22.820624549859474,
          -11.88732592670438,
          8.529410619447965,
          6.732471924115768,
          20.86548376064706,
          8.875792461367844,
          3.5042622043539806,
          21.880135047945856,
          4.858177394064264,
          -20.327654869786645,
          -12.24588653225016,
          0.06583876907982505,
          8.537517461850689,
          20.685176989448706,
          -17.135192777163876,
          -6.33380465729271,
          14.115009215584871,
          -18.818495748640352,
          13.519757965646551,
          -5.646747439627096,
          -12.50658778622836,
          -4.6589369350578895,
          -5.634643042390125,
          16.47784818742113,
          6.008337593897996,
          4.2872762549635075,
          2.836116881014824,
          6.775937909056719,
          2.7514312499041362,
          -16.17349845874862,
          -9.163663585939558,
          -18.30629233115796,
          -13.263498405332003,
          -7.29150940525119,
          -2.6904524378922208,
          3.591607281137954,
          -23.883809574172105,
          3.412796397415969,
          -9.11327851581609,
          -3.433972270629686,
          -8.443179107753439,
          -4.905436795788154,
          18.506790203584462,
          28.038943014882673,
          -4.256118396184652,
          -2.0853521106537016,
          14.285565970881551,
          -19.888597848009837,
          1.8441462032839406,
          -6.616984421423827,
          0.39024692699004876,
          19.55824467205439,
          -12.444340174591117,
          -34.079327505599714,
          -19.02757687334565,
          -3.6261354537371737,
          -8.510726556054388,
          8.9098990148374,
          -16.249322266209262,
          16.93781100007856,
          9.367456706311179,
          -0.24415890277638916,
          -11.862611804567447,
          -6.6667763007103655,
          -12.710080738197963,
          3.7908332366667437,
          -6.475690552803891,
          -2.6634833669692757,
          10.346567976307753,
          3.2154376558345,
          -4.949391685978068,
          -13.189999851644462,
          -19.930292297823545,
          13.735252772421287,
          8.453244964594115,
          3.064414976154856,
          -2.0885095233403237,
          21.094747028963447,
          8.641978038558996,
          4.99102212148041,
          8.412862066439104,
          8.975312724285343,
          11.337343171984704,
          6.760061302172414,
          -1.131237613120571,
          4.7314149096297315,
          -7.100933381305874,
          9.337023758212915,
          -8.345665737567524,
          16.525225573116288,
          -10.195204565366584,
          -7.245827983026147,
          -0.5738469565948185,
          -4.759552238837015,
          0.9678949395722954,
          -20.763559185933378,
          -14.026040457800617,
          0.8132316956510504,
          -8.145009405782362,
          -10.190010559228114,
          -7.9988346308314915,
          10.323029209828109,
          7.880874326944711,
          3.9054358815456314,
          -5.496919439699625,
          -5.284556914815539,
          4.985399962043013,
          -9.569076586999204,
          -2.439469218772826,
          15.645589733078756,
          5.308414127617356,
          -7.254586552260024,
          18.641152753469047,
          -7.834516886759984,
          -3.564310871143749,
          -23.59918292256999,
          3.5894854902795204,
          -8.692285620977135,
          -3.2003349195174073,
          -2.3100246503666986,
          -5.2106866295335665,
          5.1425899294895805,
          -19.200873760947616,
          -0.7531980661300544,
          -19.675424614672867,
          -5.256213257804279,
          -38.403767692658896,
          -11.048568114657481,
          -13.99191043271758,
          -1.6202309990177257,
          -4.787124205537758,
          -18.355348287181368,
          1.916719976793154,
          -19.607645533322255,
          26.3238432885116,
          -23.22995859746807,
          0.9300712953746496,
          -0.7280504117567657,
          -5.951743948169653,
          -2.6941150440965638,
          2.838723340237005,
          -8.457687307222958,
          3.121117670040435,
          -4.0909456085756615,
          26.517298052346966,
          18.998318843555918,
          -21.468419076497685,
          20.762280166807383,
          5.827636686919421,
          -2.2707267617071523,
          5.831739002166718,
          3.7825656403078547,
          -41.876918712603754,
          23.96818151080219,
          -1.3261726268193188,
          -0.37193525401577643,
          0.2738017278329814,
          22.23487598959987,
          -20.636889716874567,
          1.382486788635845,
          -1.5254647081635269,
          -6.561712676358906,
          18.741075387729047,
          -26.62377510651186,
          -20.010445650896923,
          0.9734889386181095,
          5.598446113217908,
          3.005300678359606,
          -3.658412646606222,
          0.09009580846528219,
          16.503580647641748,
          -8.8729519028204,
          4.59762685125816,
          3.1886802862803267,
          8.420053478560781,
          15.775432377818179,
          -15.825543396264713,
          4.48665480266565,
          15.775852126503725,
          -38.535429583306495,
          1.5972914234445443,
          -16.070855869852867,
          1.321384835092176,
          -11.305418463239834,
          0.10891933483683237,
          4.052616491819205,
          -15.377002511094442,
          -17.82721475003445,
          -9.52459991557452,
          -15.120953651154535,
          -3.791348868655965,
          -13.990506466582831,
          -12.473568555358481,
          -34.75293086911401,
          -0.22039170505851602,
          -5.581484071755139,
          -5.862105809596279,
          -9.41976800131588,
          -4.575418265090611,
          11.805481185025466,
          31.468320162773676,
          -8.93653030219381,
          -14.822221381849724,
          5.035548285040741,
          19.688430701327462,
          -2.383245798284129,
          22.932926014636134,
          21.25092462574108,
          23.35498461771505,
          -27.873050965474288,
          16.39573082332291,
          1.2111885227663766,
          -22.125068507275575,
          -15.738760906908007,
          1.5467963370906395,
          13.724877744760404,
          7.07795541073789,
          21.69287570115619,
          9.006897100326475,
          -29.133918169904465,
          -0.43618804325635224,
          5.978682330829072,
          -7.7283126239812105,
          19.63456183957139,
          1.2311574067512023,
          0.78239949868953,
          26.078772857964942,
          18.59600002830084,
          -2.969674067534017,
          -21.198629215352664,
          -26.98034367385184,
          -12.330620216188846,
          -14.137099041168156,
          -6.2219328781105325,
          -11.023853734487094,
          -4.334135361909236,
          -6.14802849233912,
          7.109342044154532,
          2.816531319012834,
          7.0326810714048245,
          11.606268331172581,
          -16.90844873773589,
          5.937586618035854,
          -5.298644342530204,
          11.128215993208526,
          17.18079144013086,
          1.5969113448231276,
          -3.489262914384664,
          -36.65717825547458,
          -14.888655433455408,
          0.9137059215107911,
          3.482503301544965,
          8.94535057113447,
          11.275343083538461,
          1.1977072227947938,
          -13.252579362009811,
          -0.24761126984814,
          17.693312857255183,
          -16.702623676000307,
          7.280303365821854,
          2.031751153834338,
          6.208199629237254,
          29.928187755627842,
          15.804912349241045,
          6.617219779414556,
          8.399129489921856,
          29.193271620780042,
          -3.4918259659176494,
          9.339079814974076,
          -13.942529226777143,
          3.9141854524270348,
          7.721298444526305,
          5.298427995705995,
          7.903315647541784
         ],
         "xaxis": "x",
         "y": [
          -2.9179260983933974,
          -2.683343516582629,
          7.102582287649101,
          -15.173312902538381,
          -8.177208774794007,
          -4.065697029241845,
          -4.481675304390136,
          4.40452448873928,
          23.76543800153257,
          -7.654490444775233,
          -3.6142747497262775,
          2.5502955589876297,
          -1.101632296847414,
          -0.683127648736535,
          20.247733775095178,
          -16.22517257659291,
          -3.343228544401741,
          21.959164392128976,
          -0.6847617159396883,
          0.8797919019945264,
          0.42583161355753263,
          -2.7033487602698356,
          1.0294059765634305,
          14.251293168486466,
          19.041103099659747,
          -4.428509779616735,
          -2.3522019609561977,
          -2.353637838015136,
          -0.04145206072136224,
          -0.9177746645179955,
          3.2838593744187765,
          -6.60812160373573,
          17.577236854812927,
          1.4294627162984195,
          -18.91520472349883,
          -7.842638542847683,
          1.705873133345898,
          -11.90173316250309,
          -9.870036392116265,
          -14.510585175323797,
          10.271287608349002,
          9.559271279778208,
          -2.5653889827723964,
          2.401362210377481,
          -4.2587069130368045,
          20.505144348651612,
          19.1502999224847,
          -17.578029614145763,
          -3.7296893591960862,
          -6.987241504462199,
          -2.8844671574471796,
          -8.973732963028477,
          12.855162196232751,
          -16.577816238597226,
          -3.7795263361835714,
          19.52148299315072,
          -1.2229400604899048,
          20.948722607247795,
          -6.795469282688095,
          6.875004201148304,
          9.508233804757802,
          28.148735116574912,
          15.8321109056739,
          -3.0796713098040875,
          -6.295171534188827,
          17.166119083881064,
          17.953168706972512,
          13.6496162609648,
          18.78669305790718,
          23.215951996560754,
          21.00078197177947,
          -30.96001713199172,
          20.465107767996887,
          -19.61288419379345,
          -3.0454284071491493,
          -23.29205201698038,
          4.042180694046379,
          6.616232403749817,
          -1.9076872839707024,
          6.79427666026311,
          5.947396003337155,
          -15.207717910199255,
          14.342543889814092,
          12.866122164389651,
          -0.5351593326051868,
          -6.594866093936772,
          7.727537905814668,
          -19.233454750540687,
          -2.395368836158962,
          10.872718480815669,
          -20.91125833735574,
          -6.648952647758485,
          26.52016169609076,
          11.413159466372448,
          0.12225507127881047,
          2.0972444406546273,
          -31.17925483416731,
          21.58820638594623,
          -4.5230969879267455,
          -0.7421207378493391,
          -14.449502154227114,
          22.033444225607038,
          -17.89750872501446,
          3.9923036944926173,
          -19.76828039213835,
          -5.982278879905725,
          14.823523031057293,
          -13.082108604751411,
          -9.961624560614753,
          -12.723312818069271,
          3.8183856216410232,
          -20.469151067332895,
          1.9720999854278418,
          -7.497590322284148,
          -21.115303450408828,
          -14.739705566723675,
          -0.47068566949307056,
          17.959824318964753,
          -31.459796231216682,
          -5.811266275154291,
          25.543734846636987,
          -11.972223243008433,
          7.1679669834995625,
          -3.7339537718498397,
          7.378879409443505,
          7.2897274059607,
          4.27901460761903,
          -4.057467954762054,
          16.909289981304696,
          7.069969024787999,
          6.26954260244852,
          5.632373438643526,
          18.321046351574786,
          -6.744618403990288,
          -3.872860575733506,
          11.418571235499758,
          18.34705999904903,
          8.856864055484731,
          -23.32648103594691,
          -11.840565529284408,
          7.267136625361445,
          7.464586121490879,
          -8.146824216012996,
          -1.9696401757953401,
          -5.10294871849358,
          4.860283981962332,
          26.089287226800717,
          14.23120399862929,
          18.425741477024214,
          19.941364650736702,
          9.515943996337786,
          5.280139457323514,
          8.091730328000585,
          -11.365336373299842,
          -8.134899745692191,
          1.7465531786051174,
          -15.414569843250597,
          -19.832319103905665,
          -20.246756233379415,
          -8.679378332569685,
          8.806924954053684,
          8.974448983631355,
          16.490548245875523,
          4.570029833578143,
          9.198514564386748,
          -10.753223140088837,
          -5.823748876568959,
          -14.022164071448167,
          -7.268270644892379,
          17.64523491425518,
          -25.169535791816116,
          -5.086470543681754,
          -19.290057599333075,
          10.9396960180985,
          20.090121103257136,
          -16.107654594659646,
          6.139252443761333,
          -29.93850812059718,
          8.828195879604435,
          4.405087974205278,
          25.449686395079127,
          -9.971377362559698,
          10.563302696611862,
          -5.320325852770154,
          19.856245998041004,
          2.8540537042061582,
          -22.818026391423988,
          -1.7507688898589981,
          6.313263513391672,
          -2.1950380124110818,
          3.416243517606835,
          20.066232475320938,
          19.546325078614792,
          -7.586716918212059,
          -3.276825318300696,
          -20.2375425940247,
          -0.8366992665254455,
          8.798107072165799,
          -3.856371317255292,
          -13.912082443500228,
          19.31221305493779,
          -9.542475365581558,
          -19.326497870307684,
          2.3219807616438564,
          -6.117523945790688,
          -13.516040407335312,
          6.306947230634395,
          -10.44226563640745,
          5.565606445865591,
          -7.734464662036938,
          4.717324852388221,
          -5.764371642494215,
          -14.384728774988206,
          -6.284073389805009,
          -3.6878560705998864,
          15.138754551609104,
          -4.900876180170399,
          3.3549458493143565,
          -4.540411948101345,
          4.711216888335012,
          -7.675872874510822,
          2.0495852484384893,
          4.844880700441495,
          -4.241439790154281,
          5.802671942942925,
          -2.384789345439332,
          -12.939022572867023,
          -12.434331384533673,
          -6.358388408347288,
          -10.172830614915489,
          -10.624479741573237,
          2.047356387779388,
          3.933397320930607,
          -7.744161929568833,
          7.817105505755114,
          7.371686223672099,
          -3.564212499642926,
          7.493519039330065,
          11.508590598755308,
          3.114176669063167,
          1.2754107837423536,
          7.918354044321793,
          -14.674864369784414,
          5.062988195511727,
          6.109670823104644,
          -3.5763236360494877,
          -2.262431977032386,
          -4.010097077170583,
          -6.388353112911478,
          -12.533540115898248,
          -4.683739001932529,
          -16.101109433887345,
          21.590024841402833,
          15.203369320652776,
          0.6170629911973655,
          15.734949829709658,
          -11.746684773510509,
          6.363841874454733,
          -9.92361183048686,
          -10.531932105623282,
          4.07554473296447,
          2.1999836146545064,
          10.764787383084084,
          -0.7915863908255948,
          7.414690726172426,
          8.18864430648572,
          -6.616084802210042,
          1.1729889936101812,
          -6.344597205140279,
          -0.20569837133752664,
          -28.939066627571336,
          -6.619756671563674,
          15.116915986323383,
          -12.4757402905828,
          2.0641852388086956,
          21.278922952138068,
          -4.124607820370027,
          21.342566605331644,
          -11.389809984541827,
          -7.354147430013159,
          0.6499904107732104,
          27.20451760041169,
          -1.6719949771338032,
          37.01879187993711,
          -5.725027846210662,
          9.782523699440679,
          -1.0153938123175685,
          -15.952769826019617,
          -2.2963622514987816,
          -15.193367226828295,
          -6.4977661265264,
          30.774325960142622,
          30.604135535257065,
          0.05496109989127879,
          9.027432906976046,
          -7.1379564265177775,
          -7.0270244275234495,
          -40.07095927854758,
          -30.394893456536405,
          4.947135446486641,
          -23.757695368422056,
          1.2829726895736875,
          0.4216011254519529,
          -12.554905683553924,
          7.347903473738414,
          -2.0888854087632533,
          -28.021807229501707,
          -21.191960440083882,
          -2.3015731844495995,
          -5.876803665168055,
          5.822188062230571,
          -0.8848729647613032,
          -1.3957423081103109,
          -1.868132546686157,
          7.351041911137649,
          -0.21372159470747878,
          -23.945978806485027,
          1.4002946645153391,
          1.8558992944589434,
          -12.897646311101498,
          23.983376263838775,
          12.432570948558451,
          -4.297311810536967,
          -0.2867082889683389,
          -23.373217491301535,
          26.329560781272,
          -1.201958457880836,
          -13.092671216393585,
          27.444641480743222,
          -2.9558885657769993,
          -7.5464969358597145,
          -7.095818243465419,
          -18.77718396672824,
          -5.345029121707101,
          2.5110773850212422,
          -2.370403841652075,
          12.782397926572175,
          -1.1702201429421406,
          4.876712166626156,
          -15.888106964012044,
          8.25846157856358,
          -16.425004113984915,
          -10.535649339529128,
          -1.9842840505195745,
          0.7039760379123864,
          3.298687240410905,
          0.2774597111858777,
          -11.587320910386017,
          -5.564240585081339,
          -8.008445739324998,
          7.425768794634358,
          -1.4576981795675734,
          -17.028201257621582,
          -4.772694362885469,
          -3.947370739932618,
          2.394688837939176,
          1.0194758128101562,
          -9.873451915147033,
          1.2649963332168728,
          -6.7233873172684815,
          2.97112115331196,
          -1.590844055535319,
          -19.24758040774957,
          7.117411028979492,
          -20.965914888136048,
          -23.635647589986732,
          1.7771430627494809,
          4.748123511962926,
          -4.355222891917816,
          -40.77568532397864,
          18.007759585329868,
          -9.875894882999608,
          -4.5714576066758115,
          -1.1318239918069242,
          9.79256812567846,
          6.416222346881325,
          -7.994382155499733,
          -14.15362613660415,
          5.469013685172614,
          22.806270271917466,
          2.0973327472750634,
          1.954201070174452,
          13.412291548658922,
          12.579039242440746,
          -1.3295211152086843,
          6.931177262992675,
          -0.5254612432128611,
          24.11403180143899,
          -8.588159539667329,
          13.727679946642871,
          12.869148559742943,
          22.463171256684625,
          26.976592287303866,
          17.33207483762322,
          -8.6960188764689,
          -25.953485189253282,
          -19.0476946416189,
          10.206103773034817,
          5.227462282663248,
          20.891185532988807,
          14.724958145128832,
          15.662112141298225,
          13.763548746024815,
          14.28758250446093,
          24.290600974792838,
          17.945897937357767,
          -10.231423954006287,
          0.19288861120183898,
          -13.186727319264605,
          16.772360403941082,
          22.92068412124142,
          20.505635716453728,
          19.2656430959478,
          3.1722271172093337,
          -1.985287015463808,
          6.612660337915827,
          11.507678485432788,
          5.739078151314698,
          -4.977077756815075,
          -8.603600953900619,
          -4.583523264068574,
          13.139878475735255,
          -0.5111817132485588,
          0.13621823944035694,
          2.963589313935859,
          4.625773186250009,
          2.0401794244361393,
          -0.9193889485642587,
          17.531870009900544,
          14.72706158799979,
          9.693011743534656,
          33.70262660920201,
          -7.571834192147105,
          3.5175500010412053,
          -2.1070777840807082,
          -1.4522319558664567,
          5.935511177824432,
          -9.879278801502009,
          2.314038548013426,
          -16.610553354983715,
          -1.7317050608972557,
          8.762683286167192,
          -10.173391086428579,
          4.393038800182741,
          1.9084999697826892,
          -3.3565654168654238,
          -9.396577701307884,
          4.9258666841647685,
          10.933841983066069,
          4.027808369423819,
          -18.059025247659793,
          -19.900608299990203,
          -7.446350812949952,
          2.5868440010771923,
          -5.806676923132184,
          -25.86019843731149,
          8.901735791101126,
          -11.646181242471078,
          -5.330352789186359,
          -1.3052575194025577,
          4.869274496940825,
          -3.5040905250218817,
          6.70180641673906,
          -7.237962333256701,
          -1.972712868289142,
          -12.824581052521134,
          18.180686090489605,
          -2.7113463746748847,
          3.652629458605157,
          -10.848212280019844,
          21.145780216481135,
          -5.275761850973067,
          -5.262001039792248,
          -4.387781150434282,
          -3.3872316556157256,
          4.39247376160426,
          -11.480811289291827,
          0.9460124313209743,
          10.645799928477546,
          9.53804711671514,
          -13.926256928743088,
          -1.9275517846099386,
          13.747751045296535,
          -1.8331418677404328,
          -8.593737092552413,
          -11.034745119452946,
          -24.57557034939017,
          -4.879858179683781,
          12.034654936142589,
          -2.5193527982455346,
          16.935227331590657,
          10.81513073099376,
          -10.602956356480886,
          21.02534295453282,
          -23.650098470404807,
          13.047177698013984,
          10.57526389612722,
          -0.3567324125638624,
          15.012601343244057,
          -11.765010429687894,
          3.9681404959509567,
          9.685160713494845,
          2.020311090357794,
          -1.6309834033884356,
          -17.427173789569235,
          -21.263862217646196,
          2.084882577309834,
          22.86111321455694,
          -9.577631069555526,
          -5.980722290338642,
          -0.5372652358536333,
          2.5982849607200045,
          -5.439577122979224,
          0.04453301759118856,
          -1.2167844007588842,
          -12.33744452813386,
          18.83736951166969,
          23.152449577423447,
          -8.017547201324525,
          8.510574071405486,
          5.260192278222149,
          -8.926040353919676,
          -24.5463500738438,
          -9.576663499122,
          9.978781791284902,
          6.926046631931586,
          2.365269047828242,
          -3.8234376613001846,
          20.203298748278137,
          26.33192161302668,
          -14.897394388621512,
          8.718136799085233,
          -3.0184168631172668,
          -5.222084911239189,
          0.8614670219333266,
          22.826398606123416,
          0.1591147968002056,
          -9.099248499780304,
          -9.642562250512912,
          9.525878663525898,
          -1.4110736506254902,
          -7.12671318794993,
          5.910833293521954,
          -4.762331450130608,
          -11.348786127085182,
          -8.125905550266227,
          -11.165616504827785,
          10.180576706391047,
          5.6898158553764,
          -8.608459404888464,
          12.220944829818253,
          -11.794780831075188,
          -0.06276212945078198,
          2.247841321081506,
          6.6625793169500644,
          2.1822667559591475,
          -13.957538590077,
          5.259674484812608,
          3.202081242737498,
          -12.31931666109663,
          5.173588544013678,
          17.01111199615026,
          3.0288662675306854,
          0.9612509755065142,
          17.888078206700005,
          -2.424795382924058,
          -6.157394068274794,
          18.638061155872734,
          4.104881157510851,
          -5.586744664889963,
          4.23347457467441,
          -25.85260001532412,
          -8.906675587465363,
          0.2710569719843566,
          20.32973493103993,
          -23.53984541627703,
          -1.097818295197864,
          -9.29457852136635,
          -3.150376537545635,
          -9.69332760142381,
          -0.850789820413516,
          -6.804113777215255,
          2.4625821942628128,
          -21.58115915205422,
          20.90541754470263,
          -8.03859940174669,
          -21.902063676176724,
          3.6576383721229337,
          5.942629339148772,
          -17.33365264847486,
          -23.63377403733476,
          -0.5616072304266873,
          0.6508469700139434,
          17.659828976906255,
          -7.058919192694026,
          -18.37310725029012,
          1.5650399002416533,
          -17.204045717707288,
          2.0722648071022163,
          20.73892209644821,
          4.506860646523055,
          1.520188091120305,
          6.558709991559339,
          -3.8838895259873407,
          -4.3267631887538505,
          24.404587787652734,
          5.9243502132850026,
          0.2195740705920479,
          3.0723568983362264,
          10.062455863032188,
          21.85926565168958,
          -11.719911824820617,
          -11.340996284046078,
          28.013151404563715,
          -3.3912670643547234,
          -16.643532973697187,
          -6.106809115113243,
          -10.028759761454678,
          21.246054240626943,
          1.639645345673227,
          6.464990526245362,
          -2.972557506994576,
          3.66838614587724,
          9.376043377966882,
          34.04890834061528,
          22.659025430840458,
          -21.72322765838218,
          -2.268880527103012,
          -19.508128336546235,
          9.04999962909466,
          -2.17562462450628,
          -5.167020467326195,
          -3.219717227516376,
          -4.7762683762441105,
          -28.491847125317477,
          9.111967197724564,
          -16.356666690042566,
          14.739511777985856,
          -0.42539739926670445,
          16.09755166885528,
          -4.657205859645585,
          -11.630893641099258,
          22.635979295676197,
          25.45131081178583,
          -0.27299444266886297,
          -6.665103590346803,
          -7.044550188611422,
          -0.12302148838078818,
          1.223695243279202,
          22.657807069738407,
          -4.566448425670609,
          12.167537214972699,
          -1.0197521855136753,
          -15.153923214540674,
          27.614130299902197,
          31.827645437811213,
          -13.414300495260605,
          -2.949766564158975,
          -8.585729644993334,
          -18.448341606382222,
          8.658640606904545,
          -2.003734121558837,
          9.686520421936198,
          0.26828072696581184,
          13.161255237662974,
          -5.391958143608153,
          15.510667937131823,
          -10.793024913650134,
          9.383243002247985,
          6.929070630139312,
          -10.070732278512128,
          -31.909139033547522,
          1.605168191404299,
          -1.2648055532745304,
          15.202605927438276,
          3.9761409267735486,
          7.859012849402312,
          -1.067929131767386,
          -10.766958676641986,
          -10.327606041160413,
          -8.234373821131936,
          -12.142318503761357,
          -6.652537065576373,
          11.151951655694766,
          -2.8111013605234487,
          13.356077942788389,
          9.169857097711722,
          -14.898322916242957,
          -7.975696901454405,
          16.661400113203943,
          11.901749815348154,
          -22.549867854421834,
          6.443228192341026,
          -15.175862263957896,
          -4.85642140124765,
          2.1598621392805333,
          -0.3990107153405824,
          14.80139436231762,
          -9.37074223028222,
          -15.207399520677013,
          -15.913125674512507,
          11.471715209477827,
          11.096737004355479,
          -17.452234067351636,
          30.029689896838605,
          -7.861716213888575,
          -28.20805187077866,
          0.8332138739477036,
          4.780059280444348,
          8.604167114664692,
          2.4984756970606816,
          3.213538047788642,
          -20.327294484565797,
          2.0343741347130515,
          -6.145304547265055,
          -8.93666063713336,
          -3.7690681045208283,
          -0.8078464667452879,
          21.995821689893802,
          -10.64030247249463,
          -11.442221183347549,
          -8.4317456845527,
          -33.13630048499503,
          -0.4231898135397883,
          10.502072557862515,
          -9.630262711756206,
          11.034446096865391,
          -19.88574549261108,
          -1.2028172001852881,
          3.333540026341153,
          2.932691865607568,
          4.682873178264405,
          -20.492906524606475,
          2.9508105335756802,
          -3.1037005272024154,
          -7.604569890872549,
          -14.20883218881739,
          -2.6904549301804184,
          0.19761245945794784,
          -4.363855569715744,
          -3.9300832854377052,
          -6.671135130871712,
          -22.097778239564487,
          -10.762245245484316,
          -9.03589319048223,
          6.9910285962652905,
          10.671279168479337,
          -1.2942579808330061,
          4.219963895207612,
          2.9881583768825766,
          -5.000975606006926,
          -6.306064485879355,
          -2.335883589464514,
          -7.860290478890933,
          -11.800589390225937,
          -14.012130531360055,
          -7.7686107569936285,
          4.2508450662412836,
          -9.780676256599843,
          -7.348856088395961,
          4.980422230344562,
          15.15408703744708,
          -2.549485113576196,
          3.2210974323225066,
          -14.754704627609037,
          -8.289527056817246,
          0.6296971203156012,
          -2.8856984036204327,
          11.924675141917012,
          -13.741083381281419,
          1.2548155333497744,
          -0.40466504581448565,
          -9.387945244799303,
          3.3339549019556936,
          -11.105448970259884,
          24.787054821981116,
          2.1895769496493345,
          5.24913796171837,
          3.01598178325621,
          0.32768274580816126,
          4.545891278779688,
          -0.30254826639982524,
          -0.4406004842304234,
          -14.674639439998922,
          -13.487717319253331,
          -6.343406717836693,
          0.7853428162843529,
          -11.188814045626355,
          9.417880876457348,
          -28.69217434067164,
          10.818372833164466,
          9.61412269903262,
          2.265246553444795,
          -7.916741844321158,
          -6.3125590736705455,
          -10.083685172085477,
          -10.895507887288652,
          -9.316585621412262,
          8.129111254893852,
          15.646403397472382,
          -3.961341983349151,
          4.611270151494971,
          11.112436307548782,
          22.77853519518188,
          4.535864793797047,
          -6.024421821406824,
          -4.640380235501134,
          21.1887669528559,
          -11.035936208419448,
          27.531371195260242,
          -5.48317988529432,
          -1.5670675091331878,
          -23.939821147256318,
          -1.4070933258720695,
          1.4985824301727626,
          16.90546519482505,
          12.031581334538334,
          -0.3759420510508452,
          17.394431485241427,
          0.6175746046291403,
          19.454970946818214,
          -4.227240993764781,
          -5.083477337669164,
          2.9877173342773418,
          -2.9994386531751895,
          4.642095031446441,
          -28.366221095758693,
          -8.577921388886654,
          -3.4015946672938906,
          -5.980968204943767,
          20.622418865957545,
          -5.512928967744822,
          22.814147110442267,
          37.91625714189225,
          -46.49700073228109,
          5.564766170774834,
          15.013279462652138,
          3.7790660575061645,
          -13.791869544283047,
          -8.620368533149781,
          -10.2877437800676,
          -26.76043019883829,
          5.23350394466844,
          -30.19132291054536,
          -6.169401474250582,
          3.811011600780526,
          10.985418049132097,
          -0.0396060293597654,
          -5.480018342201015,
          8.144451916056786,
          -15.486437423535689,
          1.433826022930182,
          -5.589088045934402,
          7.753315272817098,
          6.112904228291022,
          -15.710068457474451,
          0.6537311768128063,
          24.63611004069915,
          5.350491404426468,
          7.933938480277368,
          -18.980958526780206,
          -0.5543113167918462,
          -14.252968852741269,
          -10.955354169726741,
          -14.821971905604133,
          8.689421085159958,
          -5.576743479520533,
          14.76588284950731,
          6.759060759102526,
          3.508997269737469,
          3.5646400155879188,
          9.758812886897383,
          9.340858736763295,
          10.094917282517953,
          -22.79813749010263,
          -5.350857620105136,
          -6.501473188238813,
          -5.363106032185173,
          -12.178154313796748,
          -19.96133711174978,
          4.739131783159781,
          -12.15279546923659,
          2.8633021978246784,
          24.162567948195033,
          -2.9315255712182906,
          6.4882404515525085,
          7.451409948108481,
          37.465268986124755,
          9.260890835560858,
          -12.341456410841015,
          -5.086632306963065,
          -11.89627227554497,
          10.496109100904121,
          3.6791714619338696,
          -3.7171848419782973,
          7.5153979781684,
          -11.94554954861609,
          -9.012525962633504,
          -6.105416949957455,
          11.594737287368066,
          1.9500184517227164,
          27.749734064207985,
          -9.232916569789909,
          25.646268750486033,
          -2.2262536076993062,
          -5.173637465610257,
          -10.5288172859605,
          7.436231909610352,
          -7.192510552260985,
          -4.750111919838526,
          -9.275601499901224,
          7.133316209301282,
          -12.534560949277132,
          31.964405544666395,
          9.268677553815568,
          -12.825010109727566,
          3.6939977393028385,
          5.170616380951493,
          -20.117411488344015,
          -31.820612824294688,
          3.3590775528318093,
          -0.572028707037329,
          -6.309327498861968,
          -8.332288208185371,
          1.1856828258520746,
          13.79907789038042,
          2.691550386843006,
          -5.594976074599307,
          12.841249889565582,
          0.08117573409607148,
          19.960966212113735,
          6.022786711860768,
          3.7915919131010702,
          6.38165863960771,
          4.24933154520728,
          16.801286569700558,
          -4.961795996330745,
          -2.534372049029385,
          10.159340417652261,
          2.1093833922260483,
          -15.766133415558311,
          2.4354324927822426,
          24.117937053025592,
          -22.67196172439983,
          3.374550506517348,
          -4.688076839406658,
          2.1773759341043615,
          -25.33774384529108,
          8.979555244677607,
          -5.792405990163877,
          4.854290609812353,
          22.973970443918127,
          -5.096259329535295,
          26.36035819079251,
          -6.707301317813244,
          4.4631007613221785,
          21.986951024611322,
          10.023779074727333,
          -22.233060914479683,
          -20.0151099357177,
          15.590244805579296,
          -22.667273404304616,
          -8.315168125621963,
          5.4394455806684885,
          6.625798501405707,
          17.974482681711365,
          -22.094435529808745,
          7.204810019718742,
          12.636482537290075,
          -33.74308353313359,
          -10.518399248112942,
          21.796704293387382,
          -32.78712062722001,
          -9.359396535783347,
          8.554303081587273,
          -1.9889662862727726,
          -3.0444929449810108,
          19.77269853465425,
          -2.8647331933467512,
          8.046821470200094,
          21.788919262162363,
          14.139200051069372,
          -12.516320505187164,
          -18.375390661223946,
          2.424274866610595,
          13.790194101102808,
          -4.540817448417148,
          -6.444306589170362,
          18.915279767184114,
          -0.30960096490723304,
          -9.853432354773778,
          24.540418858071973,
          2.826018051469475,
          -8.207645262057824,
          -0.8013709811780043,
          -19.372587605197502,
          -7.933413210460215,
          6.539559102415349,
          7.851849358174631,
          -4.327847839606592,
          -17.697509149928383,
          3.322916321594606,
          13.469020125067251,
          -34.38857559836766,
          -4.587681082174192,
          -8.80716335276567,
          -0.3881030629933567,
          0.9409764745540173,
          -0.970880765198574,
          -22.392654545906364,
          -20.318835223111968,
          -4.49927683681014,
          -17.165506932958362,
          20.179697549992564,
          -2.2473193825289846,
          -7.620085335359886,
          1.2752885110364354,
          27.370700847466505,
          26.432076906313764,
          5.219510921887655,
          -5.677884089560395,
          34.880659766194775,
          -9.468166039395818,
          8.667710130880424,
          3.621611671681443,
          2.250043014064463,
          -25.916160322444053,
          6.044828753993882,
          -6.584205408803534,
          10.02014921675105,
          -1.2968063306407236,
          -17.49142495431818,
          -3.8321305544383946,
          7.785922984207354,
          3.186362810592069,
          -6.521781378976654,
          18.75596565342442,
          5.868245019872404,
          0.7822185376511165,
          0.13216833650521784,
          12.913120990715292,
          18.545580896946266,
          -5.210922026264383,
          7.28032094211654,
          4.626984721667725,
          -6.040738263882327,
          1.2604921857793574
         ],
         "yaxis": "y"
        }
       ],
       "layout": {
        "coloraxis": {
         "colorbar": {
          "title": {
           "text": "K Cluster"
          }
         },
         "colorscale": [
          [
           0,
           "#0d0887"
          ],
          [
           0.1111111111111111,
           "#46039f"
          ],
          [
           0.2222222222222222,
           "#7201a8"
          ],
          [
           0.3333333333333333,
           "#9c179e"
          ],
          [
           0.4444444444444444,
           "#bd3786"
          ],
          [
           0.5555555555555556,
           "#d8576b"
          ],
          [
           0.6666666666666666,
           "#ed7953"
          ],
          [
           0.7777777777777778,
           "#fb9f3a"
          ],
          [
           0.8888888888888888,
           "#fdca26"
          ],
          [
           1,
           "#f0f921"
          ]
         ]
        },
        "legend": {
         "tracegroupgap": 0
        },
        "margin": {
         "t": 60
        },
        "template": {
         "data": {
          "bar": [
           {
            "error_x": {
             "color": "#2a3f5f"
            },
            "error_y": {
             "color": "#2a3f5f"
            },
            "marker": {
             "line": {
              "color": "#E5ECF6",
              "width": 0.5
             },
             "pattern": {
              "fillmode": "overlay",
              "size": 10,
              "solidity": 0.2
             }
            },
            "type": "bar"
           }
          ],
          "barpolar": [
           {
            "marker": {
             "line": {
              "color": "#E5ECF6",
              "width": 0.5
             },
             "pattern": {
              "fillmode": "overlay",
              "size": 10,
              "solidity": 0.2
             }
            },
            "type": "barpolar"
           }
          ],
          "carpet": [
           {
            "aaxis": {
             "endlinecolor": "#2a3f5f",
             "gridcolor": "white",
             "linecolor": "white",
             "minorgridcolor": "white",
             "startlinecolor": "#2a3f5f"
            },
            "baxis": {
             "endlinecolor": "#2a3f5f",
             "gridcolor": "white",
             "linecolor": "white",
             "minorgridcolor": "white",
             "startlinecolor": "#2a3f5f"
            },
            "type": "carpet"
           }
          ],
          "choropleth": [
           {
            "colorbar": {
             "outlinewidth": 0,
             "ticks": ""
            },
            "type": "choropleth"
           }
          ],
          "contour": [
           {
            "colorbar": {
             "outlinewidth": 0,
             "ticks": ""
            },
            "colorscale": [
             [
              0,
              "#0d0887"
             ],
             [
              0.1111111111111111,
              "#46039f"
             ],
             [
              0.2222222222222222,
              "#7201a8"
             ],
             [
              0.3333333333333333,
              "#9c179e"
             ],
             [
              0.4444444444444444,
              "#bd3786"
             ],
             [
              0.5555555555555556,
              "#d8576b"
             ],
             [
              0.6666666666666666,
              "#ed7953"
             ],
             [
              0.7777777777777778,
              "#fb9f3a"
             ],
             [
              0.8888888888888888,
              "#fdca26"
             ],
             [
              1,
              "#f0f921"
             ]
            ],
            "type": "contour"
           }
          ],
          "contourcarpet": [
           {
            "colorbar": {
             "outlinewidth": 0,
             "ticks": ""
            },
            "type": "contourcarpet"
           }
          ],
          "heatmap": [
           {
            "colorbar": {
             "outlinewidth": 0,
             "ticks": ""
            },
            "colorscale": [
             [
              0,
              "#0d0887"
             ],
             [
              0.1111111111111111,
              "#46039f"
             ],
             [
              0.2222222222222222,
              "#7201a8"
             ],
             [
              0.3333333333333333,
              "#9c179e"
             ],
             [
              0.4444444444444444,
              "#bd3786"
             ],
             [
              0.5555555555555556,
              "#d8576b"
             ],
             [
              0.6666666666666666,
              "#ed7953"
             ],
             [
              0.7777777777777778,
              "#fb9f3a"
             ],
             [
              0.8888888888888888,
              "#fdca26"
             ],
             [
              1,
              "#f0f921"
             ]
            ],
            "type": "heatmap"
           }
          ],
          "heatmapgl": [
           {
            "colorbar": {
             "outlinewidth": 0,
             "ticks": ""
            },
            "colorscale": [
             [
              0,
              "#0d0887"
             ],
             [
              0.1111111111111111,
              "#46039f"
             ],
             [
              0.2222222222222222,
              "#7201a8"
             ],
             [
              0.3333333333333333,
              "#9c179e"
             ],
             [
              0.4444444444444444,
              "#bd3786"
             ],
             [
              0.5555555555555556,
              "#d8576b"
             ],
             [
              0.6666666666666666,
              "#ed7953"
             ],
             [
              0.7777777777777778,
              "#fb9f3a"
             ],
             [
              0.8888888888888888,
              "#fdca26"
             ],
             [
              1,
              "#f0f921"
             ]
            ],
            "type": "heatmapgl"
           }
          ],
          "histogram": [
           {
            "marker": {
             "pattern": {
              "fillmode": "overlay",
              "size": 10,
              "solidity": 0.2
             }
            },
            "type": "histogram"
           }
          ],
          "histogram2d": [
           {
            "colorbar": {
             "outlinewidth": 0,
             "ticks": ""
            },
            "colorscale": [
             [
              0,
              "#0d0887"
             ],
             [
              0.1111111111111111,
              "#46039f"
             ],
             [
              0.2222222222222222,
              "#7201a8"
             ],
             [
              0.3333333333333333,
              "#9c179e"
             ],
             [
              0.4444444444444444,
              "#bd3786"
             ],
             [
              0.5555555555555556,
              "#d8576b"
             ],
             [
              0.6666666666666666,
              "#ed7953"
             ],
             [
              0.7777777777777778,
              "#fb9f3a"
             ],
             [
              0.8888888888888888,
              "#fdca26"
             ],
             [
              1,
              "#f0f921"
             ]
            ],
            "type": "histogram2d"
           }
          ],
          "histogram2dcontour": [
           {
            "colorbar": {
             "outlinewidth": 0,
             "ticks": ""
            },
            "colorscale": [
             [
              0,
              "#0d0887"
             ],
             [
              0.1111111111111111,
              "#46039f"
             ],
             [
              0.2222222222222222,
              "#7201a8"
             ],
             [
              0.3333333333333333,
              "#9c179e"
             ],
             [
              0.4444444444444444,
              "#bd3786"
             ],
             [
              0.5555555555555556,
              "#d8576b"
             ],
             [
              0.6666666666666666,
              "#ed7953"
             ],
             [
              0.7777777777777778,
              "#fb9f3a"
             ],
             [
              0.8888888888888888,
              "#fdca26"
             ],
             [
              1,
              "#f0f921"
             ]
            ],
            "type": "histogram2dcontour"
           }
          ],
          "mesh3d": [
           {
            "colorbar": {
             "outlinewidth": 0,
             "ticks": ""
            },
            "type": "mesh3d"
           }
          ],
          "parcoords": [
           {
            "line": {
             "colorbar": {
              "outlinewidth": 0,
              "ticks": ""
             }
            },
            "type": "parcoords"
           }
          ],
          "pie": [
           {
            "automargin": true,
            "type": "pie"
           }
          ],
          "scatter": [
           {
            "fillpattern": {
             "fillmode": "overlay",
             "size": 10,
             "solidity": 0.2
            },
            "type": "scatter"
           }
          ],
          "scatter3d": [
           {
            "line": {
             "colorbar": {
              "outlinewidth": 0,
              "ticks": ""
             }
            },
            "marker": {
             "colorbar": {
              "outlinewidth": 0,
              "ticks": ""
             }
            },
            "type": "scatter3d"
           }
          ],
          "scattercarpet": [
           {
            "marker": {
             "colorbar": {
              "outlinewidth": 0,
              "ticks": ""
             }
            },
            "type": "scattercarpet"
           }
          ],
          "scattergeo": [
           {
            "marker": {
             "colorbar": {
              "outlinewidth": 0,
              "ticks": ""
             }
            },
            "type": "scattergeo"
           }
          ],
          "scattergl": [
           {
            "marker": {
             "colorbar": {
              "outlinewidth": 0,
              "ticks": ""
             }
            },
            "type": "scattergl"
           }
          ],
          "scattermapbox": [
           {
            "marker": {
             "colorbar": {
              "outlinewidth": 0,
              "ticks": ""
             }
            },
            "type": "scattermapbox"
           }
          ],
          "scatterpolar": [
           {
            "marker": {
             "colorbar": {
              "outlinewidth": 0,
              "ticks": ""
             }
            },
            "type": "scatterpolar"
           }
          ],
          "scatterpolargl": [
           {
            "marker": {
             "colorbar": {
              "outlinewidth": 0,
              "ticks": ""
             }
            },
            "type": "scatterpolargl"
           }
          ],
          "scatterternary": [
           {
            "marker": {
             "colorbar": {
              "outlinewidth": 0,
              "ticks": ""
             }
            },
            "type": "scatterternary"
           }
          ],
          "surface": [
           {
            "colorbar": {
             "outlinewidth": 0,
             "ticks": ""
            },
            "colorscale": [
             [
              0,
              "#0d0887"
             ],
             [
              0.1111111111111111,
              "#46039f"
             ],
             [
              0.2222222222222222,
              "#7201a8"
             ],
             [
              0.3333333333333333,
              "#9c179e"
             ],
             [
              0.4444444444444444,
              "#bd3786"
             ],
             [
              0.5555555555555556,
              "#d8576b"
             ],
             [
              0.6666666666666666,
              "#ed7953"
             ],
             [
              0.7777777777777778,
              "#fb9f3a"
             ],
             [
              0.8888888888888888,
              "#fdca26"
             ],
             [
              1,
              "#f0f921"
             ]
            ],
            "type": "surface"
           }
          ],
          "table": [
           {
            "cells": {
             "fill": {
              "color": "#EBF0F8"
             },
             "line": {
              "color": "white"
             }
            },
            "header": {
             "fill": {
              "color": "#C8D4E3"
             },
             "line": {
              "color": "white"
             }
            },
            "type": "table"
           }
          ]
         },
         "layout": {
          "annotationdefaults": {
           "arrowcolor": "#2a3f5f",
           "arrowhead": 0,
           "arrowwidth": 1
          },
          "autotypenumbers": "strict",
          "coloraxis": {
           "colorbar": {
            "outlinewidth": 0,
            "ticks": ""
           }
          },
          "colorscale": {
           "diverging": [
            [
             0,
             "#8e0152"
            ],
            [
             0.1,
             "#c51b7d"
            ],
            [
             0.2,
             "#de77ae"
            ],
            [
             0.3,
             "#f1b6da"
            ],
            [
             0.4,
             "#fde0ef"
            ],
            [
             0.5,
             "#f7f7f7"
            ],
            [
             0.6,
             "#e6f5d0"
            ],
            [
             0.7,
             "#b8e186"
            ],
            [
             0.8,
             "#7fbc41"
            ],
            [
             0.9,
             "#4d9221"
            ],
            [
             1,
             "#276419"
            ]
           ],
           "sequential": [
            [
             0,
             "#0d0887"
            ],
            [
             0.1111111111111111,
             "#46039f"
            ],
            [
             0.2222222222222222,
             "#7201a8"
            ],
            [
             0.3333333333333333,
             "#9c179e"
            ],
            [
             0.4444444444444444,
             "#bd3786"
            ],
            [
             0.5555555555555556,
             "#d8576b"
            ],
            [
             0.6666666666666666,
             "#ed7953"
            ],
            [
             0.7777777777777778,
             "#fb9f3a"
            ],
            [
             0.8888888888888888,
             "#fdca26"
            ],
            [
             1,
             "#f0f921"
            ]
           ],
           "sequentialminus": [
            [
             0,
             "#0d0887"
            ],
            [
             0.1111111111111111,
             "#46039f"
            ],
            [
             0.2222222222222222,
             "#7201a8"
            ],
            [
             0.3333333333333333,
             "#9c179e"
            ],
            [
             0.4444444444444444,
             "#bd3786"
            ],
            [
             0.5555555555555556,
             "#d8576b"
            ],
            [
             0.6666666666666666,
             "#ed7953"
            ],
            [
             0.7777777777777778,
             "#fb9f3a"
            ],
            [
             0.8888888888888888,
             "#fdca26"
            ],
            [
             1,
             "#f0f921"
            ]
           ]
          },
          "colorway": [
           "#636efa",
           "#EF553B",
           "#00cc96",
           "#ab63fa",
           "#FFA15A",
           "#19d3f3",
           "#FF6692",
           "#B6E880",
           "#FF97FF",
           "#FECB52"
          ],
          "font": {
           "color": "#2a3f5f"
          },
          "geo": {
           "bgcolor": "white",
           "lakecolor": "white",
           "landcolor": "#E5ECF6",
           "showlakes": true,
           "showland": true,
           "subunitcolor": "white"
          },
          "hoverlabel": {
           "align": "left"
          },
          "hovermode": "closest",
          "mapbox": {
           "style": "light"
          },
          "paper_bgcolor": "white",
          "plot_bgcolor": "#E5ECF6",
          "polar": {
           "angularaxis": {
            "gridcolor": "white",
            "linecolor": "white",
            "ticks": ""
           },
           "bgcolor": "#E5ECF6",
           "radialaxis": {
            "gridcolor": "white",
            "linecolor": "white",
            "ticks": ""
           }
          },
          "scene": {
           "xaxis": {
            "backgroundcolor": "#E5ECF6",
            "gridcolor": "white",
            "gridwidth": 2,
            "linecolor": "white",
            "showbackground": true,
            "ticks": "",
            "zerolinecolor": "white"
           },
           "yaxis": {
            "backgroundcolor": "#E5ECF6",
            "gridcolor": "white",
            "gridwidth": 2,
            "linecolor": "white",
            "showbackground": true,
            "ticks": "",
            "zerolinecolor": "white"
           },
           "zaxis": {
            "backgroundcolor": "#E5ECF6",
            "gridcolor": "white",
            "gridwidth": 2,
            "linecolor": "white",
            "showbackground": true,
            "ticks": "",
            "zerolinecolor": "white"
           }
          },
          "shapedefaults": {
           "line": {
            "color": "#2a3f5f"
           }
          },
          "ternary": {
           "aaxis": {
            "gridcolor": "white",
            "linecolor": "white",
            "ticks": ""
           },
           "baxis": {
            "gridcolor": "white",
            "linecolor": "white",
            "ticks": ""
           },
           "bgcolor": "#E5ECF6",
           "caxis": {
            "gridcolor": "white",
            "linecolor": "white",
            "ticks": ""
           }
          },
          "title": {
           "x": 0.05
          },
          "xaxis": {
           "automargin": true,
           "gridcolor": "white",
           "linecolor": "white",
           "ticks": "",
           "title": {
            "standoff": 15
           },
           "zerolinecolor": "white",
           "zerolinewidth": 2
          },
          "yaxis": {
           "automargin": true,
           "gridcolor": "white",
           "linecolor": "white",
           "ticks": "",
           "title": {
            "standoff": 15
           },
           "zerolinecolor": "white",
           "zerolinewidth": 2
          }
         }
        },
        "title": {
         "text": "Data MDS Plot",
         "x": 0.5
        },
        "xaxis": {
         "anchor": "y",
         "domain": [
          0,
          1
         ],
         "title": {
          "text": "Component 1"
         }
        },
        "yaxis": {
         "anchor": "x",
         "domain": [
          0,
          1
         ],
         "title": {
          "text": "Component 2"
         }
        }
       }
      }
     },
     "metadata": {},
     "output_type": "display_data"
    }
   ],
   "source": [
    "\n",
    "kmeans_data_df = pd.concat([pd.DataFrame({\"Component 1\":embedding_data[:,0],\"Component 2\":embedding_data[:,1]}), \n",
    "                            pd.DataFrame({\"K Cluster\":kmeans.labels_})], axis=1)\n",
    "\n",
    "fig = px.scatter(kmeans_data_df, \n",
    "                 x=\"Component 1\", \n",
    "                 y=\"Component 2\", \n",
    "                 color=\"K Cluster\")\n",
    "fig.update_layout(title=\"Data MDS Plot\",\n",
    "                  title_x=0.5)\n",
    "fig.show()\n",
    "\n",
    "\n"
   ]
  },
  {
   "cell_type": "code",
   "execution_count": 94,
   "id": "bac1927d",
   "metadata": {},
   "outputs": [
    {
     "data": {
      "application/vnd.plotly.v1+json": {
       "config": {
        "plotlyServerURL": "https://plot.ly"
       },
       "data": [
        {
         "hovertemplate": "Component 1=%{x}<br>Component 2=%{y}<extra></extra>",
         "legendgroup": "",
         "marker": {
          "color": "#636efa",
          "symbol": "circle"
         },
         "mode": "markers",
         "name": "",
         "orientation": "v",
         "showlegend": false,
         "type": "scatter",
         "x": [
          0.22939216689176842,
          0.7388752197504631,
          -0.3551736605209166,
          -0.08488753295610052,
          -0.6141772427430889,
          0.7348932593454882,
          -0.2569890489465918,
          0.6257749377580423,
          0.5711335942216053,
          -0.1318483625099608,
          -0.19616237508016,
          0.5243613706857474,
          0.8043528230083533,
          -0.529818208069937,
          -0.02848350453445092,
          -0.15635793853413665,
          -0.08446193520442101,
          -0.529267752859192,
          0.7629775301119961,
          -0.3733051047491334,
          0.6155412748432291,
          0.7500357179436651,
          -0.4246074646852109,
          -0.5026200202578005,
          -0.020627531708298084,
          0.3456157459705792,
          0.39038082598239343,
          -0.025504348969592975,
          0.3408810721466918,
          0.23834133527078788,
          0.48213862411109154,
          0.34834875514437963,
          0.17774297469397565,
          -0.3555823664072807,
          -0.4430653099357134,
          -0.2945850004307366,
          0.24307839954988997,
          0.5539435862870273,
          0.16680620401021645,
          0.2065679179086215,
          -0.2616708673024768,
          -0.3198113258791004,
          -0.6720263836756571,
          0.08215900035148292,
          -0.015292223167562565,
          0.11840947108492293,
          0.17525270784124644,
          -0.039569976545203944,
          0.25860883348451874,
          -0.28562872631304304,
          -0.2279692144577582,
          -0.350385188579389,
          -0.3625718599623567,
          0.6726131941212581,
          -0.3361331952636399,
          -0.20333614581866893,
          0.24083749474066188,
          -0.07337220429224815,
          -0.24039429818812855,
          -0.16831984633435187,
          0.07452518461211145,
          -0.09940492725278355,
          0.05314284060787817,
          0.1438999120492574,
          -0.1755877641461578,
          -0.2564669338104142,
          -0.29181081157325095,
          0.04855259490196283,
          -0.6304311281301249,
          -0.5652296467683212,
          0.3503021510963062,
          -0.04416880670786266,
          -0.5959899047894327,
          0.00454166571053501,
          -0.025344874870616478,
          -0.02453619498011893,
          0.051860184408198194,
          -0.1603770096804499,
          -0.1302655231729771,
          -0.09867972861174035,
          -0.006164121908864536,
          -0.569240409012073,
          -0.023195357601809387,
          0.4104572571317154,
          -0.05631357159132975,
          -0.010628196342159685,
          -0.021463056805984836,
          -0.4456665171344946,
          -0.2659700591171471,
          -0.15205667023229755,
          -0.023138428837053738,
          -0.5435784212065209,
          -0.41312823538628973,
          -0.023195357601809678,
          -0.025346652235243246,
          -0.5313765363294409,
          -0.006557648635156665,
          -0.022484252548326773,
          -0.14117674465353974,
          -0.05191431034436865,
          -0.01782769013612833,
          -0.02676283506787191,
          -0.021385658351919752,
          -0.4770691010645048,
          0.10900347914895137,
          -0.08311304455780856,
          0.5992715769038546,
          0.06668520253667433,
          0.0302392997459245,
          -0.002418877547598525,
          -0.7335570560212125,
          0.5738431473971318,
          -0.5789016811568194,
          -0.46663875362017476,
          0.05397349213224526,
          0.34127098023176433,
          0.08549599138091019,
          0.018407192456429078,
          0.37162525443396693,
          -0.15376067008469746,
          -0.2606748769982838,
          -0.013446997734475307,
          -0.45577461834032096,
          -0.27784575647889104,
          -0.11023311392640044,
          -0.2893820319004413,
          0.4621200391237523,
          0.22304072800261326,
          0.7753510999867955,
          0.7021132423017267,
          -0.5303274109826273,
          0.3692818528739825,
          -0.4143237381533949,
          -0.1710958213898881,
          0.41436547796926976,
          -0.025294752134062622,
          -0.02144345282458491,
          0.6694248585534914,
          0.21347306493597454,
          0.08630126828703334,
          0.7361130318193972,
          0.5217109438145145,
          -0.4703754048620567,
          -0.02201188904888762,
          -0.0029401939323955802,
          -0.008993681928747638,
          -0.07583634655602389,
          -0.015294137282426118,
          -0.09819098741112021,
          -0.1793407073106312,
          -0.023601757628133394,
          0.0065227315526435615,
          0.5592323329495011,
          0.5964821275253184,
          -0.49010174086221525,
          -0.1453142999927473,
          0.6206835686270734,
          -0.4601826100817589,
          0.4590666989520342,
          -0.22940857878877238,
          0.046377786315413054,
          -0.023561931145806198,
          0.026010904595647588,
          -0.004048119661325054,
          -0.46826145089919496,
          -0.04389675420496548,
          -0.12376946195903962,
          -0.41329986971198507,
          -0.30371244830668137,
          -0.08232109611127271,
          -0.16364156888521553,
          -0.03242292205611216,
          0.11889010086610631,
          0.16479830760604372,
          -0.03616175196049796,
          0.002781373946495717,
          -0.07341351192319119,
          -0.08386376771631594,
          -0.004921356838156974,
          -0.035164531177080245,
          0.2244780259551812,
          -0.04824967276883254,
          -0.16414327114885913,
          -0.02238645539996168,
          -0.5654622559117518,
          -0.012016458776220615,
          -0.039097349923662365,
          -0.13911607806463164,
          -0.4234822972871617,
          -0.11567132282359271,
          -0.2870271835166378,
          -0.020845190894378654,
          -0.13501803615728242,
          0.38537303389988303,
          -0.5671701548795485,
          -0.023195357601808318,
          -0.24116520669257727,
          -0.4163341879034666,
          -0.023195357601810927,
          -0.023195357601810556,
          -0.02319535760180891,
          -0.023195357601809338,
          -0.023195357601810115,
          -0.02319535760181079,
          -0.023195357601809897,
          -0.023182425579256594,
          -0.023195357601809456,
          -0.030421596131414767,
          -0.02319535760180901,
          -0.023195357601809977,
          -0.02319535760180925,
          -0.02348109635238685,
          -0.02319535760180889,
          0.8614074805651387,
          0.8290893756293037,
          0.5806806089648208,
          0.4676741079805124,
          0.09716000434263128,
          0.14714060948933635,
          -0.12077867174387893,
          0.07386912766394149,
          -0.023181807931102704,
          0.01997938110907837,
          -0.02319535760180933,
          -0.7202803635702179,
          0.6188119293617402,
          -0.5966050736046358,
          0.5614562491513672,
          0.5727660422206956,
          -0.009442362898965837,
          -0.08094423582879672,
          -0.493185562859018,
          0.17452237876049884,
          -0.20587812862000562,
          0.3804719287316427,
          0.32131626627529575,
          0.21143630099249022,
          0.29976840508097424,
          -0.38399772538946886,
          -0.21804240198049088,
          0.4968776699831364,
          -0.048243463663606434,
          -0.335851998919751,
          0.1339561152202394,
          -0.22452694561853104,
          0.29030993019905005,
          0.006330689229179959,
          0.29058069029372025,
          -0.016711801358980937,
          0.6827901308944728,
          0.2955885696673323,
          0.08318754087552102,
          -0.07042548678140721,
          0.11477794365557863,
          -0.3485525557122512,
          -0.1538925564935192,
          -0.30205582075998644,
          -0.02745905678661434,
          -0.0679504816472138,
          -0.038624643943846224,
          -0.016157742395978055,
          -0.009236370396569497,
          -0.03649868461188116,
          -0.014867629984874358,
          -0.03241297848078322,
          0.04063283708512913,
          -0.32777583221641693,
          -0.025687432771635803,
          -0.005064931292848736,
          -0.04938282260035556,
          -0.0033664511677777365,
          -0.045983901108701944,
          -0.10060374094499974,
          -0.013661234496570761,
          -0.022825465649637187,
          -0.008596750313759218,
          -0.058304542721248215,
          0.010010942718248355,
          -0.029105967394156544,
          -0.022733195214979483,
          -0.07685091586747643,
          -0.03181807344277637,
          -0.0751787235984888,
          -0.02319431070215105,
          -0.02319535760180789,
          -0.023218863668477266,
          -0.023195357601811014,
          -0.023195357601811233,
          -0.023195357601809626,
          -0.02322888547622697,
          -0.02228517082065659,
          -0.023195357601809557,
          -0.023195174192239258,
          -0.023195357601811042,
          -0.02319535760180659,
          -0.036835106689120135,
          -0.6350186682413644,
          -0.04424874364969821,
          -0.24210332516036565,
          -0.29778142564424664,
          -0.024167963649171863,
          -0.023835460492769064,
          -0.03504594293600711,
          0.11605270599459483,
          -0.04556134063122241,
          -0.018456316879694738,
          0.6970580193873269,
          0.3333869547597345,
          0.4079263988561038,
          0.3010639680098883,
          0.33744756120300956,
          -0.06271140164860878,
          0.0715760144294185,
          0.024945235283366615,
          -0.3004177148211822,
          -0.42388092893343193,
          -0.36505689073833714,
          -0.018123531796694573,
          -0.5192242685001633,
          0.3414782545333274,
          -0.34510619691916916,
          -0.0805241808721254,
          0.08688611728394174,
          -0.032680124317552094,
          -0.5948808189657147,
          -0.5712127428451427,
          -0.7256504043219317,
          0.3082594467275377,
          -0.04338358575691995,
          -0.02302173114331031,
          -0.10455335710872983,
          -0.6043522814866245,
          0.734782672345021,
          -0.21441802670108798,
          0.0015685784614925542,
          -0.3162054156064501,
          -0.3609708506361102,
          -0.02297138266224633,
          -0.3840882146280381,
          -0.0212129430945707,
          -0.4424528558481216,
          -0.25341232703890787,
          0.06728649371677742,
          0.42810005191713557,
          -0.023973609918590405,
          -0.07091371134663751,
          0.058885411856145556,
          0.7621399654223087,
          0.2530329241804447,
          -0.02563895240875607,
          -0.023883787257716893,
          0.7681974384921821,
          -0.20400739035099574,
          0.7162432680131202,
          -0.02951345082685279,
          0.07766690840304238,
          0.09552442119096853,
          0.6290195458668619,
          0.4168501068526555,
          -0.5328077293370566,
          -0.6320312655174852,
          -0.5023759696591064,
          0.2423616334140354,
          0.7249974193003146,
          0.26906307181588485,
          0.41623444070480803,
          0.289692048276277,
          0.0420183059415575,
          0.29958024202471767,
          0.20367969247028947,
          0.48029440272937823,
          0.5470289062270823,
          -0.3885885589425051,
          0.17623432140377274,
          -0.2641374937214481,
          0.16577436994093434,
          0.18188212143931476,
          -0.13619422525183678,
          0.3034346527554392,
          0.17025632612224528,
          0.18900500167600526,
          0.08346706991826237,
          0.23213626688472871,
          0.07337651999676316,
          -0.39067751923185107,
          0.12562240393203486,
          0.0918635452561212,
          0.1252960710809006,
          0.07808985957695184,
          0.3831731395733638,
          0.008641657387017854,
          0.09157083624251407,
          0.0650755495079463,
          0.08643230750819801,
          0.027669977428326813,
          0.12441234898825487,
          -0.29416010234110507,
          -0.04913512443546816,
          0.11568348683214108,
          -0.22887947977554982,
          0.13851839372176247,
          -0.1449474186539356,
          -0.12191607610263386,
          0.060876324363329036,
          0.061108929611197335,
          0.04944489645026525,
          -0.2853094978821563
         ],
         "xaxis": "x",
         "y": [
          -0.8666647536747819,
          -0.5322217469632002,
          -1.070421674422235,
          -1.1884455489039374,
          0.12574701977855038,
          -0.20495450473777913,
          -1.1341297590464503,
          -0.9892577259334411,
          0.08178298247728998,
          -0.6322521491130099,
          -1.3142655885657284,
          -0.8301474028226802,
          -0.7870758026163532,
          -0.04985144229819321,
          0.2777564322402239,
          -1.3253042978423124,
          0.3351562669374885,
          -0.2906951976833615,
          -0.850634101839416,
          -0.8483625096863493,
          -0.07624445890088781,
          0.08512469858734806,
          -0.9238148249146966,
          -0.9076231649702003,
          -0.4666655274146966,
          0.35120457382505854,
          0.34396472827904045,
          -0.3924554078853187,
          0.31920799455448223,
          -0.13456816741302208,
          0.3270119460807134,
          0.13684896655436887,
          -0.05580979623056682,
          0.28169888201921095,
          -0.008656137734948215,
          -0.6859016089235365,
          0.37734716568783505,
          0.28387958796137563,
          0.3452435438371824,
          0.38413837464342787,
          -0.9535572063096321,
          0.05490232016919738,
          -0.012019746762714967,
          0.4397375195919313,
          0.008185192568024588,
          0.18673884897172313,
          0.24270202701548488,
          0.11687183935233576,
          0.17225221652126646,
          0.25152588924161695,
          0.04785653738761806,
          0.06501663492700585,
          -0.006814484204257227,
          0.028686313882325336,
          0.24468221948544572,
          0.23070480402279098,
          0.22895669641291402,
          0.12461140127644785,
          0.3410024659804395,
          -0.1861339749540429,
          0.24465339322005125,
          0.3585755591084318,
          0.43122920983703683,
          0.2745632273401208,
          0.247307517954863,
          0.17933733926334774,
          0.10006253896182743,
          0.30358339758667846,
          -0.19515847830856972,
          -0.5135991107832064,
          -0.6040714330126025,
          0.3359445324003042,
          -0.19997317351292412,
          0.41847249862121483,
          0.3131987438493809,
          0.3117875607559322,
          -1.1377150247326242,
          0.4109652928886061,
          0.3985405102772266,
          0.16983638162272863,
          0.29473297704392115,
          -0.002775239648876242,
          0.31302982297142473,
          -0.24571615263328156,
          0.28771721145578744,
          0.3076748253747599,
          0.31355062065559336,
          0.17126355017080452,
          0.1128388323163873,
          0.27609128372814673,
          0.31298535260620286,
          -0.15679517146150768,
          0.06853009433541266,
          0.3130298229714239,
          0.312333521809306,
          -0.8560423718151438,
          0.1321961330937651,
          0.30351420480680086,
          -0.15999859354780074,
          -0.028337360921412598,
          0.38413098516685934,
          0.31431117841556894,
          0.31266349193078846,
          -0.1783138925037507,
          0.3971295636306377,
          0.4002446516420254,
          0.11042862995318192,
          -0.6764790538770171,
          0.35855612810736875,
          0.269437433783124,
          -0.08561613256405076,
          -0.26937556822245373,
          0.0188965518522003,
          -0.4360090300482197,
          0.1594499313536668,
          -0.4243726391596998,
          -0.033769806130538864,
          0.2284203371817565,
          -0.633769792914108,
          0.4727521240621557,
          0.43209506493059335,
          0.25743421795616184,
          -0.6939472467831135,
          0.19327333299349148,
          -0.28856335716317805,
          0.37245342554849925,
          -0.5349638435627683,
          0.198757578297004,
          -0.2621526728870206,
          -0.12389557842085823,
          -0.23529008372953866,
          -0.1641187198868804,
          0.37931657139082653,
          0.356237314129942,
          0.2173671875271485,
          0.338175201941456,
          0.29433329626652255,
          0.06457363379835374,
          -0.4313982198004278,
          0.2640117331501477,
          -0.48025843450149297,
          -0.07276832981834117,
          0.24920375908906253,
          0.3153368305504891,
          0.32377032317487153,
          0.40747070342281544,
          0.38361213291658725,
          0.3245679268015257,
          0.2155749676652605,
          0.3591381003760795,
          0.3232989768584503,
          0.3263070419214128,
          -0.6789796046206318,
          0.17463392455538987,
          0.11886146226161926,
          0.18616854397697002,
          -0.3979039192228457,
          0.17308883752575926,
          -0.40278983942925733,
          0.31729613353727837,
          0.2274070700893007,
          0.3325086363679076,
          0.15901358720140943,
          0.31933882212634707,
          -0.05409711026362006,
          0.2686782752653426,
          0.006916504211452252,
          0.3531699303329125,
          -0.053255136967827424,
          0.3611377250647083,
          0.31477459421733045,
          -0.028504910257997094,
          -0.15964196437865777,
          0.45348476738965304,
          0.3991235174141397,
          0.3186248045163604,
          0.2527422707416611,
          0.4312010795382866,
          0.30763892066538234,
          0.37974830839930396,
          0.04646875686000481,
          0.36037949667126373,
          -0.11156696089560644,
          0.31350602376328895,
          0.05406685246878714,
          0.18806964471731902,
          0.31445276477265915,
          0.3318062686352777,
          -0.5769193120973405,
          0.3591140221201153,
          -0.20949612858633757,
          0.5260333225925946,
          -0.3796852271225755,
          -0.0679057241817726,
          -0.36365265860079476,
          0.3130298229714228,
          0.3933636763273713,
          -0.1769910047028798,
          0.31302982297142606,
          0.31302982297142556,
          0.31302982297142556,
          0.31302982297142423,
          0.31302982297142495,
          0.31302982297142534,
          0.3130298229714257,
          0.3130408047981629,
          0.3130298229714249,
          0.3139222595288033,
          0.3130298229714234,
          0.3130298229714239,
          0.3130298229714229,
          0.3084314019872629,
          0.3130298229714243,
          -0.4189949815354342,
          -0.10407984479065382,
          -0.535714778832469,
          0.06871116800301436,
          -0.839287608593289,
          -0.09163658621187347,
          -1.0724176037720996,
          -1.0260548752048448,
          0.31301300156466527,
          -0.2616802785590422,
          0.3130298229714238,
          -0.21547053037596334,
          -0.25119132181978054,
          0.08625983552365468,
          -0.0013010682931493386,
          -0.07637578803480095,
          0.3329035775546554,
          0.5051809277278149,
          -0.9310034444466245,
          -1.3178604210803886,
          0.11057225976615724,
          0.2194985245393746,
          -0.7787913777824027,
          -1.3748931700481506,
          0.23170056622113214,
          -0.3778625868670277,
          -1.128882760547905,
          -1.0298175246102392,
          0.30383563826854704,
          -0.22048253570267923,
          -0.9447871482280178,
          -0.6346110869453031,
          -1.2164378704041532,
          -1.3382026180975204,
          0.2979009082292154,
          0.31825222402145253,
          -0.7977200782245747,
          -1.06415350571617,
          -1.3019945485505797,
          -0.9500053786487515,
          0.28145217332525757,
          -0.42747302809690524,
          -0.56933049528934,
          -0.888580241426554,
          0.3159223117360511,
          0.3033309641642608,
          0.30654050754761303,
          0.3204732446579058,
          0.29267769056270165,
          0.3207961195745411,
          0.31815441778372877,
          0.3109984003391153,
          0.3298773218651204,
          -0.0522333721996159,
          0.311368287885733,
          0.324715612667705,
          0.3117118583523336,
          0.3304022183144316,
          0.303537876267773,
          0.2804512770170179,
          0.3193670334709293,
          0.313403949586142,
          0.32065904108871396,
          0.32093056657636687,
          0.30241398730291885,
          0.3116184577312445,
          0.313735299366957,
          0.28773688040842527,
          0.29791486034049897,
          0.26975474533379806,
          0.31310579121710846,
          0.3130298229714246,
          0.31305176999745776,
          0.3130298229714256,
          0.31302982297142684,
          0.3130298229714256,
          0.3131329932561771,
          0.312861059825968,
          0.31302982297142523,
          0.31302970170751626,
          0.31302982297142423,
          0.3130298229714223,
          0.3011218527649251,
          -0.43363219712174006,
          0.29590007565710147,
          0.360532427944024,
          0.2134649463748363,
          0.312092784874161,
          0.3125651787870863,
          0.2927436758860099,
          -0.631781849017748,
          0.31068246457606297,
          -1.429319982243754,
          -1.0561359459737125,
          -1.4201953395497622,
          -1.3749148232677828,
          -0.07733530710509115,
          -0.8804089984862179,
          -1.3524298979452036,
          -1.4159785595455758,
          0.36506209694843805,
          -0.540468523797662,
          -0.056812438650195606,
          -1.0881003819184714,
          0.31545025639236585,
          0.450701167790819,
          0.41396843538403905,
          0.32495780576386873,
          -1.1110785825207246,
          0.35257409073103185,
          0.3244978373888921,
          0.16083349586806928,
          -0.6022807477324418,
          -0.4119073841618104,
          0.47297600037140297,
          0.29804626726834843,
          0.3131278308878999,
          0.2589022980037694,
          -0.4268639308552861,
          -0.21641252664095242,
          -1.0906487517286712,
          0.3363264554931407,
          -0.9387450183938294,
          0.3826876997490421,
          0.31417636649462977,
          -0.15453550528293808,
          0.411766485058032,
          -0.570300397744963,
          -1.2719853275293085,
          0.3493056151000459,
          0.28471055406306955,
          0.2944438954303672,
          0.30168266581800773,
          0.37736596569543734,
          -0.31290422527571654,
          -0.20733134302745126,
          0.31305212957016854,
          0.3215488667532948,
          -0.36054486775502703,
          0.19223064931170394,
          -0.9751339538541959,
          0.30550105889999724,
          0.17478973457549382,
          -0.24670072134467158,
          0.14874532166740262,
          -0.339767923566308,
          -0.587514696966602,
          0.1841821983691842,
          0.32822481494580913,
          -0.3528511790250669,
          0.16041241837502243,
          -0.17724570987215688,
          0.027901109667025147,
          0.36593796664169675,
          -0.20812195786499282,
          -0.05853524397792538,
          0.4879694298470487,
          0.2993136675942549,
          0.30034430237925736,
          -0.3859915495265511,
          0.3201786604070268,
          -0.38754847456098135,
          0.2691785992644554,
          0.39682607155523203,
          0.4773609219757481,
          0.40005734933870585,
          0.4319113278870662,
          0.38173380699960463,
          0.3817944324520148,
          0.12453608955687005,
          0.44240826857680954,
          0.16499975323669788,
          0.42133465354186717,
          0.36193371767260457,
          0.3661330041231784,
          0.38701682232674023,
          0.38252467707038934,
          0.4450002837333993,
          0.32505119873146654,
          0.4051356288761988,
          0.3081619561339796,
          0.3958463596727256,
          0.31609640434358,
          0.28990947802518385,
          0.4473395695300114,
          0.24236283105220693,
          -0.17639925326729883,
          0.21058206645688052,
          0.10549444172759218,
          0.40493987824660654,
          0.3537977522123419,
          0.30006737016412477,
          0.24323936816410055,
          -0.04161512055152145
         ],
         "yaxis": "y"
        }
       ],
       "layout": {
        "legend": {
         "tracegroupgap": 0
        },
        "margin": {
         "t": 60
        },
        "template": {
         "data": {
          "bar": [
           {
            "error_x": {
             "color": "#2a3f5f"
            },
            "error_y": {
             "color": "#2a3f5f"
            },
            "marker": {
             "line": {
              "color": "#E5ECF6",
              "width": 0.5
             },
             "pattern": {
              "fillmode": "overlay",
              "size": 10,
              "solidity": 0.2
             }
            },
            "type": "bar"
           }
          ],
          "barpolar": [
           {
            "marker": {
             "line": {
              "color": "#E5ECF6",
              "width": 0.5
             },
             "pattern": {
              "fillmode": "overlay",
              "size": 10,
              "solidity": 0.2
             }
            },
            "type": "barpolar"
           }
          ],
          "carpet": [
           {
            "aaxis": {
             "endlinecolor": "#2a3f5f",
             "gridcolor": "white",
             "linecolor": "white",
             "minorgridcolor": "white",
             "startlinecolor": "#2a3f5f"
            },
            "baxis": {
             "endlinecolor": "#2a3f5f",
             "gridcolor": "white",
             "linecolor": "white",
             "minorgridcolor": "white",
             "startlinecolor": "#2a3f5f"
            },
            "type": "carpet"
           }
          ],
          "choropleth": [
           {
            "colorbar": {
             "outlinewidth": 0,
             "ticks": ""
            },
            "type": "choropleth"
           }
          ],
          "contour": [
           {
            "colorbar": {
             "outlinewidth": 0,
             "ticks": ""
            },
            "colorscale": [
             [
              0,
              "#0d0887"
             ],
             [
              0.1111111111111111,
              "#46039f"
             ],
             [
              0.2222222222222222,
              "#7201a8"
             ],
             [
              0.3333333333333333,
              "#9c179e"
             ],
             [
              0.4444444444444444,
              "#bd3786"
             ],
             [
              0.5555555555555556,
              "#d8576b"
             ],
             [
              0.6666666666666666,
              "#ed7953"
             ],
             [
              0.7777777777777778,
              "#fb9f3a"
             ],
             [
              0.8888888888888888,
              "#fdca26"
             ],
             [
              1,
              "#f0f921"
             ]
            ],
            "type": "contour"
           }
          ],
          "contourcarpet": [
           {
            "colorbar": {
             "outlinewidth": 0,
             "ticks": ""
            },
            "type": "contourcarpet"
           }
          ],
          "heatmap": [
           {
            "colorbar": {
             "outlinewidth": 0,
             "ticks": ""
            },
            "colorscale": [
             [
              0,
              "#0d0887"
             ],
             [
              0.1111111111111111,
              "#46039f"
             ],
             [
              0.2222222222222222,
              "#7201a8"
             ],
             [
              0.3333333333333333,
              "#9c179e"
             ],
             [
              0.4444444444444444,
              "#bd3786"
             ],
             [
              0.5555555555555556,
              "#d8576b"
             ],
             [
              0.6666666666666666,
              "#ed7953"
             ],
             [
              0.7777777777777778,
              "#fb9f3a"
             ],
             [
              0.8888888888888888,
              "#fdca26"
             ],
             [
              1,
              "#f0f921"
             ]
            ],
            "type": "heatmap"
           }
          ],
          "heatmapgl": [
           {
            "colorbar": {
             "outlinewidth": 0,
             "ticks": ""
            },
            "colorscale": [
             [
              0,
              "#0d0887"
             ],
             [
              0.1111111111111111,
              "#46039f"
             ],
             [
              0.2222222222222222,
              "#7201a8"
             ],
             [
              0.3333333333333333,
              "#9c179e"
             ],
             [
              0.4444444444444444,
              "#bd3786"
             ],
             [
              0.5555555555555556,
              "#d8576b"
             ],
             [
              0.6666666666666666,
              "#ed7953"
             ],
             [
              0.7777777777777778,
              "#fb9f3a"
             ],
             [
              0.8888888888888888,
              "#fdca26"
             ],
             [
              1,
              "#f0f921"
             ]
            ],
            "type": "heatmapgl"
           }
          ],
          "histogram": [
           {
            "marker": {
             "pattern": {
              "fillmode": "overlay",
              "size": 10,
              "solidity": 0.2
             }
            },
            "type": "histogram"
           }
          ],
          "histogram2d": [
           {
            "colorbar": {
             "outlinewidth": 0,
             "ticks": ""
            },
            "colorscale": [
             [
              0,
              "#0d0887"
             ],
             [
              0.1111111111111111,
              "#46039f"
             ],
             [
              0.2222222222222222,
              "#7201a8"
             ],
             [
              0.3333333333333333,
              "#9c179e"
             ],
             [
              0.4444444444444444,
              "#bd3786"
             ],
             [
              0.5555555555555556,
              "#d8576b"
             ],
             [
              0.6666666666666666,
              "#ed7953"
             ],
             [
              0.7777777777777778,
              "#fb9f3a"
             ],
             [
              0.8888888888888888,
              "#fdca26"
             ],
             [
              1,
              "#f0f921"
             ]
            ],
            "type": "histogram2d"
           }
          ],
          "histogram2dcontour": [
           {
            "colorbar": {
             "outlinewidth": 0,
             "ticks": ""
            },
            "colorscale": [
             [
              0,
              "#0d0887"
             ],
             [
              0.1111111111111111,
              "#46039f"
             ],
             [
              0.2222222222222222,
              "#7201a8"
             ],
             [
              0.3333333333333333,
              "#9c179e"
             ],
             [
              0.4444444444444444,
              "#bd3786"
             ],
             [
              0.5555555555555556,
              "#d8576b"
             ],
             [
              0.6666666666666666,
              "#ed7953"
             ],
             [
              0.7777777777777778,
              "#fb9f3a"
             ],
             [
              0.8888888888888888,
              "#fdca26"
             ],
             [
              1,
              "#f0f921"
             ]
            ],
            "type": "histogram2dcontour"
           }
          ],
          "mesh3d": [
           {
            "colorbar": {
             "outlinewidth": 0,
             "ticks": ""
            },
            "type": "mesh3d"
           }
          ],
          "parcoords": [
           {
            "line": {
             "colorbar": {
              "outlinewidth": 0,
              "ticks": ""
             }
            },
            "type": "parcoords"
           }
          ],
          "pie": [
           {
            "automargin": true,
            "type": "pie"
           }
          ],
          "scatter": [
           {
            "fillpattern": {
             "fillmode": "overlay",
             "size": 10,
             "solidity": 0.2
            },
            "type": "scatter"
           }
          ],
          "scatter3d": [
           {
            "line": {
             "colorbar": {
              "outlinewidth": 0,
              "ticks": ""
             }
            },
            "marker": {
             "colorbar": {
              "outlinewidth": 0,
              "ticks": ""
             }
            },
            "type": "scatter3d"
           }
          ],
          "scattercarpet": [
           {
            "marker": {
             "colorbar": {
              "outlinewidth": 0,
              "ticks": ""
             }
            },
            "type": "scattercarpet"
           }
          ],
          "scattergeo": [
           {
            "marker": {
             "colorbar": {
              "outlinewidth": 0,
              "ticks": ""
             }
            },
            "type": "scattergeo"
           }
          ],
          "scattergl": [
           {
            "marker": {
             "colorbar": {
              "outlinewidth": 0,
              "ticks": ""
             }
            },
            "type": "scattergl"
           }
          ],
          "scattermapbox": [
           {
            "marker": {
             "colorbar": {
              "outlinewidth": 0,
              "ticks": ""
             }
            },
            "type": "scattermapbox"
           }
          ],
          "scatterpolar": [
           {
            "marker": {
             "colorbar": {
              "outlinewidth": 0,
              "ticks": ""
             }
            },
            "type": "scatterpolar"
           }
          ],
          "scatterpolargl": [
           {
            "marker": {
             "colorbar": {
              "outlinewidth": 0,
              "ticks": ""
             }
            },
            "type": "scatterpolargl"
           }
          ],
          "scatterternary": [
           {
            "marker": {
             "colorbar": {
              "outlinewidth": 0,
              "ticks": ""
             }
            },
            "type": "scatterternary"
           }
          ],
          "surface": [
           {
            "colorbar": {
             "outlinewidth": 0,
             "ticks": ""
            },
            "colorscale": [
             [
              0,
              "#0d0887"
             ],
             [
              0.1111111111111111,
              "#46039f"
             ],
             [
              0.2222222222222222,
              "#7201a8"
             ],
             [
              0.3333333333333333,
              "#9c179e"
             ],
             [
              0.4444444444444444,
              "#bd3786"
             ],
             [
              0.5555555555555556,
              "#d8576b"
             ],
             [
              0.6666666666666666,
              "#ed7953"
             ],
             [
              0.7777777777777778,
              "#fb9f3a"
             ],
             [
              0.8888888888888888,
              "#fdca26"
             ],
             [
              1,
              "#f0f921"
             ]
            ],
            "type": "surface"
           }
          ],
          "table": [
           {
            "cells": {
             "fill": {
              "color": "#EBF0F8"
             },
             "line": {
              "color": "white"
             }
            },
            "header": {
             "fill": {
              "color": "#C8D4E3"
             },
             "line": {
              "color": "white"
             }
            },
            "type": "table"
           }
          ]
         },
         "layout": {
          "annotationdefaults": {
           "arrowcolor": "#2a3f5f",
           "arrowhead": 0,
           "arrowwidth": 1
          },
          "autotypenumbers": "strict",
          "coloraxis": {
           "colorbar": {
            "outlinewidth": 0,
            "ticks": ""
           }
          },
          "colorscale": {
           "diverging": [
            [
             0,
             "#8e0152"
            ],
            [
             0.1,
             "#c51b7d"
            ],
            [
             0.2,
             "#de77ae"
            ],
            [
             0.3,
             "#f1b6da"
            ],
            [
             0.4,
             "#fde0ef"
            ],
            [
             0.5,
             "#f7f7f7"
            ],
            [
             0.6,
             "#e6f5d0"
            ],
            [
             0.7,
             "#b8e186"
            ],
            [
             0.8,
             "#7fbc41"
            ],
            [
             0.9,
             "#4d9221"
            ],
            [
             1,
             "#276419"
            ]
           ],
           "sequential": [
            [
             0,
             "#0d0887"
            ],
            [
             0.1111111111111111,
             "#46039f"
            ],
            [
             0.2222222222222222,
             "#7201a8"
            ],
            [
             0.3333333333333333,
             "#9c179e"
            ],
            [
             0.4444444444444444,
             "#bd3786"
            ],
            [
             0.5555555555555556,
             "#d8576b"
            ],
            [
             0.6666666666666666,
             "#ed7953"
            ],
            [
             0.7777777777777778,
             "#fb9f3a"
            ],
            [
             0.8888888888888888,
             "#fdca26"
            ],
            [
             1,
             "#f0f921"
            ]
           ],
           "sequentialminus": [
            [
             0,
             "#0d0887"
            ],
            [
             0.1111111111111111,
             "#46039f"
            ],
            [
             0.2222222222222222,
             "#7201a8"
            ],
            [
             0.3333333333333333,
             "#9c179e"
            ],
            [
             0.4444444444444444,
             "#bd3786"
            ],
            [
             0.5555555555555556,
             "#d8576b"
            ],
            [
             0.6666666666666666,
             "#ed7953"
            ],
            [
             0.7777777777777778,
             "#fb9f3a"
            ],
            [
             0.8888888888888888,
             "#fdca26"
            ],
            [
             1,
             "#f0f921"
            ]
           ]
          },
          "colorway": [
           "#636efa",
           "#EF553B",
           "#00cc96",
           "#ab63fa",
           "#FFA15A",
           "#19d3f3",
           "#FF6692",
           "#B6E880",
           "#FF97FF",
           "#FECB52"
          ],
          "font": {
           "color": "#2a3f5f"
          },
          "geo": {
           "bgcolor": "white",
           "lakecolor": "white",
           "landcolor": "#E5ECF6",
           "showlakes": true,
           "showland": true,
           "subunitcolor": "white"
          },
          "hoverlabel": {
           "align": "left"
          },
          "hovermode": "closest",
          "mapbox": {
           "style": "light"
          },
          "paper_bgcolor": "white",
          "plot_bgcolor": "#E5ECF6",
          "polar": {
           "angularaxis": {
            "gridcolor": "white",
            "linecolor": "white",
            "ticks": ""
           },
           "bgcolor": "#E5ECF6",
           "radialaxis": {
            "gridcolor": "white",
            "linecolor": "white",
            "ticks": ""
           }
          },
          "scene": {
           "xaxis": {
            "backgroundcolor": "#E5ECF6",
            "gridcolor": "white",
            "gridwidth": 2,
            "linecolor": "white",
            "showbackground": true,
            "ticks": "",
            "zerolinecolor": "white"
           },
           "yaxis": {
            "backgroundcolor": "#E5ECF6",
            "gridcolor": "white",
            "gridwidth": 2,
            "linecolor": "white",
            "showbackground": true,
            "ticks": "",
            "zerolinecolor": "white"
           },
           "zaxis": {
            "backgroundcolor": "#E5ECF6",
            "gridcolor": "white",
            "gridwidth": 2,
            "linecolor": "white",
            "showbackground": true,
            "ticks": "",
            "zerolinecolor": "white"
           }
          },
          "shapedefaults": {
           "line": {
            "color": "#2a3f5f"
           }
          },
          "ternary": {
           "aaxis": {
            "gridcolor": "white",
            "linecolor": "white",
            "ticks": ""
           },
           "baxis": {
            "gridcolor": "white",
            "linecolor": "white",
            "ticks": ""
           },
           "bgcolor": "#E5ECF6",
           "caxis": {
            "gridcolor": "white",
            "linecolor": "white",
            "ticks": ""
           }
          },
          "title": {
           "x": 0.05
          },
          "xaxis": {
           "automargin": true,
           "gridcolor": "white",
           "linecolor": "white",
           "ticks": "",
           "title": {
            "standoff": 15
           },
           "zerolinecolor": "white",
           "zerolinewidth": 2
          },
          "yaxis": {
           "automargin": true,
           "gridcolor": "white",
           "linecolor": "white",
           "ticks": "",
           "title": {
            "standoff": 15
           },
           "zerolinecolor": "white",
           "zerolinewidth": 2
          }
         }
        },
        "title": {
         "text": "Variables MDS Plot",
         "x": 0.5
        },
        "xaxis": {
         "anchor": "y",
         "domain": [
          0,
          1
         ],
         "title": {
          "text": "Component 1"
         }
        },
        "yaxis": {
         "anchor": "x",
         "domain": [
          0,
          1
         ],
         "title": {
          "text": "Component 2"
         }
        }
       }
      }
     },
     "metadata": {},
     "output_type": "display_data"
    }
   ],
   "source": [
    "variables_df = pd.DataFrame({\"Component 1\":embedding_variables[:,0],\n",
    "                             \"Component 2\":embedding_variables[:,1]})\n",
    "\n",
    "\n",
    "fig = px.scatter(variables_df, \n",
    "                 x=\"Component 1\", \n",
    "                 y=\"Component 2\")\n",
    "fig.update_layout(title=\"Variables MDS Plot\",\n",
    "                  title_x=0.5)"
   ]
  },
  {
   "cell_type": "code",
   "execution_count": 36,
   "id": "68e80e2a",
   "metadata": {},
   "outputs": [
    {
     "data": {
      "text/plain": [
       "(1047,)"
      ]
     },
     "execution_count": 36,
     "metadata": {},
     "output_type": "execute_result"
    }
   ],
   "source": []
  },
  {
   "attachments": {},
   "cell_type": "markdown",
   "id": "6460dfd3",
   "metadata": {},
   "source": [
    "# K means experiment\n",
    "\n",
    "From the plot generated below, it is difficult to see where the elbow is. Upon inspection of the points, I've determined that after `k=9` is when the points stop seeing significant change."
   ]
  },
  {
   "cell_type": "code",
   "execution_count": 6,
   "id": "c7f11d01",
   "metadata": {},
   "outputs": [
    {
     "data": {
      "application/vnd.plotly.v1+json": {
       "config": {
        "plotlyServerURL": "https://plot.ly"
       },
       "data": [
        {
         "type": "scatter",
         "x": [
          1,
          2,
          3,
          4,
          5,
          6,
          7,
          8,
          9,
          10,
          11,
          12,
          13,
          14,
          15,
          16,
          17,
          18,
          19
         ],
         "y": [
          104708.06998795613,
          60917.98803561989,
          42310.19294851134,
          32266.146218395334,
          24278.240802511078,
          19318.843626734873,
          15515.841933386913,
          13221.537798710577,
          11416.035200995731,
          10261.496554189942,
          9248.52121337513,
          8322.748815879633,
          7658.491123620727,
          7060.101906732241,
          6526.506670485802,
          6167.9242112174725,
          5707.298775523299,
          5406.7250600028465,
          5114.263548483595
         ]
        }
       ],
       "layout": {
        "shapes": [
         {
          "line": {
           "color": "grey"
          },
          "type": "line",
          "x0": 1,
          "x1": 19,
          "y0": 104708.06998795613,
          "y1": 5114.263548483595
         }
        ],
        "template": {
         "data": {
          "bar": [
           {
            "error_x": {
             "color": "#2a3f5f"
            },
            "error_y": {
             "color": "#2a3f5f"
            },
            "marker": {
             "line": {
              "color": "#E5ECF6",
              "width": 0.5
             },
             "pattern": {
              "fillmode": "overlay",
              "size": 10,
              "solidity": 0.2
             }
            },
            "type": "bar"
           }
          ],
          "barpolar": [
           {
            "marker": {
             "line": {
              "color": "#E5ECF6",
              "width": 0.5
             },
             "pattern": {
              "fillmode": "overlay",
              "size": 10,
              "solidity": 0.2
             }
            },
            "type": "barpolar"
           }
          ],
          "carpet": [
           {
            "aaxis": {
             "endlinecolor": "#2a3f5f",
             "gridcolor": "white",
             "linecolor": "white",
             "minorgridcolor": "white",
             "startlinecolor": "#2a3f5f"
            },
            "baxis": {
             "endlinecolor": "#2a3f5f",
             "gridcolor": "white",
             "linecolor": "white",
             "minorgridcolor": "white",
             "startlinecolor": "#2a3f5f"
            },
            "type": "carpet"
           }
          ],
          "choropleth": [
           {
            "colorbar": {
             "outlinewidth": 0,
             "ticks": ""
            },
            "type": "choropleth"
           }
          ],
          "contour": [
           {
            "colorbar": {
             "outlinewidth": 0,
             "ticks": ""
            },
            "colorscale": [
             [
              0,
              "#0d0887"
             ],
             [
              0.1111111111111111,
              "#46039f"
             ],
             [
              0.2222222222222222,
              "#7201a8"
             ],
             [
              0.3333333333333333,
              "#9c179e"
             ],
             [
              0.4444444444444444,
              "#bd3786"
             ],
             [
              0.5555555555555556,
              "#d8576b"
             ],
             [
              0.6666666666666666,
              "#ed7953"
             ],
             [
              0.7777777777777778,
              "#fb9f3a"
             ],
             [
              0.8888888888888888,
              "#fdca26"
             ],
             [
              1,
              "#f0f921"
             ]
            ],
            "type": "contour"
           }
          ],
          "contourcarpet": [
           {
            "colorbar": {
             "outlinewidth": 0,
             "ticks": ""
            },
            "type": "contourcarpet"
           }
          ],
          "heatmap": [
           {
            "colorbar": {
             "outlinewidth": 0,
             "ticks": ""
            },
            "colorscale": [
             [
              0,
              "#0d0887"
             ],
             [
              0.1111111111111111,
              "#46039f"
             ],
             [
              0.2222222222222222,
              "#7201a8"
             ],
             [
              0.3333333333333333,
              "#9c179e"
             ],
             [
              0.4444444444444444,
              "#bd3786"
             ],
             [
              0.5555555555555556,
              "#d8576b"
             ],
             [
              0.6666666666666666,
              "#ed7953"
             ],
             [
              0.7777777777777778,
              "#fb9f3a"
             ],
             [
              0.8888888888888888,
              "#fdca26"
             ],
             [
              1,
              "#f0f921"
             ]
            ],
            "type": "heatmap"
           }
          ],
          "heatmapgl": [
           {
            "colorbar": {
             "outlinewidth": 0,
             "ticks": ""
            },
            "colorscale": [
             [
              0,
              "#0d0887"
             ],
             [
              0.1111111111111111,
              "#46039f"
             ],
             [
              0.2222222222222222,
              "#7201a8"
             ],
             [
              0.3333333333333333,
              "#9c179e"
             ],
             [
              0.4444444444444444,
              "#bd3786"
             ],
             [
              0.5555555555555556,
              "#d8576b"
             ],
             [
              0.6666666666666666,
              "#ed7953"
             ],
             [
              0.7777777777777778,
              "#fb9f3a"
             ],
             [
              0.8888888888888888,
              "#fdca26"
             ],
             [
              1,
              "#f0f921"
             ]
            ],
            "type": "heatmapgl"
           }
          ],
          "histogram": [
           {
            "marker": {
             "pattern": {
              "fillmode": "overlay",
              "size": 10,
              "solidity": 0.2
             }
            },
            "type": "histogram"
           }
          ],
          "histogram2d": [
           {
            "colorbar": {
             "outlinewidth": 0,
             "ticks": ""
            },
            "colorscale": [
             [
              0,
              "#0d0887"
             ],
             [
              0.1111111111111111,
              "#46039f"
             ],
             [
              0.2222222222222222,
              "#7201a8"
             ],
             [
              0.3333333333333333,
              "#9c179e"
             ],
             [
              0.4444444444444444,
              "#bd3786"
             ],
             [
              0.5555555555555556,
              "#d8576b"
             ],
             [
              0.6666666666666666,
              "#ed7953"
             ],
             [
              0.7777777777777778,
              "#fb9f3a"
             ],
             [
              0.8888888888888888,
              "#fdca26"
             ],
             [
              1,
              "#f0f921"
             ]
            ],
            "type": "histogram2d"
           }
          ],
          "histogram2dcontour": [
           {
            "colorbar": {
             "outlinewidth": 0,
             "ticks": ""
            },
            "colorscale": [
             [
              0,
              "#0d0887"
             ],
             [
              0.1111111111111111,
              "#46039f"
             ],
             [
              0.2222222222222222,
              "#7201a8"
             ],
             [
              0.3333333333333333,
              "#9c179e"
             ],
             [
              0.4444444444444444,
              "#bd3786"
             ],
             [
              0.5555555555555556,
              "#d8576b"
             ],
             [
              0.6666666666666666,
              "#ed7953"
             ],
             [
              0.7777777777777778,
              "#fb9f3a"
             ],
             [
              0.8888888888888888,
              "#fdca26"
             ],
             [
              1,
              "#f0f921"
             ]
            ],
            "type": "histogram2dcontour"
           }
          ],
          "mesh3d": [
           {
            "colorbar": {
             "outlinewidth": 0,
             "ticks": ""
            },
            "type": "mesh3d"
           }
          ],
          "parcoords": [
           {
            "line": {
             "colorbar": {
              "outlinewidth": 0,
              "ticks": ""
             }
            },
            "type": "parcoords"
           }
          ],
          "pie": [
           {
            "automargin": true,
            "type": "pie"
           }
          ],
          "scatter": [
           {
            "fillpattern": {
             "fillmode": "overlay",
             "size": 10,
             "solidity": 0.2
            },
            "type": "scatter"
           }
          ],
          "scatter3d": [
           {
            "line": {
             "colorbar": {
              "outlinewidth": 0,
              "ticks": ""
             }
            },
            "marker": {
             "colorbar": {
              "outlinewidth": 0,
              "ticks": ""
             }
            },
            "type": "scatter3d"
           }
          ],
          "scattercarpet": [
           {
            "marker": {
             "colorbar": {
              "outlinewidth": 0,
              "ticks": ""
             }
            },
            "type": "scattercarpet"
           }
          ],
          "scattergeo": [
           {
            "marker": {
             "colorbar": {
              "outlinewidth": 0,
              "ticks": ""
             }
            },
            "type": "scattergeo"
           }
          ],
          "scattergl": [
           {
            "marker": {
             "colorbar": {
              "outlinewidth": 0,
              "ticks": ""
             }
            },
            "type": "scattergl"
           }
          ],
          "scattermapbox": [
           {
            "marker": {
             "colorbar": {
              "outlinewidth": 0,
              "ticks": ""
             }
            },
            "type": "scattermapbox"
           }
          ],
          "scatterpolar": [
           {
            "marker": {
             "colorbar": {
              "outlinewidth": 0,
              "ticks": ""
             }
            },
            "type": "scatterpolar"
           }
          ],
          "scatterpolargl": [
           {
            "marker": {
             "colorbar": {
              "outlinewidth": 0,
              "ticks": ""
             }
            },
            "type": "scatterpolargl"
           }
          ],
          "scatterternary": [
           {
            "marker": {
             "colorbar": {
              "outlinewidth": 0,
              "ticks": ""
             }
            },
            "type": "scatterternary"
           }
          ],
          "surface": [
           {
            "colorbar": {
             "outlinewidth": 0,
             "ticks": ""
            },
            "colorscale": [
             [
              0,
              "#0d0887"
             ],
             [
              0.1111111111111111,
              "#46039f"
             ],
             [
              0.2222222222222222,
              "#7201a8"
             ],
             [
              0.3333333333333333,
              "#9c179e"
             ],
             [
              0.4444444444444444,
              "#bd3786"
             ],
             [
              0.5555555555555556,
              "#d8576b"
             ],
             [
              0.6666666666666666,
              "#ed7953"
             ],
             [
              0.7777777777777778,
              "#fb9f3a"
             ],
             [
              0.8888888888888888,
              "#fdca26"
             ],
             [
              1,
              "#f0f921"
             ]
            ],
            "type": "surface"
           }
          ],
          "table": [
           {
            "cells": {
             "fill": {
              "color": "#EBF0F8"
             },
             "line": {
              "color": "white"
             }
            },
            "header": {
             "fill": {
              "color": "#C8D4E3"
             },
             "line": {
              "color": "white"
             }
            },
            "type": "table"
           }
          ]
         },
         "layout": {
          "annotationdefaults": {
           "arrowcolor": "#2a3f5f",
           "arrowhead": 0,
           "arrowwidth": 1
          },
          "autotypenumbers": "strict",
          "coloraxis": {
           "colorbar": {
            "outlinewidth": 0,
            "ticks": ""
           }
          },
          "colorscale": {
           "diverging": [
            [
             0,
             "#8e0152"
            ],
            [
             0.1,
             "#c51b7d"
            ],
            [
             0.2,
             "#de77ae"
            ],
            [
             0.3,
             "#f1b6da"
            ],
            [
             0.4,
             "#fde0ef"
            ],
            [
             0.5,
             "#f7f7f7"
            ],
            [
             0.6,
             "#e6f5d0"
            ],
            [
             0.7,
             "#b8e186"
            ],
            [
             0.8,
             "#7fbc41"
            ],
            [
             0.9,
             "#4d9221"
            ],
            [
             1,
             "#276419"
            ]
           ],
           "sequential": [
            [
             0,
             "#0d0887"
            ],
            [
             0.1111111111111111,
             "#46039f"
            ],
            [
             0.2222222222222222,
             "#7201a8"
            ],
            [
             0.3333333333333333,
             "#9c179e"
            ],
            [
             0.4444444444444444,
             "#bd3786"
            ],
            [
             0.5555555555555556,
             "#d8576b"
            ],
            [
             0.6666666666666666,
             "#ed7953"
            ],
            [
             0.7777777777777778,
             "#fb9f3a"
            ],
            [
             0.8888888888888888,
             "#fdca26"
            ],
            [
             1,
             "#f0f921"
            ]
           ],
           "sequentialminus": [
            [
             0,
             "#0d0887"
            ],
            [
             0.1111111111111111,
             "#46039f"
            ],
            [
             0.2222222222222222,
             "#7201a8"
            ],
            [
             0.3333333333333333,
             "#9c179e"
            ],
            [
             0.4444444444444444,
             "#bd3786"
            ],
            [
             0.5555555555555556,
             "#d8576b"
            ],
            [
             0.6666666666666666,
             "#ed7953"
            ],
            [
             0.7777777777777778,
             "#fb9f3a"
            ],
            [
             0.8888888888888888,
             "#fdca26"
            ],
            [
             1,
             "#f0f921"
            ]
           ]
          },
          "colorway": [
           "#636efa",
           "#EF553B",
           "#00cc96",
           "#ab63fa",
           "#FFA15A",
           "#19d3f3",
           "#FF6692",
           "#B6E880",
           "#FF97FF",
           "#FECB52"
          ],
          "font": {
           "color": "#2a3f5f"
          },
          "geo": {
           "bgcolor": "white",
           "lakecolor": "white",
           "landcolor": "#E5ECF6",
           "showlakes": true,
           "showland": true,
           "subunitcolor": "white"
          },
          "hoverlabel": {
           "align": "left"
          },
          "hovermode": "closest",
          "mapbox": {
           "style": "light"
          },
          "paper_bgcolor": "white",
          "plot_bgcolor": "#E5ECF6",
          "polar": {
           "angularaxis": {
            "gridcolor": "white",
            "linecolor": "white",
            "ticks": ""
           },
           "bgcolor": "#E5ECF6",
           "radialaxis": {
            "gridcolor": "white",
            "linecolor": "white",
            "ticks": ""
           }
          },
          "scene": {
           "xaxis": {
            "backgroundcolor": "#E5ECF6",
            "gridcolor": "white",
            "gridwidth": 2,
            "linecolor": "white",
            "showbackground": true,
            "ticks": "",
            "zerolinecolor": "white"
           },
           "yaxis": {
            "backgroundcolor": "#E5ECF6",
            "gridcolor": "white",
            "gridwidth": 2,
            "linecolor": "white",
            "showbackground": true,
            "ticks": "",
            "zerolinecolor": "white"
           },
           "zaxis": {
            "backgroundcolor": "#E5ECF6",
            "gridcolor": "white",
            "gridwidth": 2,
            "linecolor": "white",
            "showbackground": true,
            "ticks": "",
            "zerolinecolor": "white"
           }
          },
          "shapedefaults": {
           "line": {
            "color": "#2a3f5f"
           }
          },
          "ternary": {
           "aaxis": {
            "gridcolor": "white",
            "linecolor": "white",
            "ticks": ""
           },
           "baxis": {
            "gridcolor": "white",
            "linecolor": "white",
            "ticks": ""
           },
           "bgcolor": "#E5ECF6",
           "caxis": {
            "gridcolor": "white",
            "linecolor": "white",
            "ticks": ""
           }
          },
          "title": {
           "x": 0.05
          },
          "xaxis": {
           "automargin": true,
           "gridcolor": "white",
           "linecolor": "white",
           "ticks": "",
           "title": {
            "standoff": 15
           },
           "zerolinecolor": "white",
           "zerolinewidth": 2
          },
          "yaxis": {
           "automargin": true,
           "gridcolor": "white",
           "linecolor": "white",
           "ticks": "",
           "title": {
            "standoff": 15
           },
           "zerolinecolor": "white",
           "zerolinewidth": 2
          }
         }
        }
       }
      }
     },
     "metadata": {},
     "output_type": "display_data"
    }
   ],
   "source": [
    "sum_squares = []\n",
    "candidate_k_values = list(range(1,20))\n",
    "for k in candidate_k_values:\n",
    "    kmeans = KMeans(n_clusters=k, random_state=42)\n",
    "    kmeans.fit(X)\n",
    "    sum_squares.append(kmeans.inertia_)\n",
    "\n",
    "fig = go.Figure()\n",
    "fig.add_trace(\n",
    "    go.Line(\n",
    "        x=candidate_k_values, \n",
    "        y=sum_squares))\n",
    "\n",
    "fig.add_shape(\n",
    "        type=\"line\",\n",
    "        x0=1, y0=max(sum_squares), x1=19, y1=min(sum_squares),\n",
    "        line={\"color\":\"grey\"}\n",
    "    )"
   ]
  },
  {
   "cell_type": "code",
   "execution_count": null,
   "id": "dbbb3624",
   "metadata": {},
   "outputs": [],
   "source": []
  },
  {
   "cell_type": "code",
   "execution_count": null,
   "id": "90b296c2",
   "metadata": {},
   "outputs": [],
   "source": []
  }
 ],
 "metadata": {
  "kernelspec": {
   "display_name": "Python 3 (ipykernel)",
   "language": "python",
   "name": "python3"
  },
  "language_info": {
   "codemirror_mode": {
    "name": "ipython",
    "version": 3
   },
   "file_extension": ".py",
   "mimetype": "text/x-python",
   "name": "python",
   "nbconvert_exporter": "python",
   "pygments_lexer": "ipython3",
   "version": "3.9.12"
  }
 },
 "nbformat": 4,
 "nbformat_minor": 5
}
