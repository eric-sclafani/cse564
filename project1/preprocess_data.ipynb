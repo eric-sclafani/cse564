{
 "cells": [
  {
   "attachments": {},
   "cell_type": "markdown",
   "id": "f103516a",
   "metadata": {},
   "source": [
    "# Imports"
   ]
  },
  {
   "cell_type": "code",
   "execution_count": 7,
   "id": "8ae86b30",
   "metadata": {},
   "outputs": [],
   "source": [
    "# DATASET: https://archive.ics.uci.edu/ml/datasets/Absenteeism+at+work\n",
    "\n",
    "import plotly.express as px\n",
    "import plotly.io as pio\n",
    "import pandas as pd\n",
    "\n",
    "pio.templates.default = \"seaborn\"\n"
   ]
  },
  {
   "attachments": {},
   "cell_type": "markdown",
   "id": "9e3fdc4f",
   "metadata": {},
   "source": [
    "# Loading and preprocessing\n",
    "\n",
    "Load raw data from csv\n",
    "\n",
    "Since the categorical variables are encoded at integers, revert them back to strings according to [the dataset](https://archive.ics.uci.edu/ml/datasets/Absenteeism+at+work)"
   ]
  },
  {
   "cell_type": "code",
   "execution_count": 8,
   "id": "968fc73c",
   "metadata": {},
   "outputs": [],
   "source": [
    "\n",
    "df = pd.read_csv(\"data/raw/absenteeism_at_work_raw.csv\", index_col=False)\n",
    "\n",
    "def rename_num_column_value(num_list, str_list) -> dict[int, str]:\n",
    "    return {num:string for num, string in zip(num_list, str_list)}\n",
    "\n",
    "new_months    = rename_num_column_value([1,2,3,4,5,6,7,8,9,10,11,12, 0],[\"Jan\", \"Feb\", \"Mar\", \"Apr\", \"May\", \"Jun\", \"Jul\", \"Aug\", \"Sep\", \"Oct\", \"Nov\", \"Dec\", \"Unkown\"])\n",
    "new_days      = rename_num_column_value([2,3,4,5,6], [\"Mon\", \"Tue\", \"Wed\", \"Thr\", \"Fri\"])\n",
    "new_seasons   = rename_num_column_value([1,2,3,4], [\"Spring\", \"Summer\", \"Fall\", \"Winter\"])\n",
    "new_education = rename_num_column_value([1,2,3,4], [\"h_school\", \"graduate\", \"postgrad\", \"master_phd\"])\n",
    "yes_no        = rename_num_column_value([0,1], [\"no\", \"yes\"])\n",
    "\n",
    "df[\"Month of absence\"]     = df[\"Month of absence\"] .apply(lambda x: new_months[x])\n",
    "df[\"Day of the week\"]      = df[\"Day of the week\"].apply(lambda x: new_days[x])\n",
    "df[\"Seasons\"]              = df[\"Seasons\"].apply(lambda x: new_seasons[x])\n",
    "df[\"Education\"]            = df[\"Education\"].apply(lambda x: new_education[x])\n",
    "df[\"Disciplinary failure\"] = df[\"Disciplinary failure\"].apply(lambda x: yes_no[x])\n",
    "df[\"Social drinker\"]       = df[\"Social drinker\"].apply(lambda x: yes_no[x])\n",
    "df[\"Social smoker\"]        = df[\"Social smoker\"].apply(lambda x: yes_no[x])\n",
    "\n",
    "\n",
    "del df[\"ID\"]\n",
    "del df[\"Hit target\"]\n",
    "df.rename(columns={\"Reason for absence\":\"Absence reason\",\n",
    "                   \"Month of absence\": \"Month\", \n",
    "                   \"Day of the week\":\"Day\",\n",
    "                   \"Distance from Residence to Work\": \"Distance to Work\",\n",
    "                   \"Work load Average/day \":\"Avg work load per day\",\n",
    "                   \"Son\":\"Number of children\",\n",
    "                   \"Absenteeism time in hours\":\"Hours absent\",\n",
    "                   \"Pet\": \"Pets\"},\n",
    "          inplace=True)\n",
    "\n"
   ]
  },
  {
   "attachments": {},
   "cell_type": "markdown",
   "id": "cf6953c0",
   "metadata": {},
   "source": [
    "The `reason_for_absence` column is interesting because it includes 21 categories. It is an encoding for the reason for absence as encoded by the International Code of Diseases (ICD). Details on the encodings can be found on the dataset link [here](https://archive.ics.uci.edu/ml/datasets/Absenteeism+at+work)\n",
    "\n",
    "Since the column **also** contains numerical reasons outside of the ICD range, I will add a new column to the dataset called `disease` which will contain binary values (1 = yes, 0 = no) indicating whether the reason is a diease or not, respectively"
   ]
  },
  {
   "cell_type": "code",
   "execution_count": 9,
   "id": "95868d60",
   "metadata": {},
   "outputs": [],
   "source": [
    "def is_disease(num:int) -> str:\n",
    "    return \"yes\" if num in range(1, 22) else \"no\"\n",
    "\n",
    "df[\"Disease\"] = df[\"Absence reason\"].apply(is_disease)\n"
   ]
  },
  {
   "attachments": {},
   "cell_type": "markdown",
   "id": "fbe3cf16",
   "metadata": {},
   "source": [
    "Write preprocessed file to storage to be used in `main.py`"
   ]
  },
  {
   "cell_type": "code",
   "execution_count": 20,
   "id": "5b60cf03",
   "metadata": {},
   "outputs": [],
   "source": [
    "df.to_csv(\"data/preprocessed/absenteeism_at_work_preprocessed.csv\",index=False)"
   ]
  },
  {
   "attachments": {},
   "cell_type": "markdown",
   "id": "3180aeb8",
   "metadata": {},
   "source": [
    "# Testing cells\n",
    "\n",
    "The following cells are just for testing code and do not contribute to the project"
   ]
  },
  {
   "cell_type": "code",
   "execution_count": 22,
   "id": "dad932fa",
   "metadata": {},
   "outputs": [
    {
     "data": {
      "application/vnd.plotly.v1+json": {
       "config": {
        "plotlyServerURL": "https://plot.ly"
       },
       "data": [
        {
         "alignmentgroup": "True",
         "bingroup": "x",
         "hovertemplate": "Age=%{x}<br>count=%{y}<extra></extra>",
         "legendgroup": "",
         "marker": {
          "color": "rgb(76,114,176)",
          "pattern": {
           "shape": ""
          }
         },
         "name": "",
         "offsetgroup": "",
         "orientation": "v",
         "showlegend": false,
         "type": "histogram",
         "x": [
          33,
          50,
          38,
          39,
          33,
          38,
          28,
          36,
          34,
          37,
          36,
          36,
          36,
          38,
          38,
          41,
          38,
          38,
          33,
          47,
          28,
          38,
          28,
          36,
          33,
          28,
          33,
          29,
          33,
          38,
          38,
          48,
          37,
          48,
          38,
          28,
          33,
          32,
          48,
          36,
          27,
          37,
          38,
          43,
          34,
          37,
          38,
          40,
          36,
          40,
          36,
          28,
          28,
          37,
          33,
          50,
          28,
          38,
          31,
          47,
          38,
          36,
          38,
          37,
          50,
          30,
          38,
          28,
          37,
          28,
          47,
          40,
          38,
          28,
          36,
          40,
          28,
          33,
          28,
          36,
          38,
          28,
          38,
          40,
          40,
          34,
          33,
          40,
          28,
          34,
          28,
          40,
          28,
          36,
          47,
          28,
          33,
          40,
          47,
          37,
          50,
          37,
          28,
          36,
          37,
          28,
          28,
          36,
          28,
          28,
          37,
          41,
          28,
          28,
          37,
          37,
          34,
          28,
          27,
          28,
          28,
          37,
          28,
          37,
          37,
          37,
          37,
          37,
          37,
          30,
          33,
          37,
          27,
          37,
          37,
          28,
          33,
          27,
          41,
          38,
          34,
          33,
          36,
          33,
          50,
          50,
          28,
          28,
          30,
          27,
          28,
          28,
          28,
          28,
          33,
          32,
          36,
          29,
          40,
          40,
          36,
          30,
          47,
          36,
          40,
          34,
          36,
          34,
          33,
          40,
          36,
          28,
          39,
          38,
          28,
          28,
          30,
          28,
          28,
          38,
          39,
          28,
          47,
          28,
          40,
          28,
          34,
          41,
          34,
          28,
          36,
          38,
          50,
          40,
          41,
          40,
          47,
          36,
          33,
          34,
          36,
          33,
          37,
          48,
          33,
          34,
          34,
          38,
          28,
          27,
          34,
          38,
          33,
          39,
          28,
          36,
          50,
          38,
          50,
          28,
          41,
          28,
          41,
          40,
          41,
          38,
          34,
          41,
          50,
          37,
          50,
          50,
          36,
          38,
          49,
          28,
          34,
          50,
          37,
          37,
          28,
          30,
          34,
          28,
          28,
          29,
          28,
          33,
          38,
          33,
          33,
          36,
          33,
          29,
          33,
          58,
          43,
          43,
          36,
          33,
          47,
          33,
          30,
          50,
          47,
          37,
          50,
          37,
          28,
          27,
          38,
          38,
          33,
          43,
          41,
          40,
          39,
          32,
          38,
          41,
          38,
          40,
          36,
          43,
          50,
          43,
          40,
          40,
          38,
          33,
          37,
          33,
          33,
          50,
          47,
          30,
          37,
          31,
          38,
          30,
          43,
          33,
          36,
          43,
          43,
          43,
          50,
          40,
          30,
          50,
          28,
          36,
          40,
          29,
          30,
          30,
          50,
          37,
          47,
          38,
          36,
          40,
          36,
          34,
          43,
          28,
          37,
          37,
          37,
          38,
          41,
          40,
          41,
          38,
          36,
          36,
          36,
          39,
          38,
          28,
          38,
          38,
          37,
          50,
          36,
          41,
          38,
          38,
          30,
          37,
          37,
          38,
          43,
          37,
          36,
          29,
          38,
          33,
          28,
          37,
          34,
          37,
          34,
          33,
          40,
          43,
          50,
          38,
          38,
          37,
          38,
          28,
          33,
          36,
          38,
          38,
          38,
          38,
          41,
          38,
          33,
          38,
          41,
          40,
          29,
          38,
          38,
          41,
          38,
          38,
          37,
          41,
          41,
          36,
          38,
          37,
          40,
          36,
          38,
          28,
          31,
          37,
          50,
          50,
          50,
          37,
          41,
          50,
          38,
          33,
          36,
          41,
          38,
          36,
          28,
          31,
          47,
          28,
          38,
          50,
          50,
          43,
          36,
          38,
          37,
          43,
          47,
          31,
          30,
          38,
          28,
          36,
          40,
          40,
          58,
          28,
          28,
          30,
          37,
          37,
          30,
          37,
          38,
          37,
          28,
          36,
          38,
          40,
          38,
          41,
          38,
          43,
          38,
          28,
          50,
          38,
          30,
          41,
          28,
          37,
          30,
          28,
          36,
          33,
          28,
          37,
          36,
          37,
          43,
          48,
          41,
          28,
          38,
          50,
          28,
          33,
          43,
          41,
          40,
          39,
          38,
          40,
          41,
          37,
          33,
          43,
          40,
          38,
          40,
          28,
          37,
          41,
          37,
          40,
          36,
          41,
          41,
          37,
          34,
          40,
          30,
          47,
          38,
          28,
          30,
          31,
          28,
          49,
          32,
          41,
          49,
          40,
          37,
          49,
          40,
          28,
          31,
          31,
          28,
          31,
          38,
          58,
          40,
          31,
          28,
          31,
          28,
          33,
          32,
          47,
          28,
          28,
          38,
          37,
          28,
          38,
          37,
          33,
          32,
          28,
          28,
          40,
          37,
          28,
          38,
          37,
          37,
          28,
          40,
          33,
          47,
          43,
          28,
          31,
          28,
          38,
          40,
          28,
          30,
          28,
          28,
          28,
          40,
          43,
          31,
          30,
          28,
          28,
          28,
          34,
          30,
          30,
          40,
          40,
          30,
          40,
          49,
          40,
          30,
          34,
          30,
          38,
          33,
          38,
          38,
          38,
          28,
          47,
          38,
          28,
          38,
          30,
          41,
          38,
          31,
          38,
          28,
          38,
          38,
          28,
          30,
          40,
          38,
          31,
          30,
          38,
          38,
          38,
          34,
          32,
          38,
          28,
          38,
          47,
          28,
          38,
          38,
          32,
          38,
          47,
          58,
          47,
          58,
          38,
          28,
          38,
          28,
          30,
          32,
          28,
          38,
          38,
          38,
          30,
          38,
          47,
          38,
          28,
          38,
          33,
          58,
          38,
          47,
          38,
          30,
          38,
          38,
          46,
          34,
          38,
          38,
          30,
          33,
          31,
          28,
          37,
          28,
          47,
          33,
          30,
          31,
          40,
          50,
          28,
          37,
          37,
          30,
          28,
          32,
          30,
          34,
          28,
          50,
          30,
          37,
          41,
          32,
          37,
          43,
          30,
          40,
          41,
          43,
          41,
          30,
          50,
          50,
          37,
          50,
          30,
          36,
          40,
          34,
          32,
          40,
          40,
          28,
          28,
          32,
          40,
          30,
          28,
          34,
          40,
          34,
          28,
          46,
          30,
          37,
          37,
          36,
          50,
          31,
          30,
          48,
          33,
          50,
          30,
          40,
          30,
          37,
          31,
          37,
          37,
          31,
          43,
          31,
          58,
          37,
          58,
          33,
          37,
          28,
          28,
          31,
          33,
          37,
          40,
          39,
          53
         ],
         "xaxis": "x",
         "yaxis": "y"
        }
       ],
       "layout": {
        "barmode": "relative",
        "legend": {
         "tracegroupgap": 0
        },
        "margin": {
         "t": 60
        },
        "template": {
         "data": {
          "bar": [
           {
            "error_x": {
             "color": "rgb(36,36,36)"
            },
            "error_y": {
             "color": "rgb(36,36,36)"
            },
            "marker": {
             "line": {
              "color": "rgb(234,234,242)",
              "width": 0.5
             },
             "pattern": {
              "fillmode": "overlay",
              "size": 10,
              "solidity": 0.2
             }
            },
            "type": "bar"
           }
          ],
          "barpolar": [
           {
            "marker": {
             "line": {
              "color": "rgb(234,234,242)",
              "width": 0.5
             },
             "pattern": {
              "fillmode": "overlay",
              "size": 10,
              "solidity": 0.2
             }
            },
            "type": "barpolar"
           }
          ],
          "carpet": [
           {
            "aaxis": {
             "endlinecolor": "rgb(36,36,36)",
             "gridcolor": "white",
             "linecolor": "white",
             "minorgridcolor": "white",
             "startlinecolor": "rgb(36,36,36)"
            },
            "baxis": {
             "endlinecolor": "rgb(36,36,36)",
             "gridcolor": "white",
             "linecolor": "white",
             "minorgridcolor": "white",
             "startlinecolor": "rgb(36,36,36)"
            },
            "type": "carpet"
           }
          ],
          "choropleth": [
           {
            "colorbar": {
             "outlinewidth": 0,
             "tickcolor": "rgb(36,36,36)",
             "ticklen": 8,
             "ticks": "outside",
             "tickwidth": 2
            },
            "type": "choropleth"
           }
          ],
          "contour": [
           {
            "colorbar": {
             "outlinewidth": 0,
             "tickcolor": "rgb(36,36,36)",
             "ticklen": 8,
             "ticks": "outside",
             "tickwidth": 2
            },
            "colorscale": [
             [
              0,
              "rgb(2,4,25)"
             ],
             [
              0.06274509803921569,
              "rgb(24,15,41)"
             ],
             [
              0.12549019607843137,
              "rgb(47,23,57)"
             ],
             [
              0.18823529411764706,
              "rgb(71,28,72)"
             ],
             [
              0.25098039215686274,
              "rgb(97,30,82)"
             ],
             [
              0.3137254901960784,
              "rgb(123,30,89)"
             ],
             [
              0.3764705882352941,
              "rgb(150,27,91)"
             ],
             [
              0.4392156862745098,
              "rgb(177,22,88)"
             ],
             [
              0.5019607843137255,
              "rgb(203,26,79)"
             ],
             [
              0.5647058823529412,
              "rgb(223,47,67)"
             ],
             [
              0.6274509803921569,
              "rgb(236,76,61)"
             ],
             [
              0.6901960784313725,
              "rgb(242,107,73)"
             ],
             [
              0.7529411764705882,
              "rgb(244,135,95)"
             ],
             [
              0.8156862745098039,
              "rgb(245,162,122)"
             ],
             [
              0.8784313725490196,
              "rgb(246,188,153)"
             ],
             [
              0.9411764705882353,
              "rgb(247,212,187)"
             ],
             [
              1,
              "rgb(250,234,220)"
             ]
            ],
            "type": "contour"
           }
          ],
          "contourcarpet": [
           {
            "colorbar": {
             "outlinewidth": 0,
             "tickcolor": "rgb(36,36,36)",
             "ticklen": 8,
             "ticks": "outside",
             "tickwidth": 2
            },
            "type": "contourcarpet"
           }
          ],
          "heatmap": [
           {
            "colorbar": {
             "outlinewidth": 0,
             "tickcolor": "rgb(36,36,36)",
             "ticklen": 8,
             "ticks": "outside",
             "tickwidth": 2
            },
            "colorscale": [
             [
              0,
              "rgb(2,4,25)"
             ],
             [
              0.06274509803921569,
              "rgb(24,15,41)"
             ],
             [
              0.12549019607843137,
              "rgb(47,23,57)"
             ],
             [
              0.18823529411764706,
              "rgb(71,28,72)"
             ],
             [
              0.25098039215686274,
              "rgb(97,30,82)"
             ],
             [
              0.3137254901960784,
              "rgb(123,30,89)"
             ],
             [
              0.3764705882352941,
              "rgb(150,27,91)"
             ],
             [
              0.4392156862745098,
              "rgb(177,22,88)"
             ],
             [
              0.5019607843137255,
              "rgb(203,26,79)"
             ],
             [
              0.5647058823529412,
              "rgb(223,47,67)"
             ],
             [
              0.6274509803921569,
              "rgb(236,76,61)"
             ],
             [
              0.6901960784313725,
              "rgb(242,107,73)"
             ],
             [
              0.7529411764705882,
              "rgb(244,135,95)"
             ],
             [
              0.8156862745098039,
              "rgb(245,162,122)"
             ],
             [
              0.8784313725490196,
              "rgb(246,188,153)"
             ],
             [
              0.9411764705882353,
              "rgb(247,212,187)"
             ],
             [
              1,
              "rgb(250,234,220)"
             ]
            ],
            "type": "heatmap"
           }
          ],
          "heatmapgl": [
           {
            "colorbar": {
             "outlinewidth": 0,
             "tickcolor": "rgb(36,36,36)",
             "ticklen": 8,
             "ticks": "outside",
             "tickwidth": 2
            },
            "colorscale": [
             [
              0,
              "rgb(2,4,25)"
             ],
             [
              0.06274509803921569,
              "rgb(24,15,41)"
             ],
             [
              0.12549019607843137,
              "rgb(47,23,57)"
             ],
             [
              0.18823529411764706,
              "rgb(71,28,72)"
             ],
             [
              0.25098039215686274,
              "rgb(97,30,82)"
             ],
             [
              0.3137254901960784,
              "rgb(123,30,89)"
             ],
             [
              0.3764705882352941,
              "rgb(150,27,91)"
             ],
             [
              0.4392156862745098,
              "rgb(177,22,88)"
             ],
             [
              0.5019607843137255,
              "rgb(203,26,79)"
             ],
             [
              0.5647058823529412,
              "rgb(223,47,67)"
             ],
             [
              0.6274509803921569,
              "rgb(236,76,61)"
             ],
             [
              0.6901960784313725,
              "rgb(242,107,73)"
             ],
             [
              0.7529411764705882,
              "rgb(244,135,95)"
             ],
             [
              0.8156862745098039,
              "rgb(245,162,122)"
             ],
             [
              0.8784313725490196,
              "rgb(246,188,153)"
             ],
             [
              0.9411764705882353,
              "rgb(247,212,187)"
             ],
             [
              1,
              "rgb(250,234,220)"
             ]
            ],
            "type": "heatmapgl"
           }
          ],
          "histogram": [
           {
            "marker": {
             "pattern": {
              "fillmode": "overlay",
              "size": 10,
              "solidity": 0.2
             }
            },
            "type": "histogram"
           }
          ],
          "histogram2d": [
           {
            "colorbar": {
             "outlinewidth": 0,
             "tickcolor": "rgb(36,36,36)",
             "ticklen": 8,
             "ticks": "outside",
             "tickwidth": 2
            },
            "colorscale": [
             [
              0,
              "rgb(2,4,25)"
             ],
             [
              0.06274509803921569,
              "rgb(24,15,41)"
             ],
             [
              0.12549019607843137,
              "rgb(47,23,57)"
             ],
             [
              0.18823529411764706,
              "rgb(71,28,72)"
             ],
             [
              0.25098039215686274,
              "rgb(97,30,82)"
             ],
             [
              0.3137254901960784,
              "rgb(123,30,89)"
             ],
             [
              0.3764705882352941,
              "rgb(150,27,91)"
             ],
             [
              0.4392156862745098,
              "rgb(177,22,88)"
             ],
             [
              0.5019607843137255,
              "rgb(203,26,79)"
             ],
             [
              0.5647058823529412,
              "rgb(223,47,67)"
             ],
             [
              0.6274509803921569,
              "rgb(236,76,61)"
             ],
             [
              0.6901960784313725,
              "rgb(242,107,73)"
             ],
             [
              0.7529411764705882,
              "rgb(244,135,95)"
             ],
             [
              0.8156862745098039,
              "rgb(245,162,122)"
             ],
             [
              0.8784313725490196,
              "rgb(246,188,153)"
             ],
             [
              0.9411764705882353,
              "rgb(247,212,187)"
             ],
             [
              1,
              "rgb(250,234,220)"
             ]
            ],
            "type": "histogram2d"
           }
          ],
          "histogram2dcontour": [
           {
            "colorbar": {
             "outlinewidth": 0,
             "tickcolor": "rgb(36,36,36)",
             "ticklen": 8,
             "ticks": "outside",
             "tickwidth": 2
            },
            "colorscale": [
             [
              0,
              "rgb(2,4,25)"
             ],
             [
              0.06274509803921569,
              "rgb(24,15,41)"
             ],
             [
              0.12549019607843137,
              "rgb(47,23,57)"
             ],
             [
              0.18823529411764706,
              "rgb(71,28,72)"
             ],
             [
              0.25098039215686274,
              "rgb(97,30,82)"
             ],
             [
              0.3137254901960784,
              "rgb(123,30,89)"
             ],
             [
              0.3764705882352941,
              "rgb(150,27,91)"
             ],
             [
              0.4392156862745098,
              "rgb(177,22,88)"
             ],
             [
              0.5019607843137255,
              "rgb(203,26,79)"
             ],
             [
              0.5647058823529412,
              "rgb(223,47,67)"
             ],
             [
              0.6274509803921569,
              "rgb(236,76,61)"
             ],
             [
              0.6901960784313725,
              "rgb(242,107,73)"
             ],
             [
              0.7529411764705882,
              "rgb(244,135,95)"
             ],
             [
              0.8156862745098039,
              "rgb(245,162,122)"
             ],
             [
              0.8784313725490196,
              "rgb(246,188,153)"
             ],
             [
              0.9411764705882353,
              "rgb(247,212,187)"
             ],
             [
              1,
              "rgb(250,234,220)"
             ]
            ],
            "type": "histogram2dcontour"
           }
          ],
          "mesh3d": [
           {
            "colorbar": {
             "outlinewidth": 0,
             "tickcolor": "rgb(36,36,36)",
             "ticklen": 8,
             "ticks": "outside",
             "tickwidth": 2
            },
            "type": "mesh3d"
           }
          ],
          "parcoords": [
           {
            "line": {
             "colorbar": {
              "outlinewidth": 0,
              "tickcolor": "rgb(36,36,36)",
              "ticklen": 8,
              "ticks": "outside",
              "tickwidth": 2
             }
            },
            "type": "parcoords"
           }
          ],
          "pie": [
           {
            "automargin": true,
            "type": "pie"
           }
          ],
          "scatter": [
           {
            "fillpattern": {
             "fillmode": "overlay",
             "size": 10,
             "solidity": 0.2
            },
            "type": "scatter"
           }
          ],
          "scatter3d": [
           {
            "line": {
             "colorbar": {
              "outlinewidth": 0,
              "tickcolor": "rgb(36,36,36)",
              "ticklen": 8,
              "ticks": "outside",
              "tickwidth": 2
             }
            },
            "marker": {
             "colorbar": {
              "outlinewidth": 0,
              "tickcolor": "rgb(36,36,36)",
              "ticklen": 8,
              "ticks": "outside",
              "tickwidth": 2
             }
            },
            "type": "scatter3d"
           }
          ],
          "scattercarpet": [
           {
            "marker": {
             "colorbar": {
              "outlinewidth": 0,
              "tickcolor": "rgb(36,36,36)",
              "ticklen": 8,
              "ticks": "outside",
              "tickwidth": 2
             }
            },
            "type": "scattercarpet"
           }
          ],
          "scattergeo": [
           {
            "marker": {
             "colorbar": {
              "outlinewidth": 0,
              "tickcolor": "rgb(36,36,36)",
              "ticklen": 8,
              "ticks": "outside",
              "tickwidth": 2
             }
            },
            "type": "scattergeo"
           }
          ],
          "scattergl": [
           {
            "marker": {
             "colorbar": {
              "outlinewidth": 0,
              "tickcolor": "rgb(36,36,36)",
              "ticklen": 8,
              "ticks": "outside",
              "tickwidth": 2
             }
            },
            "type": "scattergl"
           }
          ],
          "scattermapbox": [
           {
            "marker": {
             "colorbar": {
              "outlinewidth": 0,
              "tickcolor": "rgb(36,36,36)",
              "ticklen": 8,
              "ticks": "outside",
              "tickwidth": 2
             }
            },
            "type": "scattermapbox"
           }
          ],
          "scatterpolar": [
           {
            "marker": {
             "colorbar": {
              "outlinewidth": 0,
              "tickcolor": "rgb(36,36,36)",
              "ticklen": 8,
              "ticks": "outside",
              "tickwidth": 2
             }
            },
            "type": "scatterpolar"
           }
          ],
          "scatterpolargl": [
           {
            "marker": {
             "colorbar": {
              "outlinewidth": 0,
              "tickcolor": "rgb(36,36,36)",
              "ticklen": 8,
              "ticks": "outside",
              "tickwidth": 2
             }
            },
            "type": "scatterpolargl"
           }
          ],
          "scatterternary": [
           {
            "marker": {
             "colorbar": {
              "outlinewidth": 0,
              "tickcolor": "rgb(36,36,36)",
              "ticklen": 8,
              "ticks": "outside",
              "tickwidth": 2
             }
            },
            "type": "scatterternary"
           }
          ],
          "surface": [
           {
            "colorbar": {
             "outlinewidth": 0,
             "tickcolor": "rgb(36,36,36)",
             "ticklen": 8,
             "ticks": "outside",
             "tickwidth": 2
            },
            "colorscale": [
             [
              0,
              "rgb(2,4,25)"
             ],
             [
              0.06274509803921569,
              "rgb(24,15,41)"
             ],
             [
              0.12549019607843137,
              "rgb(47,23,57)"
             ],
             [
              0.18823529411764706,
              "rgb(71,28,72)"
             ],
             [
              0.25098039215686274,
              "rgb(97,30,82)"
             ],
             [
              0.3137254901960784,
              "rgb(123,30,89)"
             ],
             [
              0.3764705882352941,
              "rgb(150,27,91)"
             ],
             [
              0.4392156862745098,
              "rgb(177,22,88)"
             ],
             [
              0.5019607843137255,
              "rgb(203,26,79)"
             ],
             [
              0.5647058823529412,
              "rgb(223,47,67)"
             ],
             [
              0.6274509803921569,
              "rgb(236,76,61)"
             ],
             [
              0.6901960784313725,
              "rgb(242,107,73)"
             ],
             [
              0.7529411764705882,
              "rgb(244,135,95)"
             ],
             [
              0.8156862745098039,
              "rgb(245,162,122)"
             ],
             [
              0.8784313725490196,
              "rgb(246,188,153)"
             ],
             [
              0.9411764705882353,
              "rgb(247,212,187)"
             ],
             [
              1,
              "rgb(250,234,220)"
             ]
            ],
            "type": "surface"
           }
          ],
          "table": [
           {
            "cells": {
             "fill": {
              "color": "rgb(231,231,240)"
             },
             "line": {
              "color": "white"
             }
            },
            "header": {
             "fill": {
              "color": "rgb(183,183,191)"
             },
             "line": {
              "color": "white"
             }
            },
            "type": "table"
           }
          ]
         },
         "layout": {
          "annotationdefaults": {
           "arrowcolor": "rgb(67,103,167)"
          },
          "autotypenumbers": "strict",
          "coloraxis": {
           "colorbar": {
            "outlinewidth": 0,
            "tickcolor": "rgb(36,36,36)",
            "ticklen": 8,
            "ticks": "outside",
            "tickwidth": 2
           }
          },
          "colorscale": {
           "sequential": [
            [
             0,
             "rgb(2,4,25)"
            ],
            [
             0.06274509803921569,
             "rgb(24,15,41)"
            ],
            [
             0.12549019607843137,
             "rgb(47,23,57)"
            ],
            [
             0.18823529411764706,
             "rgb(71,28,72)"
            ],
            [
             0.25098039215686274,
             "rgb(97,30,82)"
            ],
            [
             0.3137254901960784,
             "rgb(123,30,89)"
            ],
            [
             0.3764705882352941,
             "rgb(150,27,91)"
            ],
            [
             0.4392156862745098,
             "rgb(177,22,88)"
            ],
            [
             0.5019607843137255,
             "rgb(203,26,79)"
            ],
            [
             0.5647058823529412,
             "rgb(223,47,67)"
            ],
            [
             0.6274509803921569,
             "rgb(236,76,61)"
            ],
            [
             0.6901960784313725,
             "rgb(242,107,73)"
            ],
            [
             0.7529411764705882,
             "rgb(244,135,95)"
            ],
            [
             0.8156862745098039,
             "rgb(245,162,122)"
            ],
            [
             0.8784313725490196,
             "rgb(246,188,153)"
            ],
            [
             0.9411764705882353,
             "rgb(247,212,187)"
            ],
            [
             1,
             "rgb(250,234,220)"
            ]
           ],
           "sequentialminus": [
            [
             0,
             "rgb(2,4,25)"
            ],
            [
             0.06274509803921569,
             "rgb(24,15,41)"
            ],
            [
             0.12549019607843137,
             "rgb(47,23,57)"
            ],
            [
             0.18823529411764706,
             "rgb(71,28,72)"
            ],
            [
             0.25098039215686274,
             "rgb(97,30,82)"
            ],
            [
             0.3137254901960784,
             "rgb(123,30,89)"
            ],
            [
             0.3764705882352941,
             "rgb(150,27,91)"
            ],
            [
             0.4392156862745098,
             "rgb(177,22,88)"
            ],
            [
             0.5019607843137255,
             "rgb(203,26,79)"
            ],
            [
             0.5647058823529412,
             "rgb(223,47,67)"
            ],
            [
             0.6274509803921569,
             "rgb(236,76,61)"
            ],
            [
             0.6901960784313725,
             "rgb(242,107,73)"
            ],
            [
             0.7529411764705882,
             "rgb(244,135,95)"
            ],
            [
             0.8156862745098039,
             "rgb(245,162,122)"
            ],
            [
             0.8784313725490196,
             "rgb(246,188,153)"
            ],
            [
             0.9411764705882353,
             "rgb(247,212,187)"
            ],
            [
             1,
             "rgb(250,234,220)"
            ]
           ]
          },
          "colorway": [
           "rgb(76,114,176)",
           "rgb(221,132,82)",
           "rgb(85,168,104)",
           "rgb(196,78,82)",
           "rgb(129,114,179)",
           "rgb(147,120,96)",
           "rgb(218,139,195)",
           "rgb(140,140,140)",
           "rgb(204,185,116)",
           "rgb(100,181,205)"
          ],
          "font": {
           "color": "rgb(36,36,36)"
          },
          "geo": {
           "bgcolor": "white",
           "lakecolor": "white",
           "landcolor": "rgb(234,234,242)",
           "showlakes": true,
           "showland": true,
           "subunitcolor": "white"
          },
          "hoverlabel": {
           "align": "left"
          },
          "hovermode": "closest",
          "paper_bgcolor": "white",
          "plot_bgcolor": "rgb(234,234,242)",
          "polar": {
           "angularaxis": {
            "gridcolor": "white",
            "linecolor": "white",
            "showgrid": true,
            "ticks": ""
           },
           "bgcolor": "rgb(234,234,242)",
           "radialaxis": {
            "gridcolor": "white",
            "linecolor": "white",
            "showgrid": true,
            "ticks": ""
           }
          },
          "scene": {
           "xaxis": {
            "backgroundcolor": "rgb(234,234,242)",
            "gridcolor": "white",
            "gridwidth": 2,
            "linecolor": "white",
            "showbackground": true,
            "showgrid": true,
            "ticks": "",
            "zerolinecolor": "white"
           },
           "yaxis": {
            "backgroundcolor": "rgb(234,234,242)",
            "gridcolor": "white",
            "gridwidth": 2,
            "linecolor": "white",
            "showbackground": true,
            "showgrid": true,
            "ticks": "",
            "zerolinecolor": "white"
           },
           "zaxis": {
            "backgroundcolor": "rgb(234,234,242)",
            "gridcolor": "white",
            "gridwidth": 2,
            "linecolor": "white",
            "showbackground": true,
            "showgrid": true,
            "ticks": "",
            "zerolinecolor": "white"
           }
          },
          "shapedefaults": {
           "fillcolor": "rgb(67,103,167)",
           "line": {
            "width": 0
           },
           "opacity": 0.5
          },
          "ternary": {
           "aaxis": {
            "gridcolor": "white",
            "linecolor": "white",
            "showgrid": true,
            "ticks": ""
           },
           "baxis": {
            "gridcolor": "white",
            "linecolor": "white",
            "showgrid": true,
            "ticks": ""
           },
           "bgcolor": "rgb(234,234,242)",
           "caxis": {
            "gridcolor": "white",
            "linecolor": "white",
            "showgrid": true,
            "ticks": ""
           }
          },
          "xaxis": {
           "automargin": true,
           "gridcolor": "white",
           "linecolor": "white",
           "showgrid": true,
           "ticks": "",
           "title": {
            "standoff": 15
           },
           "zerolinecolor": "white"
          },
          "yaxis": {
           "automargin": true,
           "gridcolor": "white",
           "linecolor": "white",
           "showgrid": true,
           "ticks": "",
           "title": {
            "standoff": 15
           },
           "zerolinecolor": "white"
          }
         }
        },
        "xaxis": {
         "anchor": "y",
         "domain": [
          0,
          1
         ],
         "title": {
          "text": "Age"
         }
        },
        "yaxis": {
         "anchor": "x",
         "domain": [
          0,
          1
         ],
         "title": {
          "text": "count"
         }
        }
       }
      }
     },
     "metadata": {},
     "output_type": "display_data"
    }
   ],
   "source": [
    "px.histogram(df, x=\"Age\")"
   ]
  },
  {
   "cell_type": "code",
   "execution_count": 1,
   "id": "a7d9fbb2",
   "metadata": {},
   "outputs": [],
   "source": [
    "import json\n",
    "\n",
    "def reason_mapping(query:int) -> str:\n",
    "    \"\"\"\n",
    "    Loads in the reason_mapping json as a dict, converting the keys to integers\n",
    "    Returns the ICD text entry for given IDC integer entry\n",
    "    See README for details about the 'Absence reason` column\n",
    "    \"\"\"\n",
    "    path=\"assets/reason_mapping.json\"\n",
    "    with open(path, \"r\") as fin:\n",
    "        data = {int(num):reason for num, reason in json.load(fin).items()}\n",
    "    return data[query]"
   ]
  },
  {
   "cell_type": "code",
   "execution_count": 5,
   "id": "aea5c892",
   "metadata": {},
   "outputs": [
    {
     "name": "stdout",
     "output_type": "stream",
     "text": [
      "Help on function bar in module plotly.express._chart_types:\n",
      "\n",
      "bar(data_frame=None, x=None, y=None, color=None, pattern_shape=None, facet_row=None, facet_col=None, facet_col_wrap=0, facet_row_spacing=None, facet_col_spacing=None, hover_name=None, hover_data=None, custom_data=None, text=None, base=None, error_x=None, error_x_minus=None, error_y=None, error_y_minus=None, animation_frame=None, animation_group=None, category_orders=None, labels=None, color_discrete_sequence=None, color_discrete_map=None, color_continuous_scale=None, pattern_shape_sequence=None, pattern_shape_map=None, range_color=None, color_continuous_midpoint=None, opacity=None, orientation=None, barmode='relative', log_x=False, log_y=False, range_x=None, range_y=None, text_auto=False, title=None, template=None, width=None, height=None) -> plotly.graph_objs._figure.Figure\n",
      "        In a bar plot, each row of `data_frame` is represented as a rectangular\n",
      "        mark.\n",
      "        \n",
      "    Parameters\n",
      "    ----------\n",
      "    data_frame: DataFrame or array-like or dict\n",
      "        This argument needs to be passed for column names (and not keyword\n",
      "        names) to be used. Array-like and dict are tranformed internally to a\n",
      "        pandas DataFrame. Optional: if missing, a DataFrame gets constructed\n",
      "        under the hood using the other arguments.\n",
      "    x: str or int or Series or array-like\n",
      "        Either a name of a column in `data_frame`, or a pandas Series or\n",
      "        array_like object. Values from this column or array_like are used to\n",
      "        position marks along the x axis in cartesian coordinates. Either `x` or\n",
      "        `y` can optionally be a list of column references or array_likes,  in\n",
      "        which case the data will be treated as if it were 'wide' rather than\n",
      "        'long'.\n",
      "    y: str or int or Series or array-like\n",
      "        Either a name of a column in `data_frame`, or a pandas Series or\n",
      "        array_like object. Values from this column or array_like are used to\n",
      "        position marks along the y axis in cartesian coordinates. Either `x` or\n",
      "        `y` can optionally be a list of column references or array_likes,  in\n",
      "        which case the data will be treated as if it were 'wide' rather than\n",
      "        'long'.\n",
      "    color: str or int or Series or array-like\n",
      "        Either a name of a column in `data_frame`, or a pandas Series or\n",
      "        array_like object. Values from this column or array_like are used to\n",
      "        assign color to marks.\n",
      "    pattern_shape: str or int or Series or array-like\n",
      "        Either a name of a column in `data_frame`, or a pandas Series or\n",
      "        array_like object. Values from this column or array_like are used to\n",
      "        assign pattern shapes to marks.\n",
      "    facet_row: str or int or Series or array-like\n",
      "        Either a name of a column in `data_frame`, or a pandas Series or\n",
      "        array_like object. Values from this column or array_like are used to\n",
      "        assign marks to facetted subplots in the vertical direction.\n",
      "    facet_col: str or int or Series or array-like\n",
      "        Either a name of a column in `data_frame`, or a pandas Series or\n",
      "        array_like object. Values from this column or array_like are used to\n",
      "        assign marks to facetted subplots in the horizontal direction.\n",
      "    facet_col_wrap: int\n",
      "        Maximum number of facet columns. Wraps the column variable at this\n",
      "        width, so that the column facets span multiple rows. Ignored if 0, and\n",
      "        forced to 0 if `facet_row` or a `marginal` is set.\n",
      "    facet_row_spacing: float between 0 and 1\n",
      "        Spacing between facet rows, in paper units. Default is 0.03 or 0.0.7\n",
      "        when facet_col_wrap is used.\n",
      "    facet_col_spacing: float between 0 and 1\n",
      "        Spacing between facet columns, in paper units Default is 0.02.\n",
      "    hover_name: str or int or Series or array-like\n",
      "        Either a name of a column in `data_frame`, or a pandas Series or\n",
      "        array_like object. Values from this column or array_like appear in bold\n",
      "        in the hover tooltip.\n",
      "    hover_data: list of str or int, or Series or array-like, or dict\n",
      "        Either a list of names of columns in `data_frame`, or pandas Series, or\n",
      "        array_like objects or a dict with column names as keys, with values\n",
      "        True (for default formatting) False (in order to remove this column\n",
      "        from hover information), or a formatting string, for example ':.3f' or\n",
      "        '|%a' or list-like data to appear in the hover tooltip or tuples with a\n",
      "        bool or formatting string as first element, and list-like data to\n",
      "        appear in hover as second element Values from these columns appear as\n",
      "        extra data in the hover tooltip.\n",
      "    custom_data: list of str or int, or Series or array-like\n",
      "        Either names of columns in `data_frame`, or pandas Series, or\n",
      "        array_like objects Values from these columns are extra data, to be used\n",
      "        in widgets or Dash callbacks for example. This data is not user-visible\n",
      "        but is included in events emitted by the figure (lasso selection etc.)\n",
      "    text: str or int or Series or array-like\n",
      "        Either a name of a column in `data_frame`, or a pandas Series or\n",
      "        array_like object. Values from this column or array_like appear in the\n",
      "        figure as text labels.\n",
      "    base: str or int or Series or array-like\n",
      "        Either a name of a column in `data_frame`, or a pandas Series or\n",
      "        array_like object. Values from this column or array_like are used to\n",
      "        position the base of the bar.\n",
      "    error_x: str or int or Series or array-like\n",
      "        Either a name of a column in `data_frame`, or a pandas Series or\n",
      "        array_like object. Values from this column or array_like are used to\n",
      "        size x-axis error bars. If `error_x_minus` is `None`, error bars will\n",
      "        be symmetrical, otherwise `error_x` is used for the positive direction\n",
      "        only.\n",
      "    error_x_minus: str or int or Series or array-like\n",
      "        Either a name of a column in `data_frame`, or a pandas Series or\n",
      "        array_like object. Values from this column or array_like are used to\n",
      "        size x-axis error bars in the negative direction. Ignored if `error_x`\n",
      "        is `None`.\n",
      "    error_y: str or int or Series or array-like\n",
      "        Either a name of a column in `data_frame`, or a pandas Series or\n",
      "        array_like object. Values from this column or array_like are used to\n",
      "        size y-axis error bars. If `error_y_minus` is `None`, error bars will\n",
      "        be symmetrical, otherwise `error_y` is used for the positive direction\n",
      "        only.\n",
      "    error_y_minus: str or int or Series or array-like\n",
      "        Either a name of a column in `data_frame`, or a pandas Series or\n",
      "        array_like object. Values from this column or array_like are used to\n",
      "        size y-axis error bars in the negative direction. Ignored if `error_y`\n",
      "        is `None`.\n",
      "    animation_frame: str or int or Series or array-like\n",
      "        Either a name of a column in `data_frame`, or a pandas Series or\n",
      "        array_like object. Values from this column or array_like are used to\n",
      "        assign marks to animation frames.\n",
      "    animation_group: str or int or Series or array-like\n",
      "        Either a name of a column in `data_frame`, or a pandas Series or\n",
      "        array_like object. Values from this column or array_like are used to\n",
      "        provide object-constancy across animation frames: rows with matching\n",
      "        `animation_group`s will be treated as if they describe the same object\n",
      "        in each frame.\n",
      "    category_orders: dict with str keys and list of str values (default `{}`)\n",
      "        By default, in Python 3.6+, the order of categorical values in axes,\n",
      "        legends and facets depends on the order in which these values are first\n",
      "        encountered in `data_frame` (and no order is guaranteed by default in\n",
      "        Python below 3.6). This parameter is used to force a specific ordering\n",
      "        of values per column. The keys of this dict should correspond to column\n",
      "        names, and the values should be lists of strings corresponding to the\n",
      "        specific display order desired.\n",
      "    labels: dict with str keys and str values (default `{}`)\n",
      "        By default, column names are used in the figure for axis titles, legend\n",
      "        entries and hovers. This parameter allows this to be overridden. The\n",
      "        keys of this dict should correspond to column names, and the values\n",
      "        should correspond to the desired label to be displayed.\n",
      "    color_discrete_sequence: list of str\n",
      "        Strings should define valid CSS-colors. When `color` is set and the\n",
      "        values in the corresponding column are not numeric, values in that\n",
      "        column are assigned colors by cycling through `color_discrete_sequence`\n",
      "        in the order described in `category_orders`, unless the value of\n",
      "        `color` is a key in `color_discrete_map`. Various useful color\n",
      "        sequences are available in the `plotly.express.colors` submodules,\n",
      "        specifically `plotly.express.colors.qualitative`.\n",
      "    color_discrete_map: dict with str keys and str values (default `{}`)\n",
      "        String values should define valid CSS-colors Used to override\n",
      "        `color_discrete_sequence` to assign a specific colors to marks\n",
      "        corresponding with specific values. Keys in `color_discrete_map` should\n",
      "        be values in the column denoted by `color`. Alternatively, if the\n",
      "        values of `color` are valid colors, the string `'identity'` may be\n",
      "        passed to cause them to be used directly.\n",
      "    color_continuous_scale: list of str\n",
      "        Strings should define valid CSS-colors This list is used to build a\n",
      "        continuous color scale when the column denoted by `color` contains\n",
      "        numeric data. Various useful color scales are available in the\n",
      "        `plotly.express.colors` submodules, specifically\n",
      "        `plotly.express.colors.sequential`, `plotly.express.colors.diverging`\n",
      "        and `plotly.express.colors.cyclical`.\n",
      "    pattern_shape_sequence: list of str\n",
      "        Strings should define valid plotly.js patterns-shapes. When\n",
      "        `pattern_shape` is set, values in that column are assigned patterns-\n",
      "        shapes by cycling through `pattern_shape_sequence` in the order\n",
      "        described in `category_orders`, unless the value of `pattern_shape` is\n",
      "        a key in `pattern_shape_map`.\n",
      "    pattern_shape_map: dict with str keys and str values (default `{}`)\n",
      "        Strings values define plotly.js patterns-shapes. Used to override\n",
      "        `pattern_shape_sequences` to assign a specific patterns-shapes to lines\n",
      "        corresponding with specific values. Keys in `pattern_shape_map` should\n",
      "        be values in the column denoted by `pattern_shape`. Alternatively, if\n",
      "        the values of `pattern_shape` are valid patterns-shapes names, the\n",
      "        string `'identity'` may be passed to cause them to be used directly.\n",
      "    range_color: list of two numbers\n",
      "        If provided, overrides auto-scaling on the continuous color scale.\n",
      "    color_continuous_midpoint: number (default `None`)\n",
      "        If set, computes the bounds of the continuous color scale to have the\n",
      "        desired midpoint. Setting this value is recommended when using\n",
      "        `plotly.express.colors.diverging` color scales as the inputs to\n",
      "        `color_continuous_scale`.\n",
      "    opacity: float\n",
      "        Value between 0 and 1. Sets the opacity for markers.\n",
      "    orientation: str, one of `'h'` for horizontal or `'v'` for vertical. \n",
      "        (default `'v'` if `x` and `y` are provided and both continous or both\n",
      "        categorical,  otherwise `'v'`(`'h'`) if `x`(`y`) is categorical and\n",
      "        `y`(`x`) is continuous,  otherwise `'v'`(`'h'`) if only `x`(`y`) is\n",
      "        provided)\n",
      "    barmode: str (default `'relative'`)\n",
      "        One of `'group'`, `'overlay'` or `'relative'` In `'relative'` mode,\n",
      "        bars are stacked above zero for positive values and below zero for\n",
      "        negative values. In `'overlay'` mode, bars are drawn on top of one\n",
      "        another. In `'group'` mode, bars are placed beside each other.\n",
      "    log_x: boolean (default `False`)\n",
      "        If `True`, the x-axis is log-scaled in cartesian coordinates.\n",
      "    log_y: boolean (default `False`)\n",
      "        If `True`, the y-axis is log-scaled in cartesian coordinates.\n",
      "    range_x: list of two numbers\n",
      "        If provided, overrides auto-scaling on the x-axis in cartesian\n",
      "        coordinates.\n",
      "    range_y: list of two numbers\n",
      "        If provided, overrides auto-scaling on the y-axis in cartesian\n",
      "        coordinates.\n",
      "    text_auto: bool or string (default `False`)\n",
      "        If `True` or a string, the x or y or z values will be displayed as\n",
      "        text, depending on the orientation A string like `'.2f'` will be\n",
      "        interpreted as a `texttemplate` numeric formatting directive.\n",
      "    title: str\n",
      "        The figure title.\n",
      "    template: str or dict or plotly.graph_objects.layout.Template instance\n",
      "        The figure template name (must be a key in plotly.io.templates) or\n",
      "        definition.\n",
      "    width: int (default `None`)\n",
      "        The figure width in pixels.\n",
      "    height: int (default `None`)\n",
      "        The figure height in pixels.\n",
      "    \n",
      "    Returns\n",
      "    -------\n",
      "        plotly.graph_objects.Figure\n",
      "\n"
     ]
    }
   ],
   "source": [
    "help(px.bar)"
   ]
  },
  {
   "cell_type": "code",
   "execution_count": 12,
   "id": "9c1857d3",
   "metadata": {},
   "outputs": [
    {
     "name": "stdout",
     "output_type": "stream",
     "text": [
      "Help on class Dropdown in module dash.dcc.Dropdown:\n",
      "\n",
      "class Dropdown(dash.development.base_component.Component)\n",
      " |  Dropdown(options=undefined, value=undefined, multi=undefined, clearable=undefined, searchable=undefined, search_value=undefined, placeholder=undefined, disabled=undefined, optionHeight=undefined, maxHeight=undefined, style=undefined, className=undefined, id=undefined, loading_state=undefined, persistence=undefined, persisted_props=undefined, persistence_type=undefined, **kwargs)\n",
      " |  \n",
      " |  A Dropdown component.\n",
      " |  Dropdown is an interactive dropdown element for selecting one or more\n",
      " |  items.\n",
      " |  The values and labels of the dropdown items are specified in the `options`\n",
      " |  property and the selected item(s) are specified with the `value` property.\n",
      " |  \n",
      " |  Use a dropdown when you have many options (more than 5) or when you are\n",
      " |  constrained for space. Otherwise, you can use RadioItems or a Checklist,\n",
      " |  which have the benefit of showing the users all of the items at once.\n",
      " |  \n",
      " |  Keyword arguments:\n",
      " |  \n",
      " |  - options (list of dicts; optional):\n",
      " |      An array of options {label: [string|number], value:\n",
      " |      [string|number]}, an optional disabled field can be used for each\n",
      " |      option.\n",
      " |  \n",
      " |      `options` is a list of string | number | booleans | dict | list of\n",
      " |      dicts with keys:\n",
      " |  \n",
      " |      - disabled (boolean; optional):\n",
      " |          If True, this option is disabled and cannot be selected.\n",
      " |  \n",
      " |      - label (a list of or a singular dash component, string or number; required):\n",
      " |          The option's label.\n",
      " |  \n",
      " |      - search (string; optional):\n",
      " |          Optional search value for the option, to use if the label is a\n",
      " |          component or provide a custom search value different from the\n",
      " |          label. If no search value and the label is a component, the\n",
      " |          `value` will be used for search.\n",
      " |  \n",
      " |      - title (string; optional):\n",
      " |          The HTML 'title' attribute for the option. Allows for\n",
      " |          information on hover. For more information on this attribute,\n",
      " |          see\n",
      " |          https://developer.mozilla.org/en-US/docs/Web/HTML/Global_attributes/title.\n",
      " |  \n",
      " |      - value (string | number | boolean; required):\n",
      " |          The value of the option. This value corresponds to the items\n",
      " |          specified in the `value` property.\n",
      " |  \n",
      " |  - value (string | number | boolean | list of string | number | booleans; optional):\n",
      " |      The value of the input. If `multi` is False (the default) then\n",
      " |      value is just a string that corresponds to the values provided in\n",
      " |      the `options` property. If `multi` is True, then multiple values\n",
      " |      can be selected at once, and `value` is an array of items with\n",
      " |      values corresponding to those in the `options` prop.\n",
      " |  \n",
      " |  - multi (boolean; default False):\n",
      " |      If True, the user can select multiple values.\n",
      " |  \n",
      " |  - clearable (boolean; default True):\n",
      " |      Whether or not the dropdown is \"clearable\", that is, whether or\n",
      " |      not a small \"x\" appears on the right of the dropdown that\n",
      " |      removes the selected value.\n",
      " |  \n",
      " |  - searchable (boolean; default True):\n",
      " |      Whether to enable the searching feature or not.\n",
      " |  \n",
      " |  - search_value (string; optional):\n",
      " |      The value typed in the DropDown for searching.\n",
      " |  \n",
      " |  - placeholder (string; optional):\n",
      " |      The grey, default text shown when no option is selected.\n",
      " |  \n",
      " |  - disabled (boolean; default False):\n",
      " |      If True, this dropdown is disabled and the selection cannot be\n",
      " |      changed.\n",
      " |  \n",
      " |  - optionHeight (number; default 35):\n",
      " |      height of each option. Can be increased when label lengths would\n",
      " |      wrap around.\n",
      " |  \n",
      " |  - maxHeight (number; default 200):\n",
      " |      height of the options dropdown.\n",
      " |  \n",
      " |  - style (dict; optional):\n",
      " |      Defines CSS styles which will override styles previously set.\n",
      " |  \n",
      " |  - className (string; optional):\n",
      " |      className of the dropdown element.\n",
      " |  \n",
      " |  - id (string; optional):\n",
      " |      The ID of this component, used to identify dash components in\n",
      " |      callbacks. The ID needs to be unique across all of the components\n",
      " |      in an app.\n",
      " |  \n",
      " |  - loading_state (dict; optional):\n",
      " |      Object that holds the loading state object coming from\n",
      " |      dash-renderer.\n",
      " |  \n",
      " |      `loading_state` is a dict with keys:\n",
      " |  \n",
      " |      - component_name (string; optional):\n",
      " |          Holds the name of the component that is loading.\n",
      " |  \n",
      " |      - is_loading (boolean; optional):\n",
      " |          Determines if the component is loading or not.\n",
      " |  \n",
      " |      - prop_name (string; optional):\n",
      " |          Holds which property is loading.\n",
      " |  \n",
      " |  - persistence (boolean | string | number; optional):\n",
      " |      Used to allow user interactions in this component to be persisted\n",
      " |      when the component - or the page - is refreshed. If `persisted` is\n",
      " |      truthy and hasn't changed from its previous value, a `value` that\n",
      " |      the user has changed while using the app will keep that change, as\n",
      " |      long as the new `value` also matches what was given originally.\n",
      " |      Used in conjunction with `persistence_type`.\n",
      " |  \n",
      " |  - persisted_props (list of a value equal to: 'value's; default ['value']):\n",
      " |      Properties whose user interactions will persist after refreshing\n",
      " |      the component or the page. Since only `value` is allowed this prop\n",
      " |      can normally be ignored.\n",
      " |  \n",
      " |  - persistence_type (a value equal to: 'local', 'session', 'memory'; default 'local'):\n",
      " |      Where persisted user changes will be stored: memory: only kept in\n",
      " |      memory, reset on page refresh. local: window.localStorage, data is\n",
      " |      kept after the browser quit. session: window.sessionStorage, data\n",
      " |      is cleared once the browser quit.\n",
      " |  \n",
      " |  Method resolution order:\n",
      " |      Dropdown\n",
      " |      dash.development.base_component.Component\n",
      " |      builtins.object\n",
      " |  \n",
      " |  Methods defined here:\n",
      " |  \n",
      " |  __init__ = wrapper(self, options=undefined, value=undefined, multi=undefined, clearable=undefined, searchable=undefined, search_value=undefined, placeholder=undefined, disabled=undefined, optionHeight=undefined, maxHeight=undefined, style=undefined, className=undefined, id=undefined, loading_state=undefined, persistence=undefined, persisted_props=undefined, persistence_type=undefined, **kwargs)\n",
      " |  \n",
      " |  ----------------------------------------------------------------------\n",
      " |  Data and other attributes defined here:\n",
      " |  \n",
      " |  __abstractmethods__ = frozenset()\n",
      " |  \n",
      " |  ----------------------------------------------------------------------\n",
      " |  Methods inherited from dash.development.base_component.Component:\n",
      " |  \n",
      " |  __delitem__(self, id)\n",
      " |      Delete items by ID in the tree of children.\n",
      " |  \n",
      " |  __getitem__(self, id)\n",
      " |      Recursively find the element with the given ID through the tree of\n",
      " |      children.\n",
      " |  \n",
      " |  __iter__(self)\n",
      " |      Yield IDs in the tree of children.\n",
      " |  \n",
      " |  __len__(self)\n",
      " |      Return the number of items in the tree.\n",
      " |  \n",
      " |  __repr__(self)\n",
      " |      Return repr(self).\n",
      " |  \n",
      " |  __setitem__(self, id, item)\n",
      " |      Set an element by its ID.\n",
      " |  \n",
      " |  to_plotly_json(self)\n",
      " |  \n",
      " |  ----------------------------------------------------------------------\n",
      " |  Data descriptors inherited from dash.development.base_component.Component:\n",
      " |  \n",
      " |  __dict__\n",
      " |      dictionary for instance variables (if defined)\n",
      " |  \n",
      " |  __weakref__\n",
      " |      list of weak references to the object (if defined)\n",
      " |  \n",
      " |  ----------------------------------------------------------------------\n",
      " |  Data and other attributes inherited from dash.development.base_component.Component:\n",
      " |  \n",
      " |  REQUIRED = required\n",
      " |  \n",
      " |  UNDEFINED = undefined\n",
      "\n"
     ]
    }
   ],
   "source": [
    "from dash import dcc\n",
    "\n",
    "help(dcc.Dropdown)"
   ]
  },
  {
   "cell_type": "code",
   "execution_count": null,
   "id": "55a7e945",
   "metadata": {},
   "outputs": [],
   "source": []
  }
 ],
 "metadata": {
  "kernelspec": {
   "display_name": ".venv",
   "language": "python",
   "name": "python3"
  },
  "language_info": {
   "codemirror_mode": {
    "name": "ipython",
    "version": 3
   },
   "file_extension": ".py",
   "mimetype": "text/x-python",
   "name": "python",
   "nbconvert_exporter": "python",
   "pygments_lexer": "ipython3",
   "version": "3.9.12"
  },
  "vscode": {
   "interpreter": {
    "hash": "5f794bdd9ae3ffb1bdf9fdde55f6fe035b32b54e54861b9d1527d89ae86036ab"
   }
  }
 },
 "nbformat": 4,
 "nbformat_minor": 5
}
