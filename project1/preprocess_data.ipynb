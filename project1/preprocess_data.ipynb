{
 "cells": [
  {
   "attachments": {},
   "cell_type": "markdown",
   "id": "f103516a",
   "metadata": {},
   "source": [
    "# Imports"
   ]
  },
  {
   "cell_type": "code",
   "execution_count": 2,
   "id": "8ae86b30",
   "metadata": {},
   "outputs": [],
   "source": [
    "# DATASET: https://archive.ics.uci.edu/ml/datasets/Absenteeism+at+work\n",
    "\n",
    "import plotly.express as px\n",
    "import plotly.io as pio\n",
    "import pandas as pd\n",
    "\n",
    "pio.templates.default = \"seaborn\"\n"
   ]
  },
  {
   "attachments": {},
   "cell_type": "markdown",
   "id": "9e3fdc4f",
   "metadata": {},
   "source": [
    "# Loading and preprocessing\n",
    "\n",
    "Load raw data from csv\n",
    "\n",
    "Since the categorical variables are encoded at integers, revert them back to strings according to [the dataset](https://archive.ics.uci.edu/ml/datasets/Absenteeism+at+work)"
   ]
  },
  {
   "cell_type": "code",
   "execution_count": 18,
   "id": "968fc73c",
   "metadata": {},
   "outputs": [],
   "source": [
    "\n",
    "df = pd.read_csv(\"data/raw/absenteeism_at_work_raw.csv\", index_col=False)\n",
    "\n",
    "def rename_num_column_value(num_list, str_list) -> dict[int, str]:\n",
    "    return {num:string for num, string in zip(num_list, str_list)}\n",
    "\n",
    "new_months    = rename_num_column_value([1,2,3,4,5,6,7,8,9,10,11,12, 0],[\"Jan\", \"Feb\", \"Mar\", \"Apr\", \"May\", \"Jun\", \"Jul\", \"Aug\", \"Sep\", \"Oct\", \"Nov\", \"Dec\", \"Unkown\"])\n",
    "new_days      = rename_num_column_value([2,3,4,5,6], [\"Mon\", \"Tue\", \"Wed\", \"Thr\", \"Fri\"])\n",
    "new_seasons   = rename_num_column_value([1,2,3,4], [\"Spring\", \"Summer\", \"Fall\", \"Winter\"])\n",
    "new_education = rename_num_column_value([1,2,3,4], [\"h_school\", \"graduate\", \"postgrad\", \"master_phd\"])\n",
    "yes_no        = rename_num_column_value([0,1], [\"no\", \"yes\"])\n",
    "\n",
    "df[\"Month of absence\"]     = df[\"Month of absence\"] .apply(lambda x: new_months[x])\n",
    "df[\"Day of the week\"]      = df[\"Day of the week\"].apply(lambda x: new_days[x])\n",
    "df[\"Seasons\"]              = df[\"Seasons\"].apply(lambda x: new_seasons[x])\n",
    "df[\"Education\"]            = df[\"Education\"].apply(lambda x: new_education[x])\n",
    "df[\"Disciplinary failure\"] = df[\"Disciplinary failure\"].apply(lambda x: yes_no[x])\n",
    "df[\"Social drinker\"]       = df[\"Social drinker\"].apply(lambda x: yes_no[x])\n",
    "df[\"Social smoker\"]        = df[\"Social smoker\"].apply(lambda x: yes_no[x])\n",
    "\n",
    "\n",
    "del df[\"ID\"]\n",
    "del df[\"Hit target\"]\n",
    "df.rename(columns={\"Reason for absence\":\"Absence reason\",\n",
    "                   \"Month of absence\": \"Month\", \n",
    "                   \"Day of the week\":\"Day\",\n",
    "                   \"Distance from Residence to Work\": \"Distance to Work\",\n",
    "                   \"Work load Average/day \":\"Avg work load per day\",\n",
    "                   \"Son\":\"Number of children\",\n",
    "                   \"Absenteeism time in hours\":\"Hours absent\",\n",
    "                   \"Pet\": \"Pets\"},\n",
    "          inplace=True)\n",
    "\n"
   ]
  },
  {
   "attachments": {},
   "cell_type": "markdown",
   "id": "cf6953c0",
   "metadata": {},
   "source": [
    "The `reason_for_absence` column is interesting because it includes 21 categories. It is an encoding for the reason for absence as encoded by the International Code of Diseases (ICD). Details on the encodings can be found on the dataset link [here](https://archive.ics.uci.edu/ml/datasets/Absenteeism+at+work)\n",
    "\n",
    "Since the column **also** contains numerical reasons outside of the ICD range, I will add a new column to the dataset called `disease` which will contain binary values (1 = yes, 0 = no) indicating whether the reason is a diease or not, respectively"
   ]
  },
  {
   "cell_type": "code",
   "execution_count": 19,
   "id": "95868d60",
   "metadata": {},
   "outputs": [],
   "source": [
    "def is_disease(num:int) -> str:\n",
    "    return \"yes\" if num in range(1, 22) else \"no\"\n",
    "\n",
    "df[\"Disease\"] = df[\"Absence reason\"].apply(is_disease)\n"
   ]
  },
  {
   "attachments": {},
   "cell_type": "markdown",
   "id": "fbe3cf16",
   "metadata": {},
   "source": [
    "Write preprocessed file to storage to be used in `main.py`"
   ]
  },
  {
   "cell_type": "code",
   "execution_count": 20,
   "id": "5b60cf03",
   "metadata": {},
   "outputs": [],
   "source": [
    "df.to_csv(\"data/preprocessed/absenteeism_at_work_preprocessed.csv\",index=False)"
   ]
  },
  {
   "attachments": {},
   "cell_type": "markdown",
   "id": "3180aeb8",
   "metadata": {},
   "source": [
    "# Testing cells\n",
    "\n",
    "The following cells are just for testing code and do not contribute to the project"
   ]
  },
  {
   "cell_type": "code",
   "execution_count": 22,
   "id": "dad932fa",
   "metadata": {},
   "outputs": [
    {
     "data": {
      "application/vnd.plotly.v1+json": {
       "config": {
        "plotlyServerURL": "https://plot.ly"
       },
       "data": [
        {
         "alignmentgroup": "True",
         "bingroup": "x",
         "hovertemplate": "Age=%{x}<br>count=%{y}<extra></extra>",
         "legendgroup": "",
         "marker": {
          "color": "rgb(76,114,176)",
          "pattern": {
           "shape": ""
          }
         },
         "name": "",
         "offsetgroup": "",
         "orientation": "v",
         "showlegend": false,
         "type": "histogram",
         "x": [
          33,
          50,
          38,
          39,
          33,
          38,
          28,
          36,
          34,
          37,
          36,
          36,
          36,
          38,
          38,
          41,
          38,
          38,
          33,
          47,
          28,
          38,
          28,
          36,
          33,
          28,
          33,
          29,
          33,
          38,
          38,
          48,
          37,
          48,
          38,
          28,
          33,
          32,
          48,
          36,
          27,
          37,
          38,
          43,
          34,
          37,
          38,
          40,
          36,
          40,
          36,
          28,
          28,
          37,
          33,
          50,
          28,
          38,
          31,
          47,
          38,
          36,
          38,
          37,
          50,
          30,
          38,
          28,
          37,
          28,
          47,
          40,
          38,
          28,
          36,
          40,
          28,
          33,
          28,
          36,
          38,
          28,
          38,
          40,
          40,
          34,
          33,
          40,
          28,
          34,
          28,
          40,
          28,
          36,
          47,
          28,
          33,
          40,
          47,
          37,
          50,
          37,
          28,
          36,
          37,
          28,
          28,
          36,
          28,
          28,
          37,
          41,
          28,
          28,
          37,
          37,
          34,
          28,
          27,
          28,
          28,
          37,
          28,
          37,
          37,
          37,
          37,
          37,
          37,
          30,
          33,
          37,
          27,
          37,
          37,
          28,
          33,
          27,
          41,
          38,
          34,
          33,
          36,
          33,
          50,
          50,
          28,
          28,
          30,
          27,
          28,
          28,
          28,
          28,
          33,
          32,
          36,
          29,
          40,
          40,
          36,
          30,
          47,
          36,
          40,
          34,
          36,
          34,
          33,
          40,
          36,
          28,
          39,
          38,
          28,
          28,
          30,
          28,
          28,
          38,
          39,
          28,
          47,
          28,
          40,
          28,
          34,
          41,
          34,
          28,
          36,
          38,
          50,
          40,
          41,
          40,
          47,
          36,
          33,
          34,
          36,
          33,
          37,
          48,
          33,
          34,
          34,
          38,
          28,
          27,
          34,
          38,
          33,
          39,
          28,
          36,
          50,
          38,
          50,
          28,
          41,
          28,
          41,
          40,
          41,
          38,
          34,
          41,
          50,
          37,
          50,
          50,
          36,
          38,
          49,
          28,
          34,
          50,
          37,
          37,
          28,
          30,
          34,
          28,
          28,
          29,
          28,
          33,
          38,
          33,
          33,
          36,
          33,
          29,
          33,
          58,
          43,
          43,
          36,
          33,
          47,
          33,
          30,
          50,
          47,
          37,
          50,
          37,
          28,
          27,
          38,
          38,
          33,
          43,
          41,
          40,
          39,
          32,
          38,
          41,
          38,
          40,
          36,
          43,
          50,
          43,
          40,
          40,
          38,
          33,
          37,
          33,
          33,
          50,
          47,
          30,
          37,
          31,
          38,
          30,
          43,
          33,
          36,
          43,
          43,
          43,
          50,
          40,
          30,
          50,
          28,
          36,
          40,
          29,
          30,
          30,
          50,
          37,
          47,
          38,
          36,
          40,
          36,
          34,
          43,
          28,
          37,
          37,
          37,
          38,
          41,
          40,
          41,
          38,
          36,
          36,
          36,
          39,
          38,
          28,
          38,
          38,
          37,
          50,
          36,
          41,
          38,
          38,
          30,
          37,
          37,
          38,
          43,
          37,
          36,
          29,
          38,
          33,
          28,
          37,
          34,
          37,
          34,
          33,
          40,
          43,
          50,
          38,
          38,
          37,
          38,
          28,
          33,
          36,
          38,
          38,
          38,
          38,
          41,
          38,
          33,
          38,
          41,
          40,
          29,
          38,
          38,
          41,
          38,
          38,
          37,
          41,
          41,
          36,
          38,
          37,
          40,
          36,
          38,
          28,
          31,
          37,
          50,
          50,
          50,
          37,
          41,
          50,
          38,
          33,
          36,
          41,
          38,
          36,
          28,
          31,
          47,
          28,
          38,
          50,
          50,
          43,
          36,
          38,
          37,
          43,
          47,
          31,
          30,
          38,
          28,
          36,
          40,
          40,
          58,
          28,
          28,
          30,
          37,
          37,
          30,
          37,
          38,
          37,
          28,
          36,
          38,
          40,
          38,
          41,
          38,
          43,
          38,
          28,
          50,
          38,
          30,
          41,
          28,
          37,
          30,
          28,
          36,
          33,
          28,
          37,
          36,
          37,
          43,
          48,
          41,
          28,
          38,
          50,
          28,
          33,
          43,
          41,
          40,
          39,
          38,
          40,
          41,
          37,
          33,
          43,
          40,
          38,
          40,
          28,
          37,
          41,
          37,
          40,
          36,
          41,
          41,
          37,
          34,
          40,
          30,
          47,
          38,
          28,
          30,
          31,
          28,
          49,
          32,
          41,
          49,
          40,
          37,
          49,
          40,
          28,
          31,
          31,
          28,
          31,
          38,
          58,
          40,
          31,
          28,
          31,
          28,
          33,
          32,
          47,
          28,
          28,
          38,
          37,
          28,
          38,
          37,
          33,
          32,
          28,
          28,
          40,
          37,
          28,
          38,
          37,
          37,
          28,
          40,
          33,
          47,
          43,
          28,
          31,
          28,
          38,
          40,
          28,
          30,
          28,
          28,
          28,
          40,
          43,
          31,
          30,
          28,
          28,
          28,
          34,
          30,
          30,
          40,
          40,
          30,
          40,
          49,
          40,
          30,
          34,
          30,
          38,
          33,
          38,
          38,
          38,
          28,
          47,
          38,
          28,
          38,
          30,
          41,
          38,
          31,
          38,
          28,
          38,
          38,
          28,
          30,
          40,
          38,
          31,
          30,
          38,
          38,
          38,
          34,
          32,
          38,
          28,
          38,
          47,
          28,
          38,
          38,
          32,
          38,
          47,
          58,
          47,
          58,
          38,
          28,
          38,
          28,
          30,
          32,
          28,
          38,
          38,
          38,
          30,
          38,
          47,
          38,
          28,
          38,
          33,
          58,
          38,
          47,
          38,
          30,
          38,
          38,
          46,
          34,
          38,
          38,
          30,
          33,
          31,
          28,
          37,
          28,
          47,
          33,
          30,
          31,
          40,
          50,
          28,
          37,
          37,
          30,
          28,
          32,
          30,
          34,
          28,
          50,
          30,
          37,
          41,
          32,
          37,
          43,
          30,
          40,
          41,
          43,
          41,
          30,
          50,
          50,
          37,
          50,
          30,
          36,
          40,
          34,
          32,
          40,
          40,
          28,
          28,
          32,
          40,
          30,
          28,
          34,
          40,
          34,
          28,
          46,
          30,
          37,
          37,
          36,
          50,
          31,
          30,
          48,
          33,
          50,
          30,
          40,
          30,
          37,
          31,
          37,
          37,
          31,
          43,
          31,
          58,
          37,
          58,
          33,
          37,
          28,
          28,
          31,
          33,
          37,
          40,
          39,
          53
         ],
         "xaxis": "x",
         "yaxis": "y"
        }
       ],
       "layout": {
        "barmode": "relative",
        "legend": {
         "tracegroupgap": 0
        },
        "margin": {
         "t": 60
        },
        "template": {
         "data": {
          "bar": [
           {
            "error_x": {
             "color": "rgb(36,36,36)"
            },
            "error_y": {
             "color": "rgb(36,36,36)"
            },
            "marker": {
             "line": {
              "color": "rgb(234,234,242)",
              "width": 0.5
             },
             "pattern": {
              "fillmode": "overlay",
              "size": 10,
              "solidity": 0.2
             }
            },
            "type": "bar"
           }
          ],
          "barpolar": [
           {
            "marker": {
             "line": {
              "color": "rgb(234,234,242)",
              "width": 0.5
             },
             "pattern": {
              "fillmode": "overlay",
              "size": 10,
              "solidity": 0.2
             }
            },
            "type": "barpolar"
           }
          ],
          "carpet": [
           {
            "aaxis": {
             "endlinecolor": "rgb(36,36,36)",
             "gridcolor": "white",
             "linecolor": "white",
             "minorgridcolor": "white",
             "startlinecolor": "rgb(36,36,36)"
            },
            "baxis": {
             "endlinecolor": "rgb(36,36,36)",
             "gridcolor": "white",
             "linecolor": "white",
             "minorgridcolor": "white",
             "startlinecolor": "rgb(36,36,36)"
            },
            "type": "carpet"
           }
          ],
          "choropleth": [
           {
            "colorbar": {
             "outlinewidth": 0,
             "tickcolor": "rgb(36,36,36)",
             "ticklen": 8,
             "ticks": "outside",
             "tickwidth": 2
            },
            "type": "choropleth"
           }
          ],
          "contour": [
           {
            "colorbar": {
             "outlinewidth": 0,
             "tickcolor": "rgb(36,36,36)",
             "ticklen": 8,
             "ticks": "outside",
             "tickwidth": 2
            },
            "colorscale": [
             [
              0,
              "rgb(2,4,25)"
             ],
             [
              0.06274509803921569,
              "rgb(24,15,41)"
             ],
             [
              0.12549019607843137,
              "rgb(47,23,57)"
             ],
             [
              0.18823529411764706,
              "rgb(71,28,72)"
             ],
             [
              0.25098039215686274,
              "rgb(97,30,82)"
             ],
             [
              0.3137254901960784,
              "rgb(123,30,89)"
             ],
             [
              0.3764705882352941,
              "rgb(150,27,91)"
             ],
             [
              0.4392156862745098,
              "rgb(177,22,88)"
             ],
             [
              0.5019607843137255,
              "rgb(203,26,79)"
             ],
             [
              0.5647058823529412,
              "rgb(223,47,67)"
             ],
             [
              0.6274509803921569,
              "rgb(236,76,61)"
             ],
             [
              0.6901960784313725,
              "rgb(242,107,73)"
             ],
             [
              0.7529411764705882,
              "rgb(244,135,95)"
             ],
             [
              0.8156862745098039,
              "rgb(245,162,122)"
             ],
             [
              0.8784313725490196,
              "rgb(246,188,153)"
             ],
             [
              0.9411764705882353,
              "rgb(247,212,187)"
             ],
             [
              1,
              "rgb(250,234,220)"
             ]
            ],
            "type": "contour"
           }
          ],
          "contourcarpet": [
           {
            "colorbar": {
             "outlinewidth": 0,
             "tickcolor": "rgb(36,36,36)",
             "ticklen": 8,
             "ticks": "outside",
             "tickwidth": 2
            },
            "type": "contourcarpet"
           }
          ],
          "heatmap": [
           {
            "colorbar": {
             "outlinewidth": 0,
             "tickcolor": "rgb(36,36,36)",
             "ticklen": 8,
             "ticks": "outside",
             "tickwidth": 2
            },
            "colorscale": [
             [
              0,
              "rgb(2,4,25)"
             ],
             [
              0.06274509803921569,
              "rgb(24,15,41)"
             ],
             [
              0.12549019607843137,
              "rgb(47,23,57)"
             ],
             [
              0.18823529411764706,
              "rgb(71,28,72)"
             ],
             [
              0.25098039215686274,
              "rgb(97,30,82)"
             ],
             [
              0.3137254901960784,
              "rgb(123,30,89)"
             ],
             [
              0.3764705882352941,
              "rgb(150,27,91)"
             ],
             [
              0.4392156862745098,
              "rgb(177,22,88)"
             ],
             [
              0.5019607843137255,
              "rgb(203,26,79)"
             ],
             [
              0.5647058823529412,
              "rgb(223,47,67)"
             ],
             [
              0.6274509803921569,
              "rgb(236,76,61)"
             ],
             [
              0.6901960784313725,
              "rgb(242,107,73)"
             ],
             [
              0.7529411764705882,
              "rgb(244,135,95)"
             ],
             [
              0.8156862745098039,
              "rgb(245,162,122)"
             ],
             [
              0.8784313725490196,
              "rgb(246,188,153)"
             ],
             [
              0.9411764705882353,
              "rgb(247,212,187)"
             ],
             [
              1,
              "rgb(250,234,220)"
             ]
            ],
            "type": "heatmap"
           }
          ],
          "heatmapgl": [
           {
            "colorbar": {
             "outlinewidth": 0,
             "tickcolor": "rgb(36,36,36)",
             "ticklen": 8,
             "ticks": "outside",
             "tickwidth": 2
            },
            "colorscale": [
             [
              0,
              "rgb(2,4,25)"
             ],
             [
              0.06274509803921569,
              "rgb(24,15,41)"
             ],
             [
              0.12549019607843137,
              "rgb(47,23,57)"
             ],
             [
              0.18823529411764706,
              "rgb(71,28,72)"
             ],
             [
              0.25098039215686274,
              "rgb(97,30,82)"
             ],
             [
              0.3137254901960784,
              "rgb(123,30,89)"
             ],
             [
              0.3764705882352941,
              "rgb(150,27,91)"
             ],
             [
              0.4392156862745098,
              "rgb(177,22,88)"
             ],
             [
              0.5019607843137255,
              "rgb(203,26,79)"
             ],
             [
              0.5647058823529412,
              "rgb(223,47,67)"
             ],
             [
              0.6274509803921569,
              "rgb(236,76,61)"
             ],
             [
              0.6901960784313725,
              "rgb(242,107,73)"
             ],
             [
              0.7529411764705882,
              "rgb(244,135,95)"
             ],
             [
              0.8156862745098039,
              "rgb(245,162,122)"
             ],
             [
              0.8784313725490196,
              "rgb(246,188,153)"
             ],
             [
              0.9411764705882353,
              "rgb(247,212,187)"
             ],
             [
              1,
              "rgb(250,234,220)"
             ]
            ],
            "type": "heatmapgl"
           }
          ],
          "histogram": [
           {
            "marker": {
             "pattern": {
              "fillmode": "overlay",
              "size": 10,
              "solidity": 0.2
             }
            },
            "type": "histogram"
           }
          ],
          "histogram2d": [
           {
            "colorbar": {
             "outlinewidth": 0,
             "tickcolor": "rgb(36,36,36)",
             "ticklen": 8,
             "ticks": "outside",
             "tickwidth": 2
            },
            "colorscale": [
             [
              0,
              "rgb(2,4,25)"
             ],
             [
              0.06274509803921569,
              "rgb(24,15,41)"
             ],
             [
              0.12549019607843137,
              "rgb(47,23,57)"
             ],
             [
              0.18823529411764706,
              "rgb(71,28,72)"
             ],
             [
              0.25098039215686274,
              "rgb(97,30,82)"
             ],
             [
              0.3137254901960784,
              "rgb(123,30,89)"
             ],
             [
              0.3764705882352941,
              "rgb(150,27,91)"
             ],
             [
              0.4392156862745098,
              "rgb(177,22,88)"
             ],
             [
              0.5019607843137255,
              "rgb(203,26,79)"
             ],
             [
              0.5647058823529412,
              "rgb(223,47,67)"
             ],
             [
              0.6274509803921569,
              "rgb(236,76,61)"
             ],
             [
              0.6901960784313725,
              "rgb(242,107,73)"
             ],
             [
              0.7529411764705882,
              "rgb(244,135,95)"
             ],
             [
              0.8156862745098039,
              "rgb(245,162,122)"
             ],
             [
              0.8784313725490196,
              "rgb(246,188,153)"
             ],
             [
              0.9411764705882353,
              "rgb(247,212,187)"
             ],
             [
              1,
              "rgb(250,234,220)"
             ]
            ],
            "type": "histogram2d"
           }
          ],
          "histogram2dcontour": [
           {
            "colorbar": {
             "outlinewidth": 0,
             "tickcolor": "rgb(36,36,36)",
             "ticklen": 8,
             "ticks": "outside",
             "tickwidth": 2
            },
            "colorscale": [
             [
              0,
              "rgb(2,4,25)"
             ],
             [
              0.06274509803921569,
              "rgb(24,15,41)"
             ],
             [
              0.12549019607843137,
              "rgb(47,23,57)"
             ],
             [
              0.18823529411764706,
              "rgb(71,28,72)"
             ],
             [
              0.25098039215686274,
              "rgb(97,30,82)"
             ],
             [
              0.3137254901960784,
              "rgb(123,30,89)"
             ],
             [
              0.3764705882352941,
              "rgb(150,27,91)"
             ],
             [
              0.4392156862745098,
              "rgb(177,22,88)"
             ],
             [
              0.5019607843137255,
              "rgb(203,26,79)"
             ],
             [
              0.5647058823529412,
              "rgb(223,47,67)"
             ],
             [
              0.6274509803921569,
              "rgb(236,76,61)"
             ],
             [
              0.6901960784313725,
              "rgb(242,107,73)"
             ],
             [
              0.7529411764705882,
              "rgb(244,135,95)"
             ],
             [
              0.8156862745098039,
              "rgb(245,162,122)"
             ],
             [
              0.8784313725490196,
              "rgb(246,188,153)"
             ],
             [
              0.9411764705882353,
              "rgb(247,212,187)"
             ],
             [
              1,
              "rgb(250,234,220)"
             ]
            ],
            "type": "histogram2dcontour"
           }
          ],
          "mesh3d": [
           {
            "colorbar": {
             "outlinewidth": 0,
             "tickcolor": "rgb(36,36,36)",
             "ticklen": 8,
             "ticks": "outside",
             "tickwidth": 2
            },
            "type": "mesh3d"
           }
          ],
          "parcoords": [
           {
            "line": {
             "colorbar": {
              "outlinewidth": 0,
              "tickcolor": "rgb(36,36,36)",
              "ticklen": 8,
              "ticks": "outside",
              "tickwidth": 2
             }
            },
            "type": "parcoords"
           }
          ],
          "pie": [
           {
            "automargin": true,
            "type": "pie"
           }
          ],
          "scatter": [
           {
            "fillpattern": {
             "fillmode": "overlay",
             "size": 10,
             "solidity": 0.2
            },
            "type": "scatter"
           }
          ],
          "scatter3d": [
           {
            "line": {
             "colorbar": {
              "outlinewidth": 0,
              "tickcolor": "rgb(36,36,36)",
              "ticklen": 8,
              "ticks": "outside",
              "tickwidth": 2
             }
            },
            "marker": {
             "colorbar": {
              "outlinewidth": 0,
              "tickcolor": "rgb(36,36,36)",
              "ticklen": 8,
              "ticks": "outside",
              "tickwidth": 2
             }
            },
            "type": "scatter3d"
           }
          ],
          "scattercarpet": [
           {
            "marker": {
             "colorbar": {
              "outlinewidth": 0,
              "tickcolor": "rgb(36,36,36)",
              "ticklen": 8,
              "ticks": "outside",
              "tickwidth": 2
             }
            },
            "type": "scattercarpet"
           }
          ],
          "scattergeo": [
           {
            "marker": {
             "colorbar": {
              "outlinewidth": 0,
              "tickcolor": "rgb(36,36,36)",
              "ticklen": 8,
              "ticks": "outside",
              "tickwidth": 2
             }
            },
            "type": "scattergeo"
           }
          ],
          "scattergl": [
           {
            "marker": {
             "colorbar": {
              "outlinewidth": 0,
              "tickcolor": "rgb(36,36,36)",
              "ticklen": 8,
              "ticks": "outside",
              "tickwidth": 2
             }
            },
            "type": "scattergl"
           }
          ],
          "scattermapbox": [
           {
            "marker": {
             "colorbar": {
              "outlinewidth": 0,
              "tickcolor": "rgb(36,36,36)",
              "ticklen": 8,
              "ticks": "outside",
              "tickwidth": 2
             }
            },
            "type": "scattermapbox"
           }
          ],
          "scatterpolar": [
           {
            "marker": {
             "colorbar": {
              "outlinewidth": 0,
              "tickcolor": "rgb(36,36,36)",
              "ticklen": 8,
              "ticks": "outside",
              "tickwidth": 2
             }
            },
            "type": "scatterpolar"
           }
          ],
          "scatterpolargl": [
           {
            "marker": {
             "colorbar": {
              "outlinewidth": 0,
              "tickcolor": "rgb(36,36,36)",
              "ticklen": 8,
              "ticks": "outside",
              "tickwidth": 2
             }
            },
            "type": "scatterpolargl"
           }
          ],
          "scatterternary": [
           {
            "marker": {
             "colorbar": {
              "outlinewidth": 0,
              "tickcolor": "rgb(36,36,36)",
              "ticklen": 8,
              "ticks": "outside",
              "tickwidth": 2
             }
            },
            "type": "scatterternary"
           }
          ],
          "surface": [
           {
            "colorbar": {
             "outlinewidth": 0,
             "tickcolor": "rgb(36,36,36)",
             "ticklen": 8,
             "ticks": "outside",
             "tickwidth": 2
            },
            "colorscale": [
             [
              0,
              "rgb(2,4,25)"
             ],
             [
              0.06274509803921569,
              "rgb(24,15,41)"
             ],
             [
              0.12549019607843137,
              "rgb(47,23,57)"
             ],
             [
              0.18823529411764706,
              "rgb(71,28,72)"
             ],
             [
              0.25098039215686274,
              "rgb(97,30,82)"
             ],
             [
              0.3137254901960784,
              "rgb(123,30,89)"
             ],
             [
              0.3764705882352941,
              "rgb(150,27,91)"
             ],
             [
              0.4392156862745098,
              "rgb(177,22,88)"
             ],
             [
              0.5019607843137255,
              "rgb(203,26,79)"
             ],
             [
              0.5647058823529412,
              "rgb(223,47,67)"
             ],
             [
              0.6274509803921569,
              "rgb(236,76,61)"
             ],
             [
              0.6901960784313725,
              "rgb(242,107,73)"
             ],
             [
              0.7529411764705882,
              "rgb(244,135,95)"
             ],
             [
              0.8156862745098039,
              "rgb(245,162,122)"
             ],
             [
              0.8784313725490196,
              "rgb(246,188,153)"
             ],
             [
              0.9411764705882353,
              "rgb(247,212,187)"
             ],
             [
              1,
              "rgb(250,234,220)"
             ]
            ],
            "type": "surface"
           }
          ],
          "table": [
           {
            "cells": {
             "fill": {
              "color": "rgb(231,231,240)"
             },
             "line": {
              "color": "white"
             }
            },
            "header": {
             "fill": {
              "color": "rgb(183,183,191)"
             },
             "line": {
              "color": "white"
             }
            },
            "type": "table"
           }
          ]
         },
         "layout": {
          "annotationdefaults": {
           "arrowcolor": "rgb(67,103,167)"
          },
          "autotypenumbers": "strict",
          "coloraxis": {
           "colorbar": {
            "outlinewidth": 0,
            "tickcolor": "rgb(36,36,36)",
            "ticklen": 8,
            "ticks": "outside",
            "tickwidth": 2
           }
          },
          "colorscale": {
           "sequential": [
            [
             0,
             "rgb(2,4,25)"
            ],
            [
             0.06274509803921569,
             "rgb(24,15,41)"
            ],
            [
             0.12549019607843137,
             "rgb(47,23,57)"
            ],
            [
             0.18823529411764706,
             "rgb(71,28,72)"
            ],
            [
             0.25098039215686274,
             "rgb(97,30,82)"
            ],
            [
             0.3137254901960784,
             "rgb(123,30,89)"
            ],
            [
             0.3764705882352941,
             "rgb(150,27,91)"
            ],
            [
             0.4392156862745098,
             "rgb(177,22,88)"
            ],
            [
             0.5019607843137255,
             "rgb(203,26,79)"
            ],
            [
             0.5647058823529412,
             "rgb(223,47,67)"
            ],
            [
             0.6274509803921569,
             "rgb(236,76,61)"
            ],
            [
             0.6901960784313725,
             "rgb(242,107,73)"
            ],
            [
             0.7529411764705882,
             "rgb(244,135,95)"
            ],
            [
             0.8156862745098039,
             "rgb(245,162,122)"
            ],
            [
             0.8784313725490196,
             "rgb(246,188,153)"
            ],
            [
             0.9411764705882353,
             "rgb(247,212,187)"
            ],
            [
             1,
             "rgb(250,234,220)"
            ]
           ],
           "sequentialminus": [
            [
             0,
             "rgb(2,4,25)"
            ],
            [
             0.06274509803921569,
             "rgb(24,15,41)"
            ],
            [
             0.12549019607843137,
             "rgb(47,23,57)"
            ],
            [
             0.18823529411764706,
             "rgb(71,28,72)"
            ],
            [
             0.25098039215686274,
             "rgb(97,30,82)"
            ],
            [
             0.3137254901960784,
             "rgb(123,30,89)"
            ],
            [
             0.3764705882352941,
             "rgb(150,27,91)"
            ],
            [
             0.4392156862745098,
             "rgb(177,22,88)"
            ],
            [
             0.5019607843137255,
             "rgb(203,26,79)"
            ],
            [
             0.5647058823529412,
             "rgb(223,47,67)"
            ],
            [
             0.6274509803921569,
             "rgb(236,76,61)"
            ],
            [
             0.6901960784313725,
             "rgb(242,107,73)"
            ],
            [
             0.7529411764705882,
             "rgb(244,135,95)"
            ],
            [
             0.8156862745098039,
             "rgb(245,162,122)"
            ],
            [
             0.8784313725490196,
             "rgb(246,188,153)"
            ],
            [
             0.9411764705882353,
             "rgb(247,212,187)"
            ],
            [
             1,
             "rgb(250,234,220)"
            ]
           ]
          },
          "colorway": [
           "rgb(76,114,176)",
           "rgb(221,132,82)",
           "rgb(85,168,104)",
           "rgb(196,78,82)",
           "rgb(129,114,179)",
           "rgb(147,120,96)",
           "rgb(218,139,195)",
           "rgb(140,140,140)",
           "rgb(204,185,116)",
           "rgb(100,181,205)"
          ],
          "font": {
           "color": "rgb(36,36,36)"
          },
          "geo": {
           "bgcolor": "white",
           "lakecolor": "white",
           "landcolor": "rgb(234,234,242)",
           "showlakes": true,
           "showland": true,
           "subunitcolor": "white"
          },
          "hoverlabel": {
           "align": "left"
          },
          "hovermode": "closest",
          "paper_bgcolor": "white",
          "plot_bgcolor": "rgb(234,234,242)",
          "polar": {
           "angularaxis": {
            "gridcolor": "white",
            "linecolor": "white",
            "showgrid": true,
            "ticks": ""
           },
           "bgcolor": "rgb(234,234,242)",
           "radialaxis": {
            "gridcolor": "white",
            "linecolor": "white",
            "showgrid": true,
            "ticks": ""
           }
          },
          "scene": {
           "xaxis": {
            "backgroundcolor": "rgb(234,234,242)",
            "gridcolor": "white",
            "gridwidth": 2,
            "linecolor": "white",
            "showbackground": true,
            "showgrid": true,
            "ticks": "",
            "zerolinecolor": "white"
           },
           "yaxis": {
            "backgroundcolor": "rgb(234,234,242)",
            "gridcolor": "white",
            "gridwidth": 2,
            "linecolor": "white",
            "showbackground": true,
            "showgrid": true,
            "ticks": "",
            "zerolinecolor": "white"
           },
           "zaxis": {
            "backgroundcolor": "rgb(234,234,242)",
            "gridcolor": "white",
            "gridwidth": 2,
            "linecolor": "white",
            "showbackground": true,
            "showgrid": true,
            "ticks": "",
            "zerolinecolor": "white"
           }
          },
          "shapedefaults": {
           "fillcolor": "rgb(67,103,167)",
           "line": {
            "width": 0
           },
           "opacity": 0.5
          },
          "ternary": {
           "aaxis": {
            "gridcolor": "white",
            "linecolor": "white",
            "showgrid": true,
            "ticks": ""
           },
           "baxis": {
            "gridcolor": "white",
            "linecolor": "white",
            "showgrid": true,
            "ticks": ""
           },
           "bgcolor": "rgb(234,234,242)",
           "caxis": {
            "gridcolor": "white",
            "linecolor": "white",
            "showgrid": true,
            "ticks": ""
           }
          },
          "xaxis": {
           "automargin": true,
           "gridcolor": "white",
           "linecolor": "white",
           "showgrid": true,
           "ticks": "",
           "title": {
            "standoff": 15
           },
           "zerolinecolor": "white"
          },
          "yaxis": {
           "automargin": true,
           "gridcolor": "white",
           "linecolor": "white",
           "showgrid": true,
           "ticks": "",
           "title": {
            "standoff": 15
           },
           "zerolinecolor": "white"
          }
         }
        },
        "xaxis": {
         "anchor": "y",
         "domain": [
          0,
          1
         ],
         "title": {
          "text": "Age"
         }
        },
        "yaxis": {
         "anchor": "x",
         "domain": [
          0,
          1
         ],
         "title": {
          "text": "count"
         }
        }
       }
      }
     },
     "metadata": {},
     "output_type": "display_data"
    }
   ],
   "source": [
    "px.histogram(df, x=\"Age\")"
   ]
  },
  {
   "cell_type": "code",
   "execution_count": 1,
   "id": "a7d9fbb2",
   "metadata": {},
   "outputs": [],
   "source": [
    "import json\n",
    "\n",
    "def reason_mapping(query:int) -> str:\n",
    "    \"\"\"\n",
    "    Loads in the reason_mapping json as a dict, converting the keys to integers\n",
    "    Returns the ICD text entry for given IDC integer entry\n",
    "    See README for details about the 'Absence reason` column\n",
    "    \"\"\"\n",
    "    path=\"assets/reason_mapping.json\"\n",
    "    with open(path, \"r\") as fin:\n",
    "        data = {int(num):reason for num, reason in json.load(fin).items()}\n",
    "    return data[query]"
   ]
  },
  {
   "cell_type": "code",
   "execution_count": null,
   "id": "aea5c892",
   "metadata": {},
   "outputs": [],
   "source": []
  }
 ],
 "metadata": {
  "kernelspec": {
   "display_name": ".venv",
   "language": "python",
   "name": "python3"
  },
  "language_info": {
   "codemirror_mode": {
    "name": "ipython",
    "version": 3
   },
   "file_extension": ".py",
   "mimetype": "text/x-python",
   "name": "python",
   "nbconvert_exporter": "python",
   "pygments_lexer": "ipython3",
   "version": "3.9.12"
  },
  "vscode": {
   "interpreter": {
    "hash": "5f794bdd9ae3ffb1bdf9fdde55f6fe035b32b54e54861b9d1527d89ae86036ab"
   }
  }
 },
 "nbformat": 4,
 "nbformat_minor": 5
}
