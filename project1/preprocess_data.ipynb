{
 "cells": [
  {
   "attachments": {},
   "cell_type": "markdown",
   "id": "f103516a",
   "metadata": {},
   "source": [
    "# Imports"
   ]
  },
  {
   "cell_type": "code",
   "execution_count": 88,
   "id": "8ae86b30",
   "metadata": {},
   "outputs": [],
   "source": [
    "# DATASET: https://archive.ics.uci.edu/ml/datasets/Absenteeism+at+work\n",
    "\n",
    "import plotly.express as px\n",
    "import plotly.io as pio\n",
    "import pandas as pd\n",
    "\n",
    "pio.templates.default = \"seaborn\"\n"
   ]
  },
  {
   "attachments": {},
   "cell_type": "markdown",
   "id": "9e3fdc4f",
   "metadata": {},
   "source": [
    "# Loading and preprocessing"
   ]
  },
  {
   "cell_type": "code",
   "execution_count": 89,
   "id": "968fc73c",
   "metadata": {},
   "outputs": [],
   "source": [
    "\n",
    "df = pd.read_csv(\"data/raw/absenteeism_at_work_raw.csv\")\n",
    "\n",
    "def rename_num_column(num_list, str_list):\n",
    "    return {num:string for num, string in zip(num_list, str_list)}\n",
    "\n",
    "new_months = rename_num_column([1,2,3,4,5,6,7,8,9,10,11,12, 0],[\"Jan\", \"Feb\", \"Mar\", \"Apr\", \"May\", \"Jun\", \"Jul\", \"Aug\", \"Sep\", \"Oct\", \"Nov\", \"Dec\", \"Unkown\"])\n",
    "new_days = rename_num_column([2,3,4,5,6], [\"Mon\", \"Tue\", \"Wed\", \"Thr\", \"Fri\"])\n",
    "new_seasons = rename_num_column([1,2,3,4], [\"Spring\", \"Summer\", \"Fall\", \"Winter\"])\n",
    "new_education = rename_num_column([1,2,3,4], [\"h_school\", \"graduate\", \"postgrad\", \"master_phd\"])\n",
    "new_binary_yes_no = rename_num_column([0,1], [\"no\", \"yes\"])\n",
    "\n",
    "df[\"Month of absence\"] = df[\"Month of absence\"] .apply(lambda x: new_months[x])\n",
    "df[\"Day of the week\"] = df[\"Day of the week\"].apply(lambda x: new_days[x])\n",
    "df[\"Seasons\"] = df[\"Seasons\"].apply(lambda x: new_seasons[x])\n",
    "df[\"Education\"] = df[\"Education\"].apply(lambda x: new_education[x])\n",
    "df[\"Disciplinary failure\"] = df[\"Disciplinary failure\"].apply(lambda x: new_binary_yes_no[x])\n",
    "df[\"Social drinker\"] = df[\"Social drinker\"].apply(lambda x: new_binary_yes_no[x])\n",
    "df[\"Social smoker\"] = df[\"Social smoker\"].apply(lambda x: new_binary_yes_no[x])\n",
    "\n",
    "df.columns = df.columns.str.lower().str.replace(\" \", \"_\")"
   ]
  },
  {
   "attachments": {},
   "cell_type": "markdown",
   "id": "cf6953c0",
   "metadata": {},
   "source": [
    "The `reason_for_absence` column is interesting because it includes 21 categories. It is an encoding for the reason for absence as encoded by the International Code of Diseases (ICD). Details on the encodings can be found on the dataset link [here](https://archive.ics.uci.edu/ml/datasets/Absenteeism+at+work)\n",
    "\n",
    "Since the column **also** contains numerical reasons outside of the ICD range, I will add a new column to the dataset called `disease` which will contain binary values (1 = yes, 0 = no) indicating whether the reason is a diease or not, respectively"
   ]
  },
  {
   "cell_type": "code",
   "execution_count": 90,
   "id": "95868d60",
   "metadata": {},
   "outputs": [],
   "source": [
    "def is_disease(num:int) -> str:\n",
    "    return \"yes\" if num in range(1, 22) else \"no\"\n",
    "\n",
    "df[\"disease\"] = df[\"reason_for_absence\"].apply(is_disease)"
   ]
  },
  {
   "cell_type": "code",
   "execution_count": 91,
   "id": "892e7adb",
   "metadata": {},
   "outputs": [],
   "source": [
    "df.to_csv(\"data/preprocessed/absenteeism_at_work_preprocessed.csv\")"
   ]
  },
  {
   "cell_type": "code",
   "execution_count": null,
   "id": "73919bc1",
   "metadata": {},
   "outputs": [],
   "source": []
  },
  {
   "cell_type": "code",
   "execution_count": null,
   "id": "5b60cf03",
   "metadata": {},
   "outputs": [],
   "source": []
  }
 ],
 "metadata": {
  "kernelspec": {
   "display_name": ".venv",
   "language": "python",
   "name": "python3"
  },
  "language_info": {
   "codemirror_mode": {
    "name": "ipython",
    "version": 3
   },
   "file_extension": ".py",
   "mimetype": "text/x-python",
   "name": "python",
   "nbconvert_exporter": "python",
   "pygments_lexer": "ipython3",
   "version": "3.9.12"
  },
  "vscode": {
   "interpreter": {
    "hash": "5f794bdd9ae3ffb1bdf9fdde55f6fe035b32b54e54861b9d1527d89ae86036ab"
   }
  }
 },
 "nbformat": 4,
 "nbformat_minor": 5
}
