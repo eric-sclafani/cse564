{
 "cells": [
  {
   "attachments": {},
   "cell_type": "markdown",
   "id": "f103516a",
   "metadata": {},
   "source": [
    "# Imports"
   ]
  },
  {
   "cell_type": "code",
   "execution_count": 104,
   "id": "8ae86b30",
   "metadata": {},
   "outputs": [],
   "source": [
    "# DATASET: https://archive.ics.uci.edu/ml/datasets/Absenteeism+at+work\n",
    "\n",
    "import plotly.express as px\n",
    "import plotly.io as pio\n",
    "import pandas as pd\n",
    "\n",
    "pio.templates.default = \"seaborn\"\n"
   ]
  },
  {
   "attachments": {},
   "cell_type": "markdown",
   "id": "9e3fdc4f",
   "metadata": {},
   "source": [
    "# Loading and preprocessing\n",
    "\n",
    "Load raw data from csv\n",
    "\n",
    "Since the categorical variables are encoded at integers, revert them back to strings according to [the dataset](https://archive.ics.uci.edu/ml/datasets/Absenteeism+at+work)"
   ]
  },
  {
   "cell_type": "code",
   "execution_count": 128,
   "id": "968fc73c",
   "metadata": {},
   "outputs": [],
   "source": [
    "\n",
    "\n",
    "\n",
    "df = pd.read_csv(\"data/raw/absenteeism_at_work_raw.csv\", index_col=False)\n",
    "\n",
    "def rename_num_column(num_list, str_list) -> dict[int, str]:\n",
    "    return {num:string for num, string in zip(num_list, str_list)}\n",
    "\n",
    "new_months = rename_num_column([1,2,3,4,5,6,7,8,9,10,11,12, 0],[\"Jan\", \"Feb\", \"Mar\", \"Apr\", \"May\", \"Jun\", \"Jul\", \"Aug\", \"Sep\", \"Oct\", \"Nov\", \"Dec\", \"Unkown\"])\n",
    "new_days = rename_num_column([2,3,4,5,6], [\"Mon\", \"Tue\", \"Wed\", \"Thr\", \"Fri\"])\n",
    "new_seasons = rename_num_column([1,2,3,4], [\"Spring\", \"Summer\", \"Fall\", \"Winter\"])\n",
    "new_education = rename_num_column([1,2,3,4], [\"h_school\", \"graduate\", \"postgrad\", \"master_phd\"])\n",
    "new_binary_yes_no = rename_num_column([0,1], [\"no\", \"yes\"])\n",
    "\n",
    "df[\"Month of absence\"] = df[\"Month of absence\"] .apply(lambda x: new_months[x])\n",
    "df[\"Day of the week\"] = df[\"Day of the week\"].apply(lambda x: new_days[x])\n",
    "df[\"Seasons\"] = df[\"Seasons\"].apply(lambda x: new_seasons[x])\n",
    "df[\"Education\"] = df[\"Education\"].apply(lambda x: new_education[x])\n",
    "df[\"Disciplinary failure\"] = df[\"Disciplinary failure\"].apply(lambda x: new_binary_yes_no[x])\n",
    "df[\"Social drinker\"] = df[\"Social drinker\"].apply(lambda x: new_binary_yes_no[x])\n",
    "df[\"Social smoker\"] = df[\"Social smoker\"].apply(lambda x: new_binary_yes_no[x])\n",
    "\n",
    "df.columns = df.columns.str.lower().str.replace(\" \", \"_\")\n",
    "del df[\"id\"]\n",
    "del df[\"hit_target\"]\n",
    "df.rename(columns={\"reason_for_absence\":\"absence_reason\",\n",
    "                   \"month_of_absence\": \"month\", \n",
    "                   \"day_of_absence\":\"day\",\n",
    "                   \"day_of_the_week\":\"day_of_week\",\n",
    "                   \"distance_from_residence_to_work\": \"dist_to_work\",\n",
    "                   \"work_load_average/day_\":\"avg_work_load_per_day\",\n",
    "                   \"disciplinary_failure\": \"disc_failure\",\n",
    "                   \"son\":\"num_children\",\n",
    "                   \"absenteeism_time_in_hours\":\"hours_absent\"},\n",
    "          inplace=True)\n",
    "\n"
   ]
  },
  {
   "attachments": {},
   "cell_type": "markdown",
   "id": "cf6953c0",
   "metadata": {},
   "source": [
    "The `reason_for_absence` column is interesting because it includes 21 categories. It is an encoding for the reason for absence as encoded by the International Code of Diseases (ICD). Details on the encodings can be found on the dataset link [here](https://archive.ics.uci.edu/ml/datasets/Absenteeism+at+work)\n",
    "\n",
    "Since the column **also** contains numerical reasons outside of the ICD range, I will add a new column to the dataset called `disease` which will contain binary values (1 = yes, 0 = no) indicating whether the reason is a diease or not, respectively"
   ]
  },
  {
   "cell_type": "code",
   "execution_count": 129,
   "id": "95868d60",
   "metadata": {},
   "outputs": [],
   "source": [
    "def is_disease(num:int) -> str:\n",
    "    return \"yes\" if num in range(1, 22) else \"no\"\n",
    "\n",
    "df[\"disease\"] = df[\"absence_reason\"].apply(is_disease)\n"
   ]
  },
  {
   "cell_type": "code",
   "execution_count": 127,
   "id": "892e7adb",
   "metadata": {},
   "outputs": [
    {
     "data": {
      "application/vnd.plotly.v1+json": {
       "config": {
        "plotlyServerURL": "https://plot.ly"
       },
       "data": [
        {
         "alignmentgroup": "True",
         "hovertemplate": "month=%{x}<br>count=%{y}<extra></extra>",
         "legendgroup": "Jul",
         "marker": {
          "color": "rgb(76,114,176)",
          "line": {
           "width": 0
          },
          "pattern": {
           "shape": ""
          }
         },
         "name": "Jul",
         "offsetgroup": "Jul",
         "orientation": "v",
         "showlegend": true,
         "textposition": "auto",
         "type": "bar",
         "x": [
          "Jul",
          "Jul",
          "Jul",
          "Jul",
          "Jul",
          "Jul",
          "Jul",
          "Jul",
          "Jul",
          "Jul",
          "Jul",
          "Jul",
          "Jul",
          "Jul",
          "Jul",
          "Jul",
          "Jul",
          "Jul",
          "Jul",
          "Jul",
          "Jul",
          "Jul",
          "Jul",
          "Jul",
          "Jul",
          "Jul",
          "Jul",
          "Jul",
          "Jul",
          "Jul",
          "Jul",
          "Jul",
          "Jul",
          "Jul",
          "Jul",
          "Jul",
          "Jul",
          "Jul",
          "Jul",
          "Jul",
          "Jul",
          "Jul",
          "Jul",
          "Jul",
          "Jul",
          "Jul",
          "Jul",
          "Jul",
          "Jul",
          "Jul",
          "Jul",
          "Jul",
          "Jul",
          "Jul",
          "Jul",
          "Jul",
          "Jul",
          "Jul",
          "Jul",
          "Jul",
          "Jul",
          "Jul",
          "Jul",
          "Jul",
          "Jul",
          "Jul",
          "Jul"
         ],
         "xaxis": "x",
         "y": [
          1,
          1,
          1,
          1,
          1,
          1,
          1,
          1,
          1,
          1,
          1,
          1,
          1,
          1,
          1,
          1,
          1,
          1,
          1,
          1,
          1,
          1,
          1,
          1,
          1,
          1,
          1,
          1,
          1,
          1,
          1,
          1,
          1,
          1,
          1,
          1,
          1,
          1,
          1,
          1,
          1,
          1,
          1,
          1,
          1,
          1,
          1,
          1,
          1,
          1,
          1,
          1,
          1,
          1,
          1,
          1,
          1,
          1,
          1,
          1,
          1,
          1,
          1,
          1,
          1,
          1,
          1
         ],
         "yaxis": "y"
        },
        {
         "alignmentgroup": "True",
         "hovertemplate": "month=%{x}<br>count=%{y}<extra></extra>",
         "legendgroup": "Aug",
         "marker": {
          "color": "rgb(221,132,82)",
          "line": {
           "width": 0
          },
          "pattern": {
           "shape": ""
          }
         },
         "name": "Aug",
         "offsetgroup": "Aug",
         "orientation": "v",
         "showlegend": true,
         "textposition": "auto",
         "type": "bar",
         "x": [
          "Aug",
          "Aug",
          "Aug",
          "Aug",
          "Aug",
          "Aug",
          "Aug",
          "Aug",
          "Aug",
          "Aug",
          "Aug",
          "Aug",
          "Aug",
          "Aug",
          "Aug",
          "Aug",
          "Aug",
          "Aug",
          "Aug",
          "Aug",
          "Aug",
          "Aug",
          "Aug",
          "Aug",
          "Aug",
          "Aug",
          "Aug",
          "Aug",
          "Aug",
          "Aug",
          "Aug",
          "Aug",
          "Aug",
          "Aug",
          "Aug",
          "Aug",
          "Aug",
          "Aug",
          "Aug",
          "Aug",
          "Aug",
          "Aug",
          "Aug",
          "Aug",
          "Aug",
          "Aug",
          "Aug",
          "Aug",
          "Aug",
          "Aug",
          "Aug",
          "Aug",
          "Aug",
          "Aug"
         ],
         "xaxis": "x",
         "y": [
          1,
          1,
          1,
          1,
          1,
          1,
          1,
          1,
          1,
          1,
          1,
          1,
          1,
          1,
          1,
          1,
          1,
          1,
          1,
          1,
          1,
          1,
          1,
          1,
          1,
          1,
          1,
          1,
          1,
          1,
          1,
          1,
          1,
          1,
          1,
          1,
          1,
          1,
          1,
          1,
          1,
          1,
          1,
          1,
          1,
          1,
          1,
          1,
          1,
          1,
          1,
          1,
          1,
          1
         ],
         "yaxis": "y"
        },
        {
         "alignmentgroup": "True",
         "hovertemplate": "month=%{x}<br>count=%{y}<extra></extra>",
         "legendgroup": "Sep",
         "marker": {
          "color": "rgb(85,168,104)",
          "line": {
           "width": 0
          },
          "pattern": {
           "shape": ""
          }
         },
         "name": "Sep",
         "offsetgroup": "Sep",
         "orientation": "v",
         "showlegend": true,
         "textposition": "auto",
         "type": "bar",
         "x": [
          "Sep",
          "Sep",
          "Sep",
          "Sep",
          "Sep",
          "Sep",
          "Sep",
          "Sep",
          "Sep",
          "Sep",
          "Sep",
          "Sep",
          "Sep",
          "Sep",
          "Sep",
          "Sep",
          "Sep",
          "Sep",
          "Sep",
          "Sep",
          "Sep",
          "Sep",
          "Sep",
          "Sep",
          "Sep",
          "Sep",
          "Sep",
          "Sep",
          "Sep",
          "Sep",
          "Sep",
          "Sep",
          "Sep",
          "Sep",
          "Sep",
          "Sep",
          "Sep",
          "Sep",
          "Sep",
          "Sep",
          "Sep",
          "Sep",
          "Sep",
          "Sep",
          "Sep",
          "Sep",
          "Sep",
          "Sep",
          "Sep",
          "Sep",
          "Sep",
          "Sep",
          "Sep"
         ],
         "xaxis": "x",
         "y": [
          1,
          1,
          1,
          1,
          1,
          1,
          1,
          1,
          1,
          1,
          1,
          1,
          1,
          1,
          1,
          1,
          1,
          1,
          1,
          1,
          1,
          1,
          1,
          1,
          1,
          1,
          1,
          1,
          1,
          1,
          1,
          1,
          1,
          1,
          1,
          1,
          1,
          1,
          1,
          1,
          1,
          1,
          1,
          1,
          1,
          1,
          1,
          1,
          1,
          1,
          1,
          1,
          1
         ],
         "yaxis": "y"
        },
        {
         "alignmentgroup": "True",
         "hovertemplate": "month=%{x}<br>count=%{y}<extra></extra>",
         "legendgroup": "Oct",
         "marker": {
          "color": "rgb(196,78,82)",
          "line": {
           "width": 0
          },
          "pattern": {
           "shape": ""
          }
         },
         "name": "Oct",
         "offsetgroup": "Oct",
         "orientation": "v",
         "showlegend": true,
         "textposition": "auto",
         "type": "bar",
         "x": [
          "Oct",
          "Oct",
          "Oct",
          "Oct",
          "Oct",
          "Oct",
          "Oct",
          "Oct",
          "Oct",
          "Oct",
          "Oct",
          "Oct",
          "Oct",
          "Oct",
          "Oct",
          "Oct",
          "Oct",
          "Oct",
          "Oct",
          "Oct",
          "Oct",
          "Oct",
          "Oct",
          "Oct",
          "Oct",
          "Oct",
          "Oct",
          "Oct",
          "Oct",
          "Oct",
          "Oct",
          "Oct",
          "Oct",
          "Oct",
          "Oct",
          "Oct",
          "Oct",
          "Oct",
          "Oct",
          "Oct",
          "Oct",
          "Oct",
          "Oct",
          "Oct",
          "Oct",
          "Oct",
          "Oct",
          "Oct",
          "Oct",
          "Oct",
          "Oct",
          "Oct",
          "Oct",
          "Oct",
          "Oct",
          "Oct",
          "Oct",
          "Oct",
          "Oct",
          "Oct",
          "Oct",
          "Oct",
          "Oct",
          "Oct",
          "Oct",
          "Oct",
          "Oct",
          "Oct",
          "Oct",
          "Oct",
          "Oct"
         ],
         "xaxis": "x",
         "y": [
          1,
          1,
          1,
          1,
          1,
          1,
          1,
          1,
          1,
          1,
          1,
          1,
          1,
          1,
          1,
          1,
          1,
          1,
          1,
          1,
          1,
          1,
          1,
          1,
          1,
          1,
          1,
          1,
          1,
          1,
          1,
          1,
          1,
          1,
          1,
          1,
          1,
          1,
          1,
          1,
          1,
          1,
          1,
          1,
          1,
          1,
          1,
          1,
          1,
          1,
          1,
          1,
          1,
          1,
          1,
          1,
          1,
          1,
          1,
          1,
          1,
          1,
          1,
          1,
          1,
          1,
          1,
          1,
          1,
          1,
          1
         ],
         "yaxis": "y"
        },
        {
         "alignmentgroup": "True",
         "hovertemplate": "month=%{x}<br>count=%{y}<extra></extra>",
         "legendgroup": "Nov",
         "marker": {
          "color": "rgb(129,114,179)",
          "line": {
           "width": 0
          },
          "pattern": {
           "shape": ""
          }
         },
         "name": "Nov",
         "offsetgroup": "Nov",
         "orientation": "v",
         "showlegend": true,
         "textposition": "auto",
         "type": "bar",
         "x": [
          "Nov",
          "Nov",
          "Nov",
          "Nov",
          "Nov",
          "Nov",
          "Nov",
          "Nov",
          "Nov",
          "Nov",
          "Nov",
          "Nov",
          "Nov",
          "Nov",
          "Nov",
          "Nov",
          "Nov",
          "Nov",
          "Nov",
          "Nov",
          "Nov",
          "Nov",
          "Nov",
          "Nov",
          "Nov",
          "Nov",
          "Nov",
          "Nov",
          "Nov",
          "Nov",
          "Nov",
          "Nov",
          "Nov",
          "Nov",
          "Nov",
          "Nov",
          "Nov",
          "Nov",
          "Nov",
          "Nov",
          "Nov",
          "Nov",
          "Nov",
          "Nov",
          "Nov",
          "Nov",
          "Nov",
          "Nov",
          "Nov",
          "Nov",
          "Nov",
          "Nov",
          "Nov",
          "Nov",
          "Nov",
          "Nov",
          "Nov",
          "Nov",
          "Nov",
          "Nov",
          "Nov",
          "Nov",
          "Nov"
         ],
         "xaxis": "x",
         "y": [
          1,
          1,
          1,
          1,
          1,
          1,
          1,
          1,
          1,
          1,
          1,
          1,
          1,
          1,
          1,
          1,
          1,
          1,
          1,
          1,
          1,
          1,
          1,
          1,
          1,
          1,
          1,
          1,
          1,
          1,
          1,
          1,
          1,
          1,
          1,
          1,
          1,
          1,
          1,
          1,
          1,
          1,
          1,
          1,
          1,
          1,
          1,
          1,
          1,
          1,
          1,
          1,
          1,
          1,
          1,
          1,
          1,
          1,
          1,
          1,
          1,
          1,
          1
         ],
         "yaxis": "y"
        },
        {
         "alignmentgroup": "True",
         "hovertemplate": "month=%{x}<br>count=%{y}<extra></extra>",
         "legendgroup": "Dec",
         "marker": {
          "color": "rgb(147,120,96)",
          "line": {
           "width": 0
          },
          "pattern": {
           "shape": ""
          }
         },
         "name": "Dec",
         "offsetgroup": "Dec",
         "orientation": "v",
         "showlegend": true,
         "textposition": "auto",
         "type": "bar",
         "x": [
          "Dec",
          "Dec",
          "Dec",
          "Dec",
          "Dec",
          "Dec",
          "Dec",
          "Dec",
          "Dec",
          "Dec",
          "Dec",
          "Dec",
          "Dec",
          "Dec",
          "Dec",
          "Dec",
          "Dec",
          "Dec",
          "Dec",
          "Dec",
          "Dec",
          "Dec",
          "Dec",
          "Dec",
          "Dec",
          "Dec",
          "Dec",
          "Dec",
          "Dec",
          "Dec",
          "Dec",
          "Dec",
          "Dec",
          "Dec",
          "Dec",
          "Dec",
          "Dec",
          "Dec",
          "Dec",
          "Dec",
          "Dec",
          "Dec",
          "Dec",
          "Dec",
          "Dec",
          "Dec",
          "Dec",
          "Dec",
          "Dec"
         ],
         "xaxis": "x",
         "y": [
          1,
          1,
          1,
          1,
          1,
          1,
          1,
          1,
          1,
          1,
          1,
          1,
          1,
          1,
          1,
          1,
          1,
          1,
          1,
          1,
          1,
          1,
          1,
          1,
          1,
          1,
          1,
          1,
          1,
          1,
          1,
          1,
          1,
          1,
          1,
          1,
          1,
          1,
          1,
          1,
          1,
          1,
          1,
          1,
          1,
          1,
          1,
          1,
          1
         ],
         "yaxis": "y"
        },
        {
         "alignmentgroup": "True",
         "hovertemplate": "month=%{x}<br>count=%{y}<extra></extra>",
         "legendgroup": "Jan",
         "marker": {
          "color": "rgb(218,139,195)",
          "line": {
           "width": 0
          },
          "pattern": {
           "shape": ""
          }
         },
         "name": "Jan",
         "offsetgroup": "Jan",
         "orientation": "v",
         "showlegend": true,
         "textposition": "auto",
         "type": "bar",
         "x": [
          "Jan",
          "Jan",
          "Jan",
          "Jan",
          "Jan",
          "Jan",
          "Jan",
          "Jan",
          "Jan",
          "Jan",
          "Jan",
          "Jan",
          "Jan",
          "Jan",
          "Jan",
          "Jan",
          "Jan",
          "Jan",
          "Jan",
          "Jan",
          "Jan",
          "Jan",
          "Jan",
          "Jan",
          "Jan",
          "Jan",
          "Jan",
          "Jan",
          "Jan",
          "Jan",
          "Jan",
          "Jan",
          "Jan",
          "Jan",
          "Jan",
          "Jan",
          "Jan",
          "Jan",
          "Jan",
          "Jan",
          "Jan",
          "Jan",
          "Jan",
          "Jan",
          "Jan",
          "Jan",
          "Jan",
          "Jan",
          "Jan",
          "Jan"
         ],
         "xaxis": "x",
         "y": [
          1,
          1,
          1,
          1,
          1,
          1,
          1,
          1,
          1,
          1,
          1,
          1,
          1,
          1,
          1,
          1,
          1,
          1,
          1,
          1,
          1,
          1,
          1,
          1,
          1,
          1,
          1,
          1,
          1,
          1,
          1,
          1,
          1,
          1,
          1,
          1,
          1,
          1,
          1,
          1,
          1,
          1,
          1,
          1,
          1,
          1,
          1,
          1,
          1,
          1
         ],
         "yaxis": "y"
        },
        {
         "alignmentgroup": "True",
         "hovertemplate": "month=%{x}<br>count=%{y}<extra></extra>",
         "legendgroup": "Feb",
         "marker": {
          "color": "rgb(140,140,140)",
          "line": {
           "width": 0
          },
          "pattern": {
           "shape": ""
          }
         },
         "name": "Feb",
         "offsetgroup": "Feb",
         "orientation": "v",
         "showlegend": true,
         "textposition": "auto",
         "type": "bar",
         "x": [
          "Feb",
          "Feb",
          "Feb",
          "Feb",
          "Feb",
          "Feb",
          "Feb",
          "Feb",
          "Feb",
          "Feb",
          "Feb",
          "Feb",
          "Feb",
          "Feb",
          "Feb",
          "Feb",
          "Feb",
          "Feb",
          "Feb",
          "Feb",
          "Feb",
          "Feb",
          "Feb",
          "Feb",
          "Feb",
          "Feb",
          "Feb",
          "Feb",
          "Feb",
          "Feb",
          "Feb",
          "Feb",
          "Feb",
          "Feb",
          "Feb",
          "Feb",
          "Feb",
          "Feb",
          "Feb",
          "Feb",
          "Feb",
          "Feb",
          "Feb",
          "Feb",
          "Feb",
          "Feb",
          "Feb",
          "Feb",
          "Feb",
          "Feb",
          "Feb",
          "Feb",
          "Feb",
          "Feb",
          "Feb",
          "Feb",
          "Feb",
          "Feb",
          "Feb",
          "Feb",
          "Feb",
          "Feb",
          "Feb",
          "Feb",
          "Feb",
          "Feb",
          "Feb",
          "Feb",
          "Feb",
          "Feb",
          "Feb",
          "Feb"
         ],
         "xaxis": "x",
         "y": [
          1,
          1,
          1,
          1,
          1,
          1,
          1,
          1,
          1,
          1,
          1,
          1,
          1,
          1,
          1,
          1,
          1,
          1,
          1,
          1,
          1,
          1,
          1,
          1,
          1,
          1,
          1,
          1,
          1,
          1,
          1,
          1,
          1,
          1,
          1,
          1,
          1,
          1,
          1,
          1,
          1,
          1,
          1,
          1,
          1,
          1,
          1,
          1,
          1,
          1,
          1,
          1,
          1,
          1,
          1,
          1,
          1,
          1,
          1,
          1,
          1,
          1,
          1,
          1,
          1,
          1,
          1,
          1,
          1,
          1,
          1,
          1
         ],
         "yaxis": "y"
        },
        {
         "alignmentgroup": "True",
         "hovertemplate": "month=%{x}<br>count=%{y}<extra></extra>",
         "legendgroup": "Mar",
         "marker": {
          "color": "rgb(204,185,116)",
          "line": {
           "width": 0
          },
          "pattern": {
           "shape": ""
          }
         },
         "name": "Mar",
         "offsetgroup": "Mar",
         "orientation": "v",
         "showlegend": true,
         "textposition": "auto",
         "type": "bar",
         "x": [
          "Mar",
          "Mar",
          "Mar",
          "Mar",
          "Mar",
          "Mar",
          "Mar",
          "Mar",
          "Mar",
          "Mar",
          "Mar",
          "Mar",
          "Mar",
          "Mar",
          "Mar",
          "Mar",
          "Mar",
          "Mar",
          "Mar",
          "Mar",
          "Mar",
          "Mar",
          "Mar",
          "Mar",
          "Mar",
          "Mar",
          "Mar",
          "Mar",
          "Mar",
          "Mar",
          "Mar",
          "Mar",
          "Mar",
          "Mar",
          "Mar",
          "Mar",
          "Mar",
          "Mar",
          "Mar",
          "Mar",
          "Mar",
          "Mar",
          "Mar",
          "Mar",
          "Mar",
          "Mar",
          "Mar",
          "Mar",
          "Mar",
          "Mar",
          "Mar",
          "Mar",
          "Mar",
          "Mar",
          "Mar",
          "Mar",
          "Mar",
          "Mar",
          "Mar",
          "Mar",
          "Mar",
          "Mar",
          "Mar",
          "Mar",
          "Mar",
          "Mar",
          "Mar",
          "Mar",
          "Mar",
          "Mar",
          "Mar",
          "Mar",
          "Mar",
          "Mar",
          "Mar",
          "Mar",
          "Mar",
          "Mar",
          "Mar",
          "Mar",
          "Mar",
          "Mar",
          "Mar",
          "Mar",
          "Mar",
          "Mar",
          "Mar"
         ],
         "xaxis": "x",
         "y": [
          1,
          1,
          1,
          1,
          1,
          1,
          1,
          1,
          1,
          1,
          1,
          1,
          1,
          1,
          1,
          1,
          1,
          1,
          1,
          1,
          1,
          1,
          1,
          1,
          1,
          1,
          1,
          1,
          1,
          1,
          1,
          1,
          1,
          1,
          1,
          1,
          1,
          1,
          1,
          1,
          1,
          1,
          1,
          1,
          1,
          1,
          1,
          1,
          1,
          1,
          1,
          1,
          1,
          1,
          1,
          1,
          1,
          1,
          1,
          1,
          1,
          1,
          1,
          1,
          1,
          1,
          1,
          1,
          1,
          1,
          1,
          1,
          1,
          1,
          1,
          1,
          1,
          1,
          1,
          1,
          1,
          1,
          1,
          1,
          1,
          1,
          1
         ],
         "yaxis": "y"
        },
        {
         "alignmentgroup": "True",
         "hovertemplate": "month=%{x}<br>count=%{y}<extra></extra>",
         "legendgroup": "Apr",
         "marker": {
          "color": "rgb(100,181,205)",
          "line": {
           "width": 0
          },
          "pattern": {
           "shape": ""
          }
         },
         "name": "Apr",
         "offsetgroup": "Apr",
         "orientation": "v",
         "showlegend": true,
         "textposition": "auto",
         "type": "bar",
         "x": [
          "Apr",
          "Apr",
          "Apr",
          "Apr",
          "Apr",
          "Apr",
          "Apr",
          "Apr",
          "Apr",
          "Apr",
          "Apr",
          "Apr",
          "Apr",
          "Apr",
          "Apr",
          "Apr",
          "Apr",
          "Apr",
          "Apr",
          "Apr",
          "Apr",
          "Apr",
          "Apr",
          "Apr",
          "Apr",
          "Apr",
          "Apr",
          "Apr",
          "Apr",
          "Apr",
          "Apr",
          "Apr",
          "Apr",
          "Apr",
          "Apr",
          "Apr",
          "Apr",
          "Apr",
          "Apr",
          "Apr",
          "Apr",
          "Apr",
          "Apr",
          "Apr",
          "Apr",
          "Apr",
          "Apr",
          "Apr",
          "Apr",
          "Apr",
          "Apr",
          "Apr",
          "Apr"
         ],
         "xaxis": "x",
         "y": [
          1,
          1,
          1,
          1,
          1,
          1,
          1,
          1,
          1,
          1,
          1,
          1,
          1,
          1,
          1,
          1,
          1,
          1,
          1,
          1,
          1,
          1,
          1,
          1,
          1,
          1,
          1,
          1,
          1,
          1,
          1,
          1,
          1,
          1,
          1,
          1,
          1,
          1,
          1,
          1,
          1,
          1,
          1,
          1,
          1,
          1,
          1,
          1,
          1,
          1,
          1,
          1,
          1
         ],
         "yaxis": "y"
        },
        {
         "alignmentgroup": "True",
         "hovertemplate": "month=%{x}<br>count=%{y}<extra></extra>",
         "legendgroup": "May",
         "marker": {
          "color": "rgb(76,114,176)",
          "line": {
           "width": 0
          },
          "pattern": {
           "shape": ""
          }
         },
         "name": "May",
         "offsetgroup": "May",
         "orientation": "v",
         "showlegend": true,
         "textposition": "auto",
         "type": "bar",
         "x": [
          "May",
          "May",
          "May",
          "May",
          "May",
          "May",
          "May",
          "May",
          "May",
          "May",
          "May",
          "May",
          "May",
          "May",
          "May",
          "May",
          "May",
          "May",
          "May",
          "May",
          "May",
          "May",
          "May",
          "May",
          "May",
          "May",
          "May",
          "May",
          "May",
          "May",
          "May",
          "May",
          "May",
          "May",
          "May",
          "May",
          "May",
          "May",
          "May",
          "May",
          "May",
          "May",
          "May",
          "May",
          "May",
          "May",
          "May",
          "May",
          "May",
          "May",
          "May",
          "May",
          "May",
          "May",
          "May",
          "May",
          "May",
          "May",
          "May",
          "May",
          "May",
          "May",
          "May",
          "May"
         ],
         "xaxis": "x",
         "y": [
          1,
          1,
          1,
          1,
          1,
          1,
          1,
          1,
          1,
          1,
          1,
          1,
          1,
          1,
          1,
          1,
          1,
          1,
          1,
          1,
          1,
          1,
          1,
          1,
          1,
          1,
          1,
          1,
          1,
          1,
          1,
          1,
          1,
          1,
          1,
          1,
          1,
          1,
          1,
          1,
          1,
          1,
          1,
          1,
          1,
          1,
          1,
          1,
          1,
          1,
          1,
          1,
          1,
          1,
          1,
          1,
          1,
          1,
          1,
          1,
          1,
          1,
          1,
          1
         ],
         "yaxis": "y"
        },
        {
         "alignmentgroup": "True",
         "hovertemplate": "month=%{x}<br>count=%{y}<extra></extra>",
         "legendgroup": "Jun",
         "marker": {
          "color": "rgb(221,132,82)",
          "line": {
           "width": 0
          },
          "pattern": {
           "shape": ""
          }
         },
         "name": "Jun",
         "offsetgroup": "Jun",
         "orientation": "v",
         "showlegend": true,
         "textposition": "auto",
         "type": "bar",
         "x": [
          "Jun",
          "Jun",
          "Jun",
          "Jun",
          "Jun",
          "Jun",
          "Jun",
          "Jun",
          "Jun",
          "Jun",
          "Jun",
          "Jun",
          "Jun",
          "Jun",
          "Jun",
          "Jun",
          "Jun",
          "Jun",
          "Jun",
          "Jun",
          "Jun",
          "Jun",
          "Jun",
          "Jun",
          "Jun",
          "Jun",
          "Jun",
          "Jun",
          "Jun",
          "Jun",
          "Jun",
          "Jun",
          "Jun",
          "Jun",
          "Jun",
          "Jun",
          "Jun",
          "Jun",
          "Jun",
          "Jun",
          "Jun",
          "Jun",
          "Jun",
          "Jun",
          "Jun",
          "Jun",
          "Jun",
          "Jun",
          "Jun",
          "Jun",
          "Jun",
          "Jun",
          "Jun",
          "Jun"
         ],
         "xaxis": "x",
         "y": [
          1,
          1,
          1,
          1,
          1,
          1,
          1,
          1,
          1,
          1,
          1,
          1,
          1,
          1,
          1,
          1,
          1,
          1,
          1,
          1,
          1,
          1,
          1,
          1,
          1,
          1,
          1,
          1,
          1,
          1,
          1,
          1,
          1,
          1,
          1,
          1,
          1,
          1,
          1,
          1,
          1,
          1,
          1,
          1,
          1,
          1,
          1,
          1,
          1,
          1,
          1,
          1,
          1,
          1
         ],
         "yaxis": "y"
        },
        {
         "alignmentgroup": "True",
         "hovertemplate": "month=%{x}<br>count=%{y}<extra></extra>",
         "legendgroup": "Unkown",
         "marker": {
          "color": "rgb(85,168,104)",
          "line": {
           "width": 0
          },
          "pattern": {
           "shape": ""
          }
         },
         "name": "Unkown",
         "offsetgroup": "Unkown",
         "orientation": "v",
         "showlegend": true,
         "textposition": "auto",
         "type": "bar",
         "x": [
          "Unkown",
          "Unkown",
          "Unkown"
         ],
         "xaxis": "x",
         "y": [
          1,
          1,
          1
         ],
         "yaxis": "y"
        }
       ],
       "layout": {
        "barmode": "relative",
        "legend": {
         "title": {
          "text": "month"
         },
         "tracegroupgap": 0
        },
        "margin": {
         "t": 60
        },
        "template": {
         "data": {
          "bar": [
           {
            "error_x": {
             "color": "rgb(36,36,36)"
            },
            "error_y": {
             "color": "rgb(36,36,36)"
            },
            "marker": {
             "line": {
              "color": "rgb(234,234,242)",
              "width": 0.5
             },
             "pattern": {
              "fillmode": "overlay",
              "size": 10,
              "solidity": 0.2
             }
            },
            "type": "bar"
           }
          ],
          "barpolar": [
           {
            "marker": {
             "line": {
              "color": "rgb(234,234,242)",
              "width": 0.5
             },
             "pattern": {
              "fillmode": "overlay",
              "size": 10,
              "solidity": 0.2
             }
            },
            "type": "barpolar"
           }
          ],
          "carpet": [
           {
            "aaxis": {
             "endlinecolor": "rgb(36,36,36)",
             "gridcolor": "white",
             "linecolor": "white",
             "minorgridcolor": "white",
             "startlinecolor": "rgb(36,36,36)"
            },
            "baxis": {
             "endlinecolor": "rgb(36,36,36)",
             "gridcolor": "white",
             "linecolor": "white",
             "minorgridcolor": "white",
             "startlinecolor": "rgb(36,36,36)"
            },
            "type": "carpet"
           }
          ],
          "choropleth": [
           {
            "colorbar": {
             "outlinewidth": 0,
             "tickcolor": "rgb(36,36,36)",
             "ticklen": 8,
             "ticks": "outside",
             "tickwidth": 2
            },
            "type": "choropleth"
           }
          ],
          "contour": [
           {
            "colorbar": {
             "outlinewidth": 0,
             "tickcolor": "rgb(36,36,36)",
             "ticklen": 8,
             "ticks": "outside",
             "tickwidth": 2
            },
            "colorscale": [
             [
              0,
              "rgb(2,4,25)"
             ],
             [
              0.06274509803921569,
              "rgb(24,15,41)"
             ],
             [
              0.12549019607843137,
              "rgb(47,23,57)"
             ],
             [
              0.18823529411764706,
              "rgb(71,28,72)"
             ],
             [
              0.25098039215686274,
              "rgb(97,30,82)"
             ],
             [
              0.3137254901960784,
              "rgb(123,30,89)"
             ],
             [
              0.3764705882352941,
              "rgb(150,27,91)"
             ],
             [
              0.4392156862745098,
              "rgb(177,22,88)"
             ],
             [
              0.5019607843137255,
              "rgb(203,26,79)"
             ],
             [
              0.5647058823529412,
              "rgb(223,47,67)"
             ],
             [
              0.6274509803921569,
              "rgb(236,76,61)"
             ],
             [
              0.6901960784313725,
              "rgb(242,107,73)"
             ],
             [
              0.7529411764705882,
              "rgb(244,135,95)"
             ],
             [
              0.8156862745098039,
              "rgb(245,162,122)"
             ],
             [
              0.8784313725490196,
              "rgb(246,188,153)"
             ],
             [
              0.9411764705882353,
              "rgb(247,212,187)"
             ],
             [
              1,
              "rgb(250,234,220)"
             ]
            ],
            "type": "contour"
           }
          ],
          "contourcarpet": [
           {
            "colorbar": {
             "outlinewidth": 0,
             "tickcolor": "rgb(36,36,36)",
             "ticklen": 8,
             "ticks": "outside",
             "tickwidth": 2
            },
            "type": "contourcarpet"
           }
          ],
          "heatmap": [
           {
            "colorbar": {
             "outlinewidth": 0,
             "tickcolor": "rgb(36,36,36)",
             "ticklen": 8,
             "ticks": "outside",
             "tickwidth": 2
            },
            "colorscale": [
             [
              0,
              "rgb(2,4,25)"
             ],
             [
              0.06274509803921569,
              "rgb(24,15,41)"
             ],
             [
              0.12549019607843137,
              "rgb(47,23,57)"
             ],
             [
              0.18823529411764706,
              "rgb(71,28,72)"
             ],
             [
              0.25098039215686274,
              "rgb(97,30,82)"
             ],
             [
              0.3137254901960784,
              "rgb(123,30,89)"
             ],
             [
              0.3764705882352941,
              "rgb(150,27,91)"
             ],
             [
              0.4392156862745098,
              "rgb(177,22,88)"
             ],
             [
              0.5019607843137255,
              "rgb(203,26,79)"
             ],
             [
              0.5647058823529412,
              "rgb(223,47,67)"
             ],
             [
              0.6274509803921569,
              "rgb(236,76,61)"
             ],
             [
              0.6901960784313725,
              "rgb(242,107,73)"
             ],
             [
              0.7529411764705882,
              "rgb(244,135,95)"
             ],
             [
              0.8156862745098039,
              "rgb(245,162,122)"
             ],
             [
              0.8784313725490196,
              "rgb(246,188,153)"
             ],
             [
              0.9411764705882353,
              "rgb(247,212,187)"
             ],
             [
              1,
              "rgb(250,234,220)"
             ]
            ],
            "type": "heatmap"
           }
          ],
          "heatmapgl": [
           {
            "colorbar": {
             "outlinewidth": 0,
             "tickcolor": "rgb(36,36,36)",
             "ticklen": 8,
             "ticks": "outside",
             "tickwidth": 2
            },
            "colorscale": [
             [
              0,
              "rgb(2,4,25)"
             ],
             [
              0.06274509803921569,
              "rgb(24,15,41)"
             ],
             [
              0.12549019607843137,
              "rgb(47,23,57)"
             ],
             [
              0.18823529411764706,
              "rgb(71,28,72)"
             ],
             [
              0.25098039215686274,
              "rgb(97,30,82)"
             ],
             [
              0.3137254901960784,
              "rgb(123,30,89)"
             ],
             [
              0.3764705882352941,
              "rgb(150,27,91)"
             ],
             [
              0.4392156862745098,
              "rgb(177,22,88)"
             ],
             [
              0.5019607843137255,
              "rgb(203,26,79)"
             ],
             [
              0.5647058823529412,
              "rgb(223,47,67)"
             ],
             [
              0.6274509803921569,
              "rgb(236,76,61)"
             ],
             [
              0.6901960784313725,
              "rgb(242,107,73)"
             ],
             [
              0.7529411764705882,
              "rgb(244,135,95)"
             ],
             [
              0.8156862745098039,
              "rgb(245,162,122)"
             ],
             [
              0.8784313725490196,
              "rgb(246,188,153)"
             ],
             [
              0.9411764705882353,
              "rgb(247,212,187)"
             ],
             [
              1,
              "rgb(250,234,220)"
             ]
            ],
            "type": "heatmapgl"
           }
          ],
          "histogram": [
           {
            "marker": {
             "pattern": {
              "fillmode": "overlay",
              "size": 10,
              "solidity": 0.2
             }
            },
            "type": "histogram"
           }
          ],
          "histogram2d": [
           {
            "colorbar": {
             "outlinewidth": 0,
             "tickcolor": "rgb(36,36,36)",
             "ticklen": 8,
             "ticks": "outside",
             "tickwidth": 2
            },
            "colorscale": [
             [
              0,
              "rgb(2,4,25)"
             ],
             [
              0.06274509803921569,
              "rgb(24,15,41)"
             ],
             [
              0.12549019607843137,
              "rgb(47,23,57)"
             ],
             [
              0.18823529411764706,
              "rgb(71,28,72)"
             ],
             [
              0.25098039215686274,
              "rgb(97,30,82)"
             ],
             [
              0.3137254901960784,
              "rgb(123,30,89)"
             ],
             [
              0.3764705882352941,
              "rgb(150,27,91)"
             ],
             [
              0.4392156862745098,
              "rgb(177,22,88)"
             ],
             [
              0.5019607843137255,
              "rgb(203,26,79)"
             ],
             [
              0.5647058823529412,
              "rgb(223,47,67)"
             ],
             [
              0.6274509803921569,
              "rgb(236,76,61)"
             ],
             [
              0.6901960784313725,
              "rgb(242,107,73)"
             ],
             [
              0.7529411764705882,
              "rgb(244,135,95)"
             ],
             [
              0.8156862745098039,
              "rgb(245,162,122)"
             ],
             [
              0.8784313725490196,
              "rgb(246,188,153)"
             ],
             [
              0.9411764705882353,
              "rgb(247,212,187)"
             ],
             [
              1,
              "rgb(250,234,220)"
             ]
            ],
            "type": "histogram2d"
           }
          ],
          "histogram2dcontour": [
           {
            "colorbar": {
             "outlinewidth": 0,
             "tickcolor": "rgb(36,36,36)",
             "ticklen": 8,
             "ticks": "outside",
             "tickwidth": 2
            },
            "colorscale": [
             [
              0,
              "rgb(2,4,25)"
             ],
             [
              0.06274509803921569,
              "rgb(24,15,41)"
             ],
             [
              0.12549019607843137,
              "rgb(47,23,57)"
             ],
             [
              0.18823529411764706,
              "rgb(71,28,72)"
             ],
             [
              0.25098039215686274,
              "rgb(97,30,82)"
             ],
             [
              0.3137254901960784,
              "rgb(123,30,89)"
             ],
             [
              0.3764705882352941,
              "rgb(150,27,91)"
             ],
             [
              0.4392156862745098,
              "rgb(177,22,88)"
             ],
             [
              0.5019607843137255,
              "rgb(203,26,79)"
             ],
             [
              0.5647058823529412,
              "rgb(223,47,67)"
             ],
             [
              0.6274509803921569,
              "rgb(236,76,61)"
             ],
             [
              0.6901960784313725,
              "rgb(242,107,73)"
             ],
             [
              0.7529411764705882,
              "rgb(244,135,95)"
             ],
             [
              0.8156862745098039,
              "rgb(245,162,122)"
             ],
             [
              0.8784313725490196,
              "rgb(246,188,153)"
             ],
             [
              0.9411764705882353,
              "rgb(247,212,187)"
             ],
             [
              1,
              "rgb(250,234,220)"
             ]
            ],
            "type": "histogram2dcontour"
           }
          ],
          "mesh3d": [
           {
            "colorbar": {
             "outlinewidth": 0,
             "tickcolor": "rgb(36,36,36)",
             "ticklen": 8,
             "ticks": "outside",
             "tickwidth": 2
            },
            "type": "mesh3d"
           }
          ],
          "parcoords": [
           {
            "line": {
             "colorbar": {
              "outlinewidth": 0,
              "tickcolor": "rgb(36,36,36)",
              "ticklen": 8,
              "ticks": "outside",
              "tickwidth": 2
             }
            },
            "type": "parcoords"
           }
          ],
          "pie": [
           {
            "automargin": true,
            "type": "pie"
           }
          ],
          "scatter": [
           {
            "fillpattern": {
             "fillmode": "overlay",
             "size": 10,
             "solidity": 0.2
            },
            "type": "scatter"
           }
          ],
          "scatter3d": [
           {
            "line": {
             "colorbar": {
              "outlinewidth": 0,
              "tickcolor": "rgb(36,36,36)",
              "ticklen": 8,
              "ticks": "outside",
              "tickwidth": 2
             }
            },
            "marker": {
             "colorbar": {
              "outlinewidth": 0,
              "tickcolor": "rgb(36,36,36)",
              "ticklen": 8,
              "ticks": "outside",
              "tickwidth": 2
             }
            },
            "type": "scatter3d"
           }
          ],
          "scattercarpet": [
           {
            "marker": {
             "colorbar": {
              "outlinewidth": 0,
              "tickcolor": "rgb(36,36,36)",
              "ticklen": 8,
              "ticks": "outside",
              "tickwidth": 2
             }
            },
            "type": "scattercarpet"
           }
          ],
          "scattergeo": [
           {
            "marker": {
             "colorbar": {
              "outlinewidth": 0,
              "tickcolor": "rgb(36,36,36)",
              "ticklen": 8,
              "ticks": "outside",
              "tickwidth": 2
             }
            },
            "type": "scattergeo"
           }
          ],
          "scattergl": [
           {
            "marker": {
             "colorbar": {
              "outlinewidth": 0,
              "tickcolor": "rgb(36,36,36)",
              "ticklen": 8,
              "ticks": "outside",
              "tickwidth": 2
             }
            },
            "type": "scattergl"
           }
          ],
          "scattermapbox": [
           {
            "marker": {
             "colorbar": {
              "outlinewidth": 0,
              "tickcolor": "rgb(36,36,36)",
              "ticklen": 8,
              "ticks": "outside",
              "tickwidth": 2
             }
            },
            "type": "scattermapbox"
           }
          ],
          "scatterpolar": [
           {
            "marker": {
             "colorbar": {
              "outlinewidth": 0,
              "tickcolor": "rgb(36,36,36)",
              "ticklen": 8,
              "ticks": "outside",
              "tickwidth": 2
             }
            },
            "type": "scatterpolar"
           }
          ],
          "scatterpolargl": [
           {
            "marker": {
             "colorbar": {
              "outlinewidth": 0,
              "tickcolor": "rgb(36,36,36)",
              "ticklen": 8,
              "ticks": "outside",
              "tickwidth": 2
             }
            },
            "type": "scatterpolargl"
           }
          ],
          "scatterternary": [
           {
            "marker": {
             "colorbar": {
              "outlinewidth": 0,
              "tickcolor": "rgb(36,36,36)",
              "ticklen": 8,
              "ticks": "outside",
              "tickwidth": 2
             }
            },
            "type": "scatterternary"
           }
          ],
          "surface": [
           {
            "colorbar": {
             "outlinewidth": 0,
             "tickcolor": "rgb(36,36,36)",
             "ticklen": 8,
             "ticks": "outside",
             "tickwidth": 2
            },
            "colorscale": [
             [
              0,
              "rgb(2,4,25)"
             ],
             [
              0.06274509803921569,
              "rgb(24,15,41)"
             ],
             [
              0.12549019607843137,
              "rgb(47,23,57)"
             ],
             [
              0.18823529411764706,
              "rgb(71,28,72)"
             ],
             [
              0.25098039215686274,
              "rgb(97,30,82)"
             ],
             [
              0.3137254901960784,
              "rgb(123,30,89)"
             ],
             [
              0.3764705882352941,
              "rgb(150,27,91)"
             ],
             [
              0.4392156862745098,
              "rgb(177,22,88)"
             ],
             [
              0.5019607843137255,
              "rgb(203,26,79)"
             ],
             [
              0.5647058823529412,
              "rgb(223,47,67)"
             ],
             [
              0.6274509803921569,
              "rgb(236,76,61)"
             ],
             [
              0.6901960784313725,
              "rgb(242,107,73)"
             ],
             [
              0.7529411764705882,
              "rgb(244,135,95)"
             ],
             [
              0.8156862745098039,
              "rgb(245,162,122)"
             ],
             [
              0.8784313725490196,
              "rgb(246,188,153)"
             ],
             [
              0.9411764705882353,
              "rgb(247,212,187)"
             ],
             [
              1,
              "rgb(250,234,220)"
             ]
            ],
            "type": "surface"
           }
          ],
          "table": [
           {
            "cells": {
             "fill": {
              "color": "rgb(231,231,240)"
             },
             "line": {
              "color": "white"
             }
            },
            "header": {
             "fill": {
              "color": "rgb(183,183,191)"
             },
             "line": {
              "color": "white"
             }
            },
            "type": "table"
           }
          ]
         },
         "layout": {
          "annotationdefaults": {
           "arrowcolor": "rgb(67,103,167)"
          },
          "autotypenumbers": "strict",
          "coloraxis": {
           "colorbar": {
            "outlinewidth": 0,
            "tickcolor": "rgb(36,36,36)",
            "ticklen": 8,
            "ticks": "outside",
            "tickwidth": 2
           }
          },
          "colorscale": {
           "sequential": [
            [
             0,
             "rgb(2,4,25)"
            ],
            [
             0.06274509803921569,
             "rgb(24,15,41)"
            ],
            [
             0.12549019607843137,
             "rgb(47,23,57)"
            ],
            [
             0.18823529411764706,
             "rgb(71,28,72)"
            ],
            [
             0.25098039215686274,
             "rgb(97,30,82)"
            ],
            [
             0.3137254901960784,
             "rgb(123,30,89)"
            ],
            [
             0.3764705882352941,
             "rgb(150,27,91)"
            ],
            [
             0.4392156862745098,
             "rgb(177,22,88)"
            ],
            [
             0.5019607843137255,
             "rgb(203,26,79)"
            ],
            [
             0.5647058823529412,
             "rgb(223,47,67)"
            ],
            [
             0.6274509803921569,
             "rgb(236,76,61)"
            ],
            [
             0.6901960784313725,
             "rgb(242,107,73)"
            ],
            [
             0.7529411764705882,
             "rgb(244,135,95)"
            ],
            [
             0.8156862745098039,
             "rgb(245,162,122)"
            ],
            [
             0.8784313725490196,
             "rgb(246,188,153)"
            ],
            [
             0.9411764705882353,
             "rgb(247,212,187)"
            ],
            [
             1,
             "rgb(250,234,220)"
            ]
           ],
           "sequentialminus": [
            [
             0,
             "rgb(2,4,25)"
            ],
            [
             0.06274509803921569,
             "rgb(24,15,41)"
            ],
            [
             0.12549019607843137,
             "rgb(47,23,57)"
            ],
            [
             0.18823529411764706,
             "rgb(71,28,72)"
            ],
            [
             0.25098039215686274,
             "rgb(97,30,82)"
            ],
            [
             0.3137254901960784,
             "rgb(123,30,89)"
            ],
            [
             0.3764705882352941,
             "rgb(150,27,91)"
            ],
            [
             0.4392156862745098,
             "rgb(177,22,88)"
            ],
            [
             0.5019607843137255,
             "rgb(203,26,79)"
            ],
            [
             0.5647058823529412,
             "rgb(223,47,67)"
            ],
            [
             0.6274509803921569,
             "rgb(236,76,61)"
            ],
            [
             0.6901960784313725,
             "rgb(242,107,73)"
            ],
            [
             0.7529411764705882,
             "rgb(244,135,95)"
            ],
            [
             0.8156862745098039,
             "rgb(245,162,122)"
            ],
            [
             0.8784313725490196,
             "rgb(246,188,153)"
            ],
            [
             0.9411764705882353,
             "rgb(247,212,187)"
            ],
            [
             1,
             "rgb(250,234,220)"
            ]
           ]
          },
          "colorway": [
           "rgb(76,114,176)",
           "rgb(221,132,82)",
           "rgb(85,168,104)",
           "rgb(196,78,82)",
           "rgb(129,114,179)",
           "rgb(147,120,96)",
           "rgb(218,139,195)",
           "rgb(140,140,140)",
           "rgb(204,185,116)",
           "rgb(100,181,205)"
          ],
          "font": {
           "color": "rgb(36,36,36)"
          },
          "geo": {
           "bgcolor": "white",
           "lakecolor": "white",
           "landcolor": "rgb(234,234,242)",
           "showlakes": true,
           "showland": true,
           "subunitcolor": "white"
          },
          "hoverlabel": {
           "align": "left"
          },
          "hovermode": "closest",
          "paper_bgcolor": "white",
          "plot_bgcolor": "rgb(234,234,242)",
          "polar": {
           "angularaxis": {
            "gridcolor": "white",
            "linecolor": "white",
            "showgrid": true,
            "ticks": ""
           },
           "bgcolor": "rgb(234,234,242)",
           "radialaxis": {
            "gridcolor": "white",
            "linecolor": "white",
            "showgrid": true,
            "ticks": ""
           }
          },
          "scene": {
           "xaxis": {
            "backgroundcolor": "rgb(234,234,242)",
            "gridcolor": "white",
            "gridwidth": 2,
            "linecolor": "white",
            "showbackground": true,
            "showgrid": true,
            "ticks": "",
            "zerolinecolor": "white"
           },
           "yaxis": {
            "backgroundcolor": "rgb(234,234,242)",
            "gridcolor": "white",
            "gridwidth": 2,
            "linecolor": "white",
            "showbackground": true,
            "showgrid": true,
            "ticks": "",
            "zerolinecolor": "white"
           },
           "zaxis": {
            "backgroundcolor": "rgb(234,234,242)",
            "gridcolor": "white",
            "gridwidth": 2,
            "linecolor": "white",
            "showbackground": true,
            "showgrid": true,
            "ticks": "",
            "zerolinecolor": "white"
           }
          },
          "shapedefaults": {
           "fillcolor": "rgb(67,103,167)",
           "line": {
            "width": 0
           },
           "opacity": 0.5
          },
          "ternary": {
           "aaxis": {
            "gridcolor": "white",
            "linecolor": "white",
            "showgrid": true,
            "ticks": ""
           },
           "baxis": {
            "gridcolor": "white",
            "linecolor": "white",
            "showgrid": true,
            "ticks": ""
           },
           "bgcolor": "rgb(234,234,242)",
           "caxis": {
            "gridcolor": "white",
            "linecolor": "white",
            "showgrid": true,
            "ticks": ""
           }
          },
          "xaxis": {
           "automargin": true,
           "gridcolor": "white",
           "linecolor": "white",
           "showgrid": true,
           "ticks": "",
           "title": {
            "standoff": 15
           },
           "zerolinecolor": "white"
          },
          "yaxis": {
           "automargin": true,
           "gridcolor": "white",
           "linecolor": "white",
           "showgrid": true,
           "ticks": "",
           "title": {
            "standoff": 15
           },
           "zerolinecolor": "white"
          }
         }
        },
        "xaxis": {
         "anchor": "y",
         "categoryarray": [
          "Jul",
          "Aug",
          "Sep",
          "Oct",
          "Nov",
          "Dec",
          "Jan",
          "Feb",
          "Mar",
          "Apr",
          "May",
          "Jun",
          "Unkown"
         ],
         "categoryorder": "array",
         "domain": [
          0,
          1
         ],
         "title": {
          "text": "month"
         }
        },
        "yaxis": {
         "anchor": "x",
         "domain": [
          0,
          1
         ],
         "title": {
          "text": "count"
         }
        }
       }
      }
     },
     "metadata": {},
     "output_type": "display_data"
    }
   ],
   "source": [
    "fig = px.bar(df, x=\"month\", color=\"month\")\n",
    "fig.update_traces(dict(marker_line_width=0))\n",
    "fig.show()"
   ]
  },
  {
   "cell_type": "code",
   "execution_count": null,
   "id": "73919bc1",
   "metadata": {},
   "outputs": [],
   "source": []
  },
  {
   "attachments": {},
   "cell_type": "markdown",
   "id": "fbe3cf16",
   "metadata": {},
   "source": [
    "Write preprocessed file to storage to be used in `main.py`"
   ]
  },
  {
   "cell_type": "code",
   "execution_count": 130,
   "id": "5b60cf03",
   "metadata": {},
   "outputs": [],
   "source": [
    "df.to_csv(\"data/preprocessed/absenteeism_at_work_preprocessed.csv\",index=False)"
   ]
  },
  {
   "cell_type": "code",
   "execution_count": null,
   "id": "2d61a540",
   "metadata": {},
   "outputs": [],
   "source": []
  }
 ],
 "metadata": {
  "kernelspec": {
   "display_name": ".venv",
   "language": "python",
   "name": "python3"
  },
  "language_info": {
   "codemirror_mode": {
    "name": "ipython",
    "version": 3
   },
   "file_extension": ".py",
   "mimetype": "text/x-python",
   "name": "python",
   "nbconvert_exporter": "python",
   "pygments_lexer": "ipython3",
   "version": "3.9.12"
  },
  "vscode": {
   "interpreter": {
    "hash": "5f794bdd9ae3ffb1bdf9fdde55f6fe035b32b54e54861b9d1527d89ae86036ab"
   }
  }
 },
 "nbformat": 4,
 "nbformat_minor": 5
}
