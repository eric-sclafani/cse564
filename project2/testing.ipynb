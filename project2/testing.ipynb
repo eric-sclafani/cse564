{
 "cells": [
  {
   "cell_type": "code",
   "execution_count": 1,
   "id": "040c0516",
   "metadata": {},
   "outputs": [],
   "source": [
    "import plotly.express as px\n",
    "from sklearn.decomposition import PCA\n",
    "from sklearn.preprocessing import StandardScaler\n",
    "import pandas as pd \n",
    "\n",
    "scaler = StandardScaler()\n",
    "df = pd.read_csv(\"data/pan22_features.csv\", index_col=None)\n",
    "\n",
    "X = df.drop(columns=[\"author_id\", \"discourse_type\"]).values\n",
    "Y = df[\"author_id\"].values"
   ]
  },
  {
   "attachments": {},
   "cell_type": "markdown",
   "id": "e4fea065",
   "metadata": {},
   "source": [
    "# n_components experiments\n",
    "\n",
    "The following cell finds the `number of components` most suited for this data, which turns out to be 8"
   ]
  },
  {
   "cell_type": "code",
   "execution_count": 4,
   "id": "e13ee061",
   "metadata": {},
   "outputs": [
    {
     "name": "stdout",
     "output_type": "stream",
     "text": [
      "n_components: 1, Explained variance: 132.62490735275307\n",
      "n_components: 2, Explained variance: 22.34450817452881\n",
      "n_components: 3, Explained variance: 8.21835634589143\n",
      "n_components: 4, Explained variance: 7.11665194366993\n",
      "n_components: 5, Explained variance: 5.966045891674287\n",
      "n_components: 6, Explained variance: 5.617388246266435\n",
      "n_components: 7, Explained variance: 5.035065604382839\n",
      "Final n = 7\n",
      "Final Explained variance = [132.62490735  22.34450817   8.21835806   7.11665118   5.96606375\n",
      "   5.61739472   5.0350656 ]\n"
     ]
    }
   ],
   "source": [
    "X_scaled = scaler.fit_transform(X)\n",
    "\n",
    "THRESHOLD = 5.5\n",
    "for n in range(1,100):\n",
    "    pca = PCA(n_components=n)\n",
    "    pca_features = pca.fit_transform(X_scaled)\n",
    "    print(f\"n_components: {n}, Explained variance: {pca.explained_variance_[-1]}\")\n",
    "    \n",
    "    if pca.explained_variance_[-1] < THRESHOLD:\n",
    "        print(f\"Final n = {n}\")\n",
    "        print(f\"Final Explained variance = {pca.explained_variance_}\")\n",
    "        break\n",
    "    "
   ]
  },
  {
   "cell_type": "code",
   "execution_count": null,
   "id": "512454d4",
   "metadata": {},
   "outputs": [],
   "source": []
  },
  {
   "cell_type": "code",
   "execution_count": null,
   "id": "7714e594",
   "metadata": {},
   "outputs": [],
   "source": []
  },
  {
   "cell_type": "code",
   "execution_count": null,
   "id": "59990951",
   "metadata": {},
   "outputs": [],
   "source": []
  }
 ],
 "metadata": {
  "kernelspec": {
   "display_name": ".venv",
   "language": "python",
   "name": "python3"
  },
  "language_info": {
   "codemirror_mode": {
    "name": "ipython",
    "version": 3
   },
   "file_extension": ".py",
   "mimetype": "text/x-python",
   "name": "python",
   "nbconvert_exporter": "python",
   "pygments_lexer": "ipython3",
   "version": "3.9.12"
  },
  "vscode": {
   "interpreter": {
    "hash": "5f794bdd9ae3ffb1bdf9fdde55f6fe035b32b54e54861b9d1527d89ae86036ab"
   }
  }
 },
 "nbformat": 4,
 "nbformat_minor": 5
}
