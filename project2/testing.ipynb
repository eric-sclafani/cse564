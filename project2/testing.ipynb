{
 "cells": [
  {
   "cell_type": "code",
   "execution_count": 57,
   "id": "040c0516",
   "metadata": {},
   "outputs": [],
   "source": [
    "import plotly.express as px\n",
    "from sklearn.decomposition import PCA\n",
    "from sklearn.preprocessing import StandardScaler\n",
    "import pandas as pd \n",
    "\n",
    "scaler = StandardScaler()\n",
    "df = pd.read_csv(\"data/pan22_features.csv\", index_col=None)\n",
    "\n",
    "X = df.drop(columns=[\"author_id\", \"discourse_type\"]).values\n",
    "Y = df[\"author_id\"].values"
   ]
  },
  {
   "cell_type": "code",
   "execution_count": null,
   "id": "e13ee061",
   "metadata": {},
   "outputs": [],
   "source": [
    "X_scaled = scaler.fit_transform(X)\n",
    "\n",
    "\n",
    "for n in range(1,100):\n",
    "    pca = PCA(n_components=n)\n",
    "    pca.fit(X_scaled)\n",
    "    \n",
    "    print(pca.explained_variance_[-1])\n",
    "    if pca.explained_variance_[-1] < 1:\n",
    "        break\n",
    "    \n"
   ]
  },
  {
   "cell_type": "code",
   "execution_count": 86,
   "id": "a7494268",
   "metadata": {},
   "outputs": [
    {
     "ename": "AttributeError",
     "evalue": "'PCA' object has no attribute 'explained_variance_'",
     "output_type": "error",
     "traceback": [
      "\u001b[0;31m---------------------------------------------------------------------------\u001b[0m",
      "\u001b[0;31mAttributeError\u001b[0m                            Traceback (most recent call last)",
      "Cell \u001b[0;32mIn[86], line 1\u001b[0m\n\u001b[0;32m----> 1\u001b[0m pca\u001b[39m.\u001b[39;49mexplained_variance_\n",
      "\u001b[0;31mAttributeError\u001b[0m: 'PCA' object has no attribute 'explained_variance_'"
     ]
    }
   ],
   "source": []
  },
  {
   "cell_type": "code",
   "execution_count": null,
   "id": "e332a854",
   "metadata": {},
   "outputs": [],
   "source": []
  }
 ],
 "metadata": {
  "kernelspec": {
   "display_name": ".venv",
   "language": "python",
   "name": "python3"
  },
  "language_info": {
   "codemirror_mode": {
    "name": "ipython",
    "version": 3
   },
   "file_extension": ".py",
   "mimetype": "text/x-python",
   "name": "python",
   "nbconvert_exporter": "python",
   "pygments_lexer": "ipython3",
   "version": "3.9.12"
  },
  "vscode": {
   "interpreter": {
    "hash": "5f794bdd9ae3ffb1bdf9fdde55f6fe035b32b54e54861b9d1527d89ae86036ab"
   }
  }
 },
 "nbformat": 4,
 "nbformat_minor": 5
}
